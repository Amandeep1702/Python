{
 "cells": [
  {
   "cell_type": "code",
   "execution_count": 1,
   "id": "70cfc785",
   "metadata": {},
   "outputs": [],
   "source": [
    "import numpy as np\n",
    "import pandas as pd\n",
    "import matplotlib.pyplot as plt\n",
    "import seaborn as sns\n",
    "import scipy.stats as stat\n",
    "import warnings\n",
    "warnings.filterwarnings('ignore')"
   ]
  },
  {
   "cell_type": "markdown",
   "id": "ad7a4804",
   "metadata": {},
   "source": [
    "## Reading and Analysing the Dataset"
   ]
  },
  {
   "cell_type": "code",
   "execution_count": 2,
   "id": "1ce2c13e",
   "metadata": {},
   "outputs": [],
   "source": [
    "data = pd.read_csv('C:/Users/sebam/Downloads/Python/Labour training/LabourTrainingEvaluationData.csv', na_values=[0])"
   ]
  },
  {
   "cell_type": "code",
   "execution_count": 3,
   "id": "d6054347",
   "metadata": {},
   "outputs": [],
   "source": [
    "data['Nodeg']= np.where(data['Nodeg'].isnull(),0,data['Nodeg'])\n",
    "data['Nodeg']= data['Nodeg'].astype(int)"
   ]
  },
  {
   "cell_type": "code",
   "execution_count": 4,
   "id": "cd48bed2",
   "metadata": {},
   "outputs": [
    {
     "data": {
      "text/html": [
       "<div>\n",
       "<style scoped>\n",
       "    .dataframe tbody tr th:only-of-type {\n",
       "        vertical-align: middle;\n",
       "    }\n",
       "\n",
       "    .dataframe tbody tr th {\n",
       "        vertical-align: top;\n",
       "    }\n",
       "\n",
       "    .dataframe thead th {\n",
       "        text-align: right;\n",
       "    }\n",
       "</style>\n",
       "<table border=\"1\" class=\"dataframe\">\n",
       "  <thead>\n",
       "    <tr style=\"text-align: right;\">\n",
       "      <th></th>\n",
       "      <th>Age</th>\n",
       "      <th>Eduacation</th>\n",
       "      <th>Race</th>\n",
       "      <th>Hisp</th>\n",
       "      <th>MaritalStatus</th>\n",
       "      <th>Nodeg</th>\n",
       "      <th>Earnings_1974</th>\n",
       "      <th>Earnings_1975</th>\n",
       "      <th>Earnings_1978</th>\n",
       "    </tr>\n",
       "  </thead>\n",
       "  <tbody>\n",
       "    <tr>\n",
       "      <th>0</th>\n",
       "      <td>45</td>\n",
       "      <td>LessThanHighSchool</td>\n",
       "      <td>NotBlack</td>\n",
       "      <td>NotHispanic</td>\n",
       "      <td>Married</td>\n",
       "      <td>1</td>\n",
       "      <td>21516.670</td>\n",
       "      <td>25243.550</td>\n",
       "      <td>25564.670</td>\n",
       "    </tr>\n",
       "    <tr>\n",
       "      <th>1</th>\n",
       "      <td>21</td>\n",
       "      <td>Intermediate</td>\n",
       "      <td>NotBlack</td>\n",
       "      <td>NotHispanic</td>\n",
       "      <td>NotMarried</td>\n",
       "      <td>0</td>\n",
       "      <td>3175.971</td>\n",
       "      <td>5852.565</td>\n",
       "      <td>13496.080</td>\n",
       "    </tr>\n",
       "    <tr>\n",
       "      <th>2</th>\n",
       "      <td>38</td>\n",
       "      <td>HighSchool</td>\n",
       "      <td>NotBlack</td>\n",
       "      <td>NotHispanic</td>\n",
       "      <td>Married</td>\n",
       "      <td>0</td>\n",
       "      <td>23039.020</td>\n",
       "      <td>25130.760</td>\n",
       "      <td>25564.670</td>\n",
       "    </tr>\n",
       "    <tr>\n",
       "      <th>3</th>\n",
       "      <td>48</td>\n",
       "      <td>LessThanHighSchool</td>\n",
       "      <td>NotBlack</td>\n",
       "      <td>NotHispanic</td>\n",
       "      <td>Married</td>\n",
       "      <td>1</td>\n",
       "      <td>24994.370</td>\n",
       "      <td>25243.550</td>\n",
       "      <td>25564.670</td>\n",
       "    </tr>\n",
       "    <tr>\n",
       "      <th>4</th>\n",
       "      <td>18</td>\n",
       "      <td>LessThanHighSchool</td>\n",
       "      <td>NotBlack</td>\n",
       "      <td>NotHispanic</td>\n",
       "      <td>Married</td>\n",
       "      <td>1</td>\n",
       "      <td>1669.295</td>\n",
       "      <td>10727.610</td>\n",
       "      <td>9860.869</td>\n",
       "    </tr>\n",
       "    <tr>\n",
       "      <th>...</th>\n",
       "      <td>...</td>\n",
       "      <td>...</td>\n",
       "      <td>...</td>\n",
       "      <td>...</td>\n",
       "      <td>...</td>\n",
       "      <td>...</td>\n",
       "      <td>...</td>\n",
       "      <td>...</td>\n",
       "      <td>...</td>\n",
       "    </tr>\n",
       "    <tr>\n",
       "      <th>15987</th>\n",
       "      <td>22</td>\n",
       "      <td>HighSchool</td>\n",
       "      <td>black</td>\n",
       "      <td>NotHispanic</td>\n",
       "      <td>NotMarried</td>\n",
       "      <td>0</td>\n",
       "      <td>3975.352</td>\n",
       "      <td>6801.435</td>\n",
       "      <td>2757.438</td>\n",
       "    </tr>\n",
       "    <tr>\n",
       "      <th>15988</th>\n",
       "      <td>20</td>\n",
       "      <td>HighSchool</td>\n",
       "      <td>black</td>\n",
       "      <td>NotHispanic</td>\n",
       "      <td>Married</td>\n",
       "      <td>0</td>\n",
       "      <td>1445.939</td>\n",
       "      <td>11832.240</td>\n",
       "      <td>6895.072</td>\n",
       "    </tr>\n",
       "    <tr>\n",
       "      <th>15989</th>\n",
       "      <td>37</td>\n",
       "      <td>HighSchool</td>\n",
       "      <td>NotBlack</td>\n",
       "      <td>NotHispanic</td>\n",
       "      <td>NotMarried</td>\n",
       "      <td>0</td>\n",
       "      <td>1733.951</td>\n",
       "      <td>1559.371</td>\n",
       "      <td>4221.865</td>\n",
       "    </tr>\n",
       "    <tr>\n",
       "      <th>15990</th>\n",
       "      <td>47</td>\n",
       "      <td>LessThanHighSchool</td>\n",
       "      <td>NotBlack</td>\n",
       "      <td>NotHispanic</td>\n",
       "      <td>Married</td>\n",
       "      <td>1</td>\n",
       "      <td>16914.350</td>\n",
       "      <td>11384.660</td>\n",
       "      <td>13671.930</td>\n",
       "    </tr>\n",
       "    <tr>\n",
       "      <th>15991</th>\n",
       "      <td>40</td>\n",
       "      <td>LessThanHighSchool</td>\n",
       "      <td>NotBlack</td>\n",
       "      <td>NotHispanic</td>\n",
       "      <td>NotMarried</td>\n",
       "      <td>1</td>\n",
       "      <td>13628.660</td>\n",
       "      <td>13144.550</td>\n",
       "      <td>7979.724</td>\n",
       "    </tr>\n",
       "  </tbody>\n",
       "</table>\n",
       "<p>15992 rows × 9 columns</p>\n",
       "</div>"
      ],
      "text/plain": [
       "       Age          Eduacation      Race         Hisp MaritalStatus  Nodeg  \\\n",
       "0       45  LessThanHighSchool  NotBlack  NotHispanic       Married      1   \n",
       "1       21        Intermediate  NotBlack  NotHispanic    NotMarried      0   \n",
       "2       38          HighSchool  NotBlack  NotHispanic       Married      0   \n",
       "3       48  LessThanHighSchool  NotBlack  NotHispanic       Married      1   \n",
       "4       18  LessThanHighSchool  NotBlack  NotHispanic       Married      1   \n",
       "...    ...                 ...       ...          ...           ...    ...   \n",
       "15987   22          HighSchool     black  NotHispanic    NotMarried      0   \n",
       "15988   20          HighSchool     black  NotHispanic       Married      0   \n",
       "15989   37          HighSchool  NotBlack  NotHispanic    NotMarried      0   \n",
       "15990   47  LessThanHighSchool  NotBlack  NotHispanic       Married      1   \n",
       "15991   40  LessThanHighSchool  NotBlack  NotHispanic    NotMarried      1   \n",
       "\n",
       "       Earnings_1974  Earnings_1975  Earnings_1978  \n",
       "0          21516.670      25243.550      25564.670  \n",
       "1           3175.971       5852.565      13496.080  \n",
       "2          23039.020      25130.760      25564.670  \n",
       "3          24994.370      25243.550      25564.670  \n",
       "4           1669.295      10727.610       9860.869  \n",
       "...              ...            ...            ...  \n",
       "15987       3975.352       6801.435       2757.438  \n",
       "15988       1445.939      11832.240       6895.072  \n",
       "15989       1733.951       1559.371       4221.865  \n",
       "15990      16914.350      11384.660      13671.930  \n",
       "15991      13628.660      13144.550       7979.724  \n",
       "\n",
       "[15992 rows x 9 columns]"
      ]
     },
     "execution_count": 4,
     "metadata": {},
     "output_type": "execute_result"
    }
   ],
   "source": [
    "data"
   ]
  },
  {
   "cell_type": "code",
   "execution_count": 13,
   "id": "07b524c5",
   "metadata": {},
   "outputs": [],
   "source": [
    "data= data.dropna()"
   ]
  },
  {
   "cell_type": "code",
   "execution_count": 14,
   "id": "90ffceae",
   "metadata": {},
   "outputs": [
    {
     "data": {
      "text/html": [
       "<div>\n",
       "<style scoped>\n",
       "    .dataframe tbody tr th:only-of-type {\n",
       "        vertical-align: middle;\n",
       "    }\n",
       "\n",
       "    .dataframe tbody tr th {\n",
       "        vertical-align: top;\n",
       "    }\n",
       "\n",
       "    .dataframe thead th {\n",
       "        text-align: right;\n",
       "    }\n",
       "</style>\n",
       "<table border=\"1\" class=\"dataframe\">\n",
       "  <thead>\n",
       "    <tr style=\"text-align: right;\">\n",
       "      <th></th>\n",
       "      <th>Age</th>\n",
       "      <th>Eduacation</th>\n",
       "      <th>Race</th>\n",
       "      <th>Hisp</th>\n",
       "      <th>MaritalStatus</th>\n",
       "      <th>Nodeg</th>\n",
       "      <th>Earnings_1974</th>\n",
       "      <th>Earnings_1975</th>\n",
       "      <th>Earnings_1978</th>\n",
       "    </tr>\n",
       "  </thead>\n",
       "  <tbody>\n",
       "    <tr>\n",
       "      <th>0</th>\n",
       "      <td>45</td>\n",
       "      <td>LessThanHighSchool</td>\n",
       "      <td>NotBlack</td>\n",
       "      <td>NotHispanic</td>\n",
       "      <td>Married</td>\n",
       "      <td>1</td>\n",
       "      <td>21516.670</td>\n",
       "      <td>25243.550</td>\n",
       "      <td>25564.670</td>\n",
       "    </tr>\n",
       "    <tr>\n",
       "      <th>1</th>\n",
       "      <td>21</td>\n",
       "      <td>Intermediate</td>\n",
       "      <td>NotBlack</td>\n",
       "      <td>NotHispanic</td>\n",
       "      <td>NotMarried</td>\n",
       "      <td>0</td>\n",
       "      <td>3175.971</td>\n",
       "      <td>5852.565</td>\n",
       "      <td>13496.080</td>\n",
       "    </tr>\n",
       "    <tr>\n",
       "      <th>2</th>\n",
       "      <td>38</td>\n",
       "      <td>HighSchool</td>\n",
       "      <td>NotBlack</td>\n",
       "      <td>NotHispanic</td>\n",
       "      <td>Married</td>\n",
       "      <td>0</td>\n",
       "      <td>23039.020</td>\n",
       "      <td>25130.760</td>\n",
       "      <td>25564.670</td>\n",
       "    </tr>\n",
       "    <tr>\n",
       "      <th>3</th>\n",
       "      <td>48</td>\n",
       "      <td>LessThanHighSchool</td>\n",
       "      <td>NotBlack</td>\n",
       "      <td>NotHispanic</td>\n",
       "      <td>Married</td>\n",
       "      <td>1</td>\n",
       "      <td>24994.370</td>\n",
       "      <td>25243.550</td>\n",
       "      <td>25564.670</td>\n",
       "    </tr>\n",
       "    <tr>\n",
       "      <th>4</th>\n",
       "      <td>18</td>\n",
       "      <td>LessThanHighSchool</td>\n",
       "      <td>NotBlack</td>\n",
       "      <td>NotHispanic</td>\n",
       "      <td>Married</td>\n",
       "      <td>1</td>\n",
       "      <td>1669.295</td>\n",
       "      <td>10727.610</td>\n",
       "      <td>9860.869</td>\n",
       "    </tr>\n",
       "    <tr>\n",
       "      <th>...</th>\n",
       "      <td>...</td>\n",
       "      <td>...</td>\n",
       "      <td>...</td>\n",
       "      <td>...</td>\n",
       "      <td>...</td>\n",
       "      <td>...</td>\n",
       "      <td>...</td>\n",
       "      <td>...</td>\n",
       "      <td>...</td>\n",
       "    </tr>\n",
       "    <tr>\n",
       "      <th>15987</th>\n",
       "      <td>22</td>\n",
       "      <td>HighSchool</td>\n",
       "      <td>black</td>\n",
       "      <td>NotHispanic</td>\n",
       "      <td>NotMarried</td>\n",
       "      <td>0</td>\n",
       "      <td>3975.352</td>\n",
       "      <td>6801.435</td>\n",
       "      <td>2757.438</td>\n",
       "    </tr>\n",
       "    <tr>\n",
       "      <th>15988</th>\n",
       "      <td>20</td>\n",
       "      <td>HighSchool</td>\n",
       "      <td>black</td>\n",
       "      <td>NotHispanic</td>\n",
       "      <td>Married</td>\n",
       "      <td>0</td>\n",
       "      <td>1445.939</td>\n",
       "      <td>11832.240</td>\n",
       "      <td>6895.072</td>\n",
       "    </tr>\n",
       "    <tr>\n",
       "      <th>15989</th>\n",
       "      <td>37</td>\n",
       "      <td>HighSchool</td>\n",
       "      <td>NotBlack</td>\n",
       "      <td>NotHispanic</td>\n",
       "      <td>NotMarried</td>\n",
       "      <td>0</td>\n",
       "      <td>1733.951</td>\n",
       "      <td>1559.371</td>\n",
       "      <td>4221.865</td>\n",
       "    </tr>\n",
       "    <tr>\n",
       "      <th>15990</th>\n",
       "      <td>47</td>\n",
       "      <td>LessThanHighSchool</td>\n",
       "      <td>NotBlack</td>\n",
       "      <td>NotHispanic</td>\n",
       "      <td>Married</td>\n",
       "      <td>1</td>\n",
       "      <td>16914.350</td>\n",
       "      <td>11384.660</td>\n",
       "      <td>13671.930</td>\n",
       "    </tr>\n",
       "    <tr>\n",
       "      <th>15991</th>\n",
       "      <td>40</td>\n",
       "      <td>LessThanHighSchool</td>\n",
       "      <td>NotBlack</td>\n",
       "      <td>NotHispanic</td>\n",
       "      <td>NotMarried</td>\n",
       "      <td>1</td>\n",
       "      <td>13628.660</td>\n",
       "      <td>13144.550</td>\n",
       "      <td>7979.724</td>\n",
       "    </tr>\n",
       "  </tbody>\n",
       "</table>\n",
       "<p>12442 rows × 9 columns</p>\n",
       "</div>"
      ],
      "text/plain": [
       "       Age          Eduacation      Race         Hisp MaritalStatus  Nodeg  \\\n",
       "0       45  LessThanHighSchool  NotBlack  NotHispanic       Married      1   \n",
       "1       21        Intermediate  NotBlack  NotHispanic    NotMarried      0   \n",
       "2       38          HighSchool  NotBlack  NotHispanic       Married      0   \n",
       "3       48  LessThanHighSchool  NotBlack  NotHispanic       Married      1   \n",
       "4       18  LessThanHighSchool  NotBlack  NotHispanic       Married      1   \n",
       "...    ...                 ...       ...          ...           ...    ...   \n",
       "15987   22          HighSchool     black  NotHispanic    NotMarried      0   \n",
       "15988   20          HighSchool     black  NotHispanic       Married      0   \n",
       "15989   37          HighSchool  NotBlack  NotHispanic    NotMarried      0   \n",
       "15990   47  LessThanHighSchool  NotBlack  NotHispanic       Married      1   \n",
       "15991   40  LessThanHighSchool  NotBlack  NotHispanic    NotMarried      1   \n",
       "\n",
       "       Earnings_1974  Earnings_1975  Earnings_1978  \n",
       "0          21516.670      25243.550      25564.670  \n",
       "1           3175.971       5852.565      13496.080  \n",
       "2          23039.020      25130.760      25564.670  \n",
       "3          24994.370      25243.550      25564.670  \n",
       "4           1669.295      10727.610       9860.869  \n",
       "...              ...            ...            ...  \n",
       "15987       3975.352       6801.435       2757.438  \n",
       "15988       1445.939      11832.240       6895.072  \n",
       "15989       1733.951       1559.371       4221.865  \n",
       "15990      16914.350      11384.660      13671.930  \n",
       "15991      13628.660      13144.550       7979.724  \n",
       "\n",
       "[12442 rows x 9 columns]"
      ]
     },
     "execution_count": 14,
     "metadata": {},
     "output_type": "execute_result"
    }
   ],
   "source": [
    "data"
   ]
  },
  {
   "cell_type": "code",
   "execution_count": 15,
   "id": "5a0a1144",
   "metadata": {},
   "outputs": [
    {
     "name": "stdout",
     "output_type": "stream",
     "text": [
      "No. of Rows 12442\n",
      "No. of Columns 9\n"
     ]
    }
   ],
   "source": [
    "print('No. of Rows', data.shape[0])\n",
    "print('No. of Columns', data.shape[1])"
   ]
  },
  {
   "cell_type": "code",
   "execution_count": 16,
   "id": "f972657f",
   "metadata": {},
   "outputs": [
    {
     "data": {
      "text/html": [
       "<div>\n",
       "<style scoped>\n",
       "    .dataframe tbody tr th:only-of-type {\n",
       "        vertical-align: middle;\n",
       "    }\n",
       "\n",
       "    .dataframe tbody tr th {\n",
       "        vertical-align: top;\n",
       "    }\n",
       "\n",
       "    .dataframe thead th {\n",
       "        text-align: right;\n",
       "    }\n",
       "</style>\n",
       "<table border=\"1\" class=\"dataframe\">\n",
       "  <thead>\n",
       "    <tr style=\"text-align: right;\">\n",
       "      <th></th>\n",
       "      <th>Age</th>\n",
       "      <th>Eduacation</th>\n",
       "      <th>Race</th>\n",
       "      <th>Hisp</th>\n",
       "      <th>MaritalStatus</th>\n",
       "      <th>Nodeg</th>\n",
       "      <th>Earnings_1974</th>\n",
       "      <th>Earnings_1975</th>\n",
       "      <th>Earnings_1978</th>\n",
       "    </tr>\n",
       "  </thead>\n",
       "  <tbody>\n",
       "    <tr>\n",
       "      <th>15980</th>\n",
       "      <td>45</td>\n",
       "      <td>Intermediate</td>\n",
       "      <td>NotBlack</td>\n",
       "      <td>hispanic</td>\n",
       "      <td>Married</td>\n",
       "      <td>0</td>\n",
       "      <td>22390.500</td>\n",
       "      <td>22559.850</td>\n",
       "      <td>25564.670</td>\n",
       "    </tr>\n",
       "    <tr>\n",
       "      <th>15981</th>\n",
       "      <td>22</td>\n",
       "      <td>Intermediate</td>\n",
       "      <td>NotBlack</td>\n",
       "      <td>hispanic</td>\n",
       "      <td>NotMarried</td>\n",
       "      <td>0</td>\n",
       "      <td>7684.244</td>\n",
       "      <td>5281.452</td>\n",
       "      <td>6014.347</td>\n",
       "    </tr>\n",
       "    <tr>\n",
       "      <th>15982</th>\n",
       "      <td>27</td>\n",
       "      <td>Intermediate</td>\n",
       "      <td>NotBlack</td>\n",
       "      <td>NotHispanic</td>\n",
       "      <td>Married</td>\n",
       "      <td>0</td>\n",
       "      <td>25507.690</td>\n",
       "      <td>25243.550</td>\n",
       "      <td>25564.670</td>\n",
       "    </tr>\n",
       "    <tr>\n",
       "      <th>15983</th>\n",
       "      <td>55</td>\n",
       "      <td>LessThanHighSchool</td>\n",
       "      <td>NotBlack</td>\n",
       "      <td>NotHispanic</td>\n",
       "      <td>Married</td>\n",
       "      <td>1</td>\n",
       "      <td>25862.320</td>\n",
       "      <td>25243.550</td>\n",
       "      <td>21463.980</td>\n",
       "    </tr>\n",
       "    <tr>\n",
       "      <th>15984</th>\n",
       "      <td>48</td>\n",
       "      <td>LessThanHighSchool</td>\n",
       "      <td>NotBlack</td>\n",
       "      <td>NotHispanic</td>\n",
       "      <td>Married</td>\n",
       "      <td>1</td>\n",
       "      <td>25862.320</td>\n",
       "      <td>25243.550</td>\n",
       "      <td>25564.670</td>\n",
       "    </tr>\n",
       "    <tr>\n",
       "      <th>15987</th>\n",
       "      <td>22</td>\n",
       "      <td>HighSchool</td>\n",
       "      <td>black</td>\n",
       "      <td>NotHispanic</td>\n",
       "      <td>NotMarried</td>\n",
       "      <td>0</td>\n",
       "      <td>3975.352</td>\n",
       "      <td>6801.435</td>\n",
       "      <td>2757.438</td>\n",
       "    </tr>\n",
       "    <tr>\n",
       "      <th>15988</th>\n",
       "      <td>20</td>\n",
       "      <td>HighSchool</td>\n",
       "      <td>black</td>\n",
       "      <td>NotHispanic</td>\n",
       "      <td>Married</td>\n",
       "      <td>0</td>\n",
       "      <td>1445.939</td>\n",
       "      <td>11832.240</td>\n",
       "      <td>6895.072</td>\n",
       "    </tr>\n",
       "    <tr>\n",
       "      <th>15989</th>\n",
       "      <td>37</td>\n",
       "      <td>HighSchool</td>\n",
       "      <td>NotBlack</td>\n",
       "      <td>NotHispanic</td>\n",
       "      <td>NotMarried</td>\n",
       "      <td>0</td>\n",
       "      <td>1733.951</td>\n",
       "      <td>1559.371</td>\n",
       "      <td>4221.865</td>\n",
       "    </tr>\n",
       "    <tr>\n",
       "      <th>15990</th>\n",
       "      <td>47</td>\n",
       "      <td>LessThanHighSchool</td>\n",
       "      <td>NotBlack</td>\n",
       "      <td>NotHispanic</td>\n",
       "      <td>Married</td>\n",
       "      <td>1</td>\n",
       "      <td>16914.350</td>\n",
       "      <td>11384.660</td>\n",
       "      <td>13671.930</td>\n",
       "    </tr>\n",
       "    <tr>\n",
       "      <th>15991</th>\n",
       "      <td>40</td>\n",
       "      <td>LessThanHighSchool</td>\n",
       "      <td>NotBlack</td>\n",
       "      <td>NotHispanic</td>\n",
       "      <td>NotMarried</td>\n",
       "      <td>1</td>\n",
       "      <td>13628.660</td>\n",
       "      <td>13144.550</td>\n",
       "      <td>7979.724</td>\n",
       "    </tr>\n",
       "  </tbody>\n",
       "</table>\n",
       "</div>"
      ],
      "text/plain": [
       "       Age          Eduacation      Race         Hisp MaritalStatus  Nodeg  \\\n",
       "15980   45        Intermediate  NotBlack     hispanic       Married      0   \n",
       "15981   22        Intermediate  NotBlack     hispanic    NotMarried      0   \n",
       "15982   27        Intermediate  NotBlack  NotHispanic       Married      0   \n",
       "15983   55  LessThanHighSchool  NotBlack  NotHispanic       Married      1   \n",
       "15984   48  LessThanHighSchool  NotBlack  NotHispanic       Married      1   \n",
       "15987   22          HighSchool     black  NotHispanic    NotMarried      0   \n",
       "15988   20          HighSchool     black  NotHispanic       Married      0   \n",
       "15989   37          HighSchool  NotBlack  NotHispanic    NotMarried      0   \n",
       "15990   47  LessThanHighSchool  NotBlack  NotHispanic       Married      1   \n",
       "15991   40  LessThanHighSchool  NotBlack  NotHispanic    NotMarried      1   \n",
       "\n",
       "       Earnings_1974  Earnings_1975  Earnings_1978  \n",
       "15980      22390.500      22559.850      25564.670  \n",
       "15981       7684.244       5281.452       6014.347  \n",
       "15982      25507.690      25243.550      25564.670  \n",
       "15983      25862.320      25243.550      21463.980  \n",
       "15984      25862.320      25243.550      25564.670  \n",
       "15987       3975.352       6801.435       2757.438  \n",
       "15988       1445.939      11832.240       6895.072  \n",
       "15989       1733.951       1559.371       4221.865  \n",
       "15990      16914.350      11384.660      13671.930  \n",
       "15991      13628.660      13144.550       7979.724  "
      ]
     },
     "execution_count": 16,
     "metadata": {},
     "output_type": "execute_result"
    }
   ],
   "source": [
    "data.tail(10)"
   ]
  },
  {
   "cell_type": "code",
   "execution_count": 17,
   "id": "1e57948e",
   "metadata": {},
   "outputs": [
    {
     "name": "stdout",
     "output_type": "stream",
     "text": [
      "<class 'pandas.core.frame.DataFrame'>\n",
      "Int64Index: 12442 entries, 0 to 15991\n",
      "Data columns (total 9 columns):\n",
      " #   Column         Non-Null Count  Dtype  \n",
      "---  ------         --------------  -----  \n",
      " 0   Age            12442 non-null  int64  \n",
      " 1   Eduacation     12442 non-null  object \n",
      " 2   Race           12442 non-null  object \n",
      " 3   Hisp           12442 non-null  object \n",
      " 4   MaritalStatus  12442 non-null  object \n",
      " 5   Nodeg          12442 non-null  int32  \n",
      " 6   Earnings_1974  12442 non-null  float64\n",
      " 7   Earnings_1975  12442 non-null  float64\n",
      " 8   Earnings_1978  12442 non-null  float64\n",
      "dtypes: float64(3), int32(1), int64(1), object(4)\n",
      "memory usage: 923.4+ KB\n"
     ]
    }
   ],
   "source": [
    "data.info()"
   ]
  },
  {
   "cell_type": "code",
   "execution_count": 18,
   "id": "b9da8bc7",
   "metadata": {},
   "outputs": [
    {
     "data": {
      "text/html": [
       "<div>\n",
       "<style scoped>\n",
       "    .dataframe tbody tr th:only-of-type {\n",
       "        vertical-align: middle;\n",
       "    }\n",
       "\n",
       "    .dataframe tbody tr th {\n",
       "        vertical-align: top;\n",
       "    }\n",
       "\n",
       "    .dataframe thead th {\n",
       "        text-align: right;\n",
       "    }\n",
       "</style>\n",
       "<table border=\"1\" class=\"dataframe\">\n",
       "  <thead>\n",
       "    <tr style=\"text-align: right;\">\n",
       "      <th></th>\n",
       "      <th>count</th>\n",
       "      <th>mean</th>\n",
       "      <th>std</th>\n",
       "      <th>min</th>\n",
       "      <th>25%</th>\n",
       "      <th>50%</th>\n",
       "      <th>75%</th>\n",
       "      <th>max</th>\n",
       "    </tr>\n",
       "  </thead>\n",
       "  <tbody>\n",
       "    <tr>\n",
       "      <th>Age</th>\n",
       "      <td>12442.0</td>\n",
       "      <td>33.710577</td>\n",
       "      <td>10.629109</td>\n",
       "      <td>16.000000</td>\n",
       "      <td>25.0000</td>\n",
       "      <td>32.00</td>\n",
       "      <td>42.00</td>\n",
       "      <td>55.00</td>\n",
       "    </tr>\n",
       "    <tr>\n",
       "      <th>Nodeg</th>\n",
       "      <td>12442.0</td>\n",
       "      <td>0.277367</td>\n",
       "      <td>0.447717</td>\n",
       "      <td>0.000000</td>\n",
       "      <td>0.0000</td>\n",
       "      <td>0.00</td>\n",
       "      <td>1.00</td>\n",
       "      <td>1.00</td>\n",
       "    </tr>\n",
       "    <tr>\n",
       "      <th>Earnings_1974</th>\n",
       "      <td>12442.0</td>\n",
       "      <td>16617.202076</td>\n",
       "      <td>8282.874889</td>\n",
       "      <td>11.755600</td>\n",
       "      <td>10109.8200</td>\n",
       "      <td>18133.99</td>\n",
       "      <td>25358.79</td>\n",
       "      <td>25862.32</td>\n",
       "    </tr>\n",
       "    <tr>\n",
       "      <th>Earnings_1975</th>\n",
       "      <td>12442.0</td>\n",
       "      <td>16263.041326</td>\n",
       "      <td>7964.701233</td>\n",
       "      <td>10.741940</td>\n",
       "      <td>9950.6130</td>\n",
       "      <td>17591.71</td>\n",
       "      <td>24629.47</td>\n",
       "      <td>25243.55</td>\n",
       "    </tr>\n",
       "    <tr>\n",
       "      <th>Earnings_1978</th>\n",
       "      <td>12442.0</td>\n",
       "      <td>18033.393266</td>\n",
       "      <td>7840.644726</td>\n",
       "      <td>2.955453</td>\n",
       "      <td>12389.9975</td>\n",
       "      <td>20320.22</td>\n",
       "      <td>25564.67</td>\n",
       "      <td>25564.67</td>\n",
       "    </tr>\n",
       "  </tbody>\n",
       "</table>\n",
       "</div>"
      ],
      "text/plain": [
       "                 count          mean          std        min         25%  \\\n",
       "Age            12442.0     33.710577    10.629109  16.000000     25.0000   \n",
       "Nodeg          12442.0      0.277367     0.447717   0.000000      0.0000   \n",
       "Earnings_1974  12442.0  16617.202076  8282.874889  11.755600  10109.8200   \n",
       "Earnings_1975  12442.0  16263.041326  7964.701233  10.741940   9950.6130   \n",
       "Earnings_1978  12442.0  18033.393266  7840.644726   2.955453  12389.9975   \n",
       "\n",
       "                    50%       75%       max  \n",
       "Age               32.00     42.00     55.00  \n",
       "Nodeg              0.00      1.00      1.00  \n",
       "Earnings_1974  18133.99  25358.79  25862.32  \n",
       "Earnings_1975  17591.71  24629.47  25243.55  \n",
       "Earnings_1978  20320.22  25564.67  25564.67  "
      ]
     },
     "execution_count": 18,
     "metadata": {},
     "output_type": "execute_result"
    }
   ],
   "source": [
    "data.describe().T"
   ]
  },
  {
   "cell_type": "markdown",
   "id": "a9060219",
   "metadata": {},
   "source": [
    "In Column \"Earnings_1978\", we can see 75% and max have same values"
   ]
  },
  {
   "cell_type": "code",
   "execution_count": 19,
   "id": "6428f6e4",
   "metadata": {},
   "outputs": [
    {
     "data": {
      "text/html": [
       "<div>\n",
       "<style scoped>\n",
       "    .dataframe tbody tr th:only-of-type {\n",
       "        vertical-align: middle;\n",
       "    }\n",
       "\n",
       "    .dataframe tbody tr th {\n",
       "        vertical-align: top;\n",
       "    }\n",
       "\n",
       "    .dataframe thead th {\n",
       "        text-align: right;\n",
       "    }\n",
       "</style>\n",
       "<table border=\"1\" class=\"dataframe\">\n",
       "  <thead>\n",
       "    <tr style=\"text-align: right;\">\n",
       "      <th></th>\n",
       "      <th>count</th>\n",
       "      <th>unique</th>\n",
       "      <th>top</th>\n",
       "      <th>freq</th>\n",
       "    </tr>\n",
       "  </thead>\n",
       "  <tbody>\n",
       "    <tr>\n",
       "      <th>Eduacation</th>\n",
       "      <td>12442</td>\n",
       "      <td>5</td>\n",
       "      <td>HighSchool</td>\n",
       "      <td>5058</td>\n",
       "    </tr>\n",
       "    <tr>\n",
       "      <th>Race</th>\n",
       "      <td>12442</td>\n",
       "      <td>2</td>\n",
       "      <td>NotBlack</td>\n",
       "      <td>11586</td>\n",
       "    </tr>\n",
       "    <tr>\n",
       "      <th>Hisp</th>\n",
       "      <td>12442</td>\n",
       "      <td>2</td>\n",
       "      <td>NotHispanic</td>\n",
       "      <td>11555</td>\n",
       "    </tr>\n",
       "    <tr>\n",
       "      <th>MaritalStatus</th>\n",
       "      <td>12442</td>\n",
       "      <td>2</td>\n",
       "      <td>Married</td>\n",
       "      <td>9367</td>\n",
       "    </tr>\n",
       "  </tbody>\n",
       "</table>\n",
       "</div>"
      ],
      "text/plain": [
       "               count unique          top   freq\n",
       "Eduacation     12442      5   HighSchool   5058\n",
       "Race           12442      2     NotBlack  11586\n",
       "Hisp           12442      2  NotHispanic  11555\n",
       "MaritalStatus  12442      2      Married   9367"
      ]
     },
     "execution_count": 19,
     "metadata": {},
     "output_type": "execute_result"
    }
   ],
   "source": [
    "data.describe(include='object').T"
   ]
  },
  {
   "cell_type": "code",
   "execution_count": 20,
   "id": "8d8838d4",
   "metadata": {},
   "outputs": [],
   "source": [
    "### float to int\n",
    "data['Earnings_1978'] = data['Earnings_1978'].astype(int)\n",
    "data['Earnings_1975'] = data['Earnings_1975'].astype(int)\n",
    "data['Earnings_1974'] = data['Earnings_1974'].astype(int)"
   ]
  },
  {
   "cell_type": "code",
   "execution_count": 21,
   "id": "e638aba9",
   "metadata": {},
   "outputs": [
    {
     "data": {
      "text/html": [
       "<div>\n",
       "<style scoped>\n",
       "    .dataframe tbody tr th:only-of-type {\n",
       "        vertical-align: middle;\n",
       "    }\n",
       "\n",
       "    .dataframe tbody tr th {\n",
       "        vertical-align: top;\n",
       "    }\n",
       "\n",
       "    .dataframe thead th {\n",
       "        text-align: right;\n",
       "    }\n",
       "</style>\n",
       "<table border=\"1\" class=\"dataframe\">\n",
       "  <thead>\n",
       "    <tr style=\"text-align: right;\">\n",
       "      <th></th>\n",
       "      <th>Age</th>\n",
       "      <th>Nodeg</th>\n",
       "      <th>Earnings_1974</th>\n",
       "      <th>Earnings_1975</th>\n",
       "      <th>Earnings_1978</th>\n",
       "    </tr>\n",
       "  </thead>\n",
       "  <tbody>\n",
       "    <tr>\n",
       "      <th>Age</th>\n",
       "      <td>1.000000</td>\n",
       "      <td>0.146100</td>\n",
       "      <td>0.469875</td>\n",
       "      <td>0.405197</td>\n",
       "      <td>0.234134</td>\n",
       "    </tr>\n",
       "    <tr>\n",
       "      <th>Nodeg</th>\n",
       "      <td>0.146100</td>\n",
       "      <td>1.000000</td>\n",
       "      <td>-0.153779</td>\n",
       "      <td>-0.177399</td>\n",
       "      <td>-0.184162</td>\n",
       "    </tr>\n",
       "    <tr>\n",
       "      <th>Earnings_1974</th>\n",
       "      <td>0.469875</td>\n",
       "      <td>-0.153779</td>\n",
       "      <td>1.000000</td>\n",
       "      <td>0.841085</td>\n",
       "      <td>0.637072</td>\n",
       "    </tr>\n",
       "    <tr>\n",
       "      <th>Earnings_1975</th>\n",
       "      <td>0.405197</td>\n",
       "      <td>-0.177399</td>\n",
       "      <td>0.841085</td>\n",
       "      <td>1.000000</td>\n",
       "      <td>0.663132</td>\n",
       "    </tr>\n",
       "    <tr>\n",
       "      <th>Earnings_1978</th>\n",
       "      <td>0.234134</td>\n",
       "      <td>-0.184162</td>\n",
       "      <td>0.637072</td>\n",
       "      <td>0.663132</td>\n",
       "      <td>1.000000</td>\n",
       "    </tr>\n",
       "  </tbody>\n",
       "</table>\n",
       "</div>"
      ],
      "text/plain": [
       "                    Age     Nodeg  Earnings_1974  Earnings_1975  Earnings_1978\n",
       "Age            1.000000  0.146100       0.469875       0.405197       0.234134\n",
       "Nodeg          0.146100  1.000000      -0.153779      -0.177399      -0.184162\n",
       "Earnings_1974  0.469875 -0.153779       1.000000       0.841085       0.637072\n",
       "Earnings_1975  0.405197 -0.177399       0.841085       1.000000       0.663132\n",
       "Earnings_1978  0.234134 -0.184162       0.637072       0.663132       1.000000"
      ]
     },
     "execution_count": 21,
     "metadata": {},
     "output_type": "execute_result"
    }
   ],
   "source": [
    "data.corr()"
   ]
  },
  {
   "cell_type": "code",
   "execution_count": 22,
   "id": "97e4b857",
   "metadata": {},
   "outputs": [
    {
     "data": {
      "image/png": "[encoded data removed]",
      "text/plain": [
       "<Figure size 576x576 with 2 Axes>"
      ]
     },
     "metadata": {
      "needs_background": "light"
     },
     "output_type": "display_data"
    }
   ],
   "source": [
    "plt.figure(figsize=(8,8))\n",
    "sns.heatmap(data.corr(), vmax=1,vmin=-1,annot=True,cmap='inferno')\n",
    "plt.show()"
   ]
  },
  {
   "cell_type": "markdown",
   "id": "5b4edb70",
   "metadata": {},
   "source": [
    "### Explore the Tearget Variable"
   ]
  },
  {
   "cell_type": "code",
   "execution_count": 23,
   "id": "d957422b",
   "metadata": {},
   "outputs": [
    {
     "data": {
      "image/png": "[encoded data removed]",
      "text/plain": [
       "<Figure size 432x288 with 1 Axes>"
      ]
     },
     "metadata": {
      "needs_background": "light"
     },
     "output_type": "display_data"
    },
    {
     "data": {
      "text/plain": [
       "Nodeg  Eduacation        \n",
       "0      HighSchool            5058\n",
       "       Intermediate          2154\n",
       "       PostGraduate           671\n",
       "       graduate              1108\n",
       "1      LessThanHighSchool    3451\n",
       "Name: Nodeg, dtype: int64"
      ]
     },
     "execution_count": 23,
     "metadata": {},
     "output_type": "execute_result"
    }
   ],
   "source": [
    "sns.countplot(x=data['Nodeg'],hue=data['Eduacation'])\n",
    "plt.show()\n",
    "data.groupby(by=['Nodeg','Eduacation'])['Nodeg'].count()"
   ]
  },
  {
   "cell_type": "markdown",
   "id": "4088d9d1",
   "metadata": {},
   "source": [
    "We can see that whoever have \"LessThanHighSchool\" got no degree"
   ]
  },
  {
   "cell_type": "code",
   "execution_count": 24,
   "id": "8322ece6",
   "metadata": {},
   "outputs": [
    {
     "data": {
      "image/png": "[encoded data removed]",
      "text/plain": [
       "<Figure size 432x288 with 1 Axes>"
      ]
     },
     "metadata": {
      "needs_background": "light"
     },
     "output_type": "display_data"
    }
   ],
   "source": [
    "sns.countplot(x=data['MaritalStatus'])\n",
    "plt.show()"
   ]
  },
  {
   "cell_type": "code",
   "execution_count": 25,
   "id": "c2e80732",
   "metadata": {},
   "outputs": [
    {
     "data": {
      "text/plain": [
       "<seaborn.axisgrid.PairGrid at 0x191000e9dc0>"
      ]
     },
     "execution_count": 25,
     "metadata": {},
     "output_type": "execute_result"
    },
    {
     "data": {
      "image/png": "[encoded data removed]",
      "text/plain": [
       "<Figure size 1620x180 with 10 Axes>"
      ]
     },
     "metadata": {
      "needs_background": "light"
     },
     "output_type": "display_data"
    }
   ],
   "source": [
    "sns.pairplot(x_vars= data.columns,y_vars=['Earnings_1978'],data=data)"
   ]
  },
  {
   "cell_type": "markdown",
   "id": "ca2f851f",
   "metadata": {},
   "source": [
    "### Univariate and Bivariate Analysis"
   ]
  },
  {
   "cell_type": "code",
   "execution_count": 26,
   "id": "89e4bc34",
   "metadata": {},
   "outputs": [
    {
     "data": {
      "image/png": "[encoded data removed]",
      "text/plain": [
       "<Figure size 432x288 with 1 Axes>"
      ]
     },
     "metadata": {
      "needs_background": "light"
     },
     "output_type": "display_data"
    }
   ],
   "source": [
    "# Histogram for the target variable\n",
    "sns.histplot(data['Earnings_1978'])\n",
    "plt.show()"
   ]
  },
  {
   "cell_type": "code",
   "execution_count": 27,
   "id": "191b6121",
   "metadata": {},
   "outputs": [
    {
     "name": "stdout",
     "output_type": "stream",
     "text": [
      "Skewness=  -0.7129454287211786\n",
      "Kurtosis=  -0.7518333640219543\n"
     ]
    },
    {
     "data": {
      "image/png": "[encoded data removed]",
      "text/plain": [
       "<Figure size 432x288 with 1 Axes>"
      ]
     },
     "metadata": {
      "needs_background": "light"
     },
     "output_type": "display_data"
    }
   ],
   "source": [
    "print('Skewness= ',data['Earnings_1978'].skew())\n",
    "print('Kurtosis= ',data['Earnings_1978'].kurt())\n",
    "sns.distplot(x=data['Earnings_1978'])\n",
    "plt.show()"
   ]
  },
  {
   "cell_type": "code",
   "execution_count": 28,
   "id": "a702e81e",
   "metadata": {},
   "outputs": [
    {
     "data": {
      "text/html": [
       "<div>\n",
       "<style scoped>\n",
       "    .dataframe tbody tr th:only-of-type {\n",
       "        vertical-align: middle;\n",
       "    }\n",
       "\n",
       "    .dataframe tbody tr th {\n",
       "        vertical-align: top;\n",
       "    }\n",
       "\n",
       "    .dataframe thead th {\n",
       "        text-align: right;\n",
       "    }\n",
       "</style>\n",
       "<table border=\"1\" class=\"dataframe\">\n",
       "  <thead>\n",
       "    <tr style=\"text-align: right;\">\n",
       "      <th></th>\n",
       "      <th>Age</th>\n",
       "      <th>Eduacation</th>\n",
       "      <th>Race</th>\n",
       "      <th>Hisp</th>\n",
       "      <th>MaritalStatus</th>\n",
       "      <th>Nodeg</th>\n",
       "      <th>Earnings_1974</th>\n",
       "      <th>Earnings_1975</th>\n",
       "      <th>Earnings_1978</th>\n",
       "    </tr>\n",
       "  </thead>\n",
       "  <tbody>\n",
       "    <tr>\n",
       "      <th>0</th>\n",
       "      <td>45</td>\n",
       "      <td>LessThanHighSchool</td>\n",
       "      <td>NotBlack</td>\n",
       "      <td>NotHispanic</td>\n",
       "      <td>Married</td>\n",
       "      <td>1</td>\n",
       "      <td>21516</td>\n",
       "      <td>25243</td>\n",
       "      <td>25564</td>\n",
       "    </tr>\n",
       "    <tr>\n",
       "      <th>2</th>\n",
       "      <td>38</td>\n",
       "      <td>HighSchool</td>\n",
       "      <td>NotBlack</td>\n",
       "      <td>NotHispanic</td>\n",
       "      <td>Married</td>\n",
       "      <td>0</td>\n",
       "      <td>23039</td>\n",
       "      <td>25130</td>\n",
       "      <td>25564</td>\n",
       "    </tr>\n",
       "    <tr>\n",
       "      <th>3</th>\n",
       "      <td>48</td>\n",
       "      <td>LessThanHighSchool</td>\n",
       "      <td>NotBlack</td>\n",
       "      <td>NotHispanic</td>\n",
       "      <td>Married</td>\n",
       "      <td>1</td>\n",
       "      <td>24994</td>\n",
       "      <td>25243</td>\n",
       "      <td>25564</td>\n",
       "    </tr>\n",
       "    <tr>\n",
       "      <th>5</th>\n",
       "      <td>22</td>\n",
       "      <td>LessThanHighSchool</td>\n",
       "      <td>NotBlack</td>\n",
       "      <td>NotHispanic</td>\n",
       "      <td>Married</td>\n",
       "      <td>1</td>\n",
       "      <td>16365</td>\n",
       "      <td>18449</td>\n",
       "      <td>25564</td>\n",
       "    </tr>\n",
       "    <tr>\n",
       "      <th>8</th>\n",
       "      <td>48</td>\n",
       "      <td>LessThanHighSchool</td>\n",
       "      <td>NotBlack</td>\n",
       "      <td>NotHispanic</td>\n",
       "      <td>Married</td>\n",
       "      <td>1</td>\n",
       "      <td>25862</td>\n",
       "      <td>25243</td>\n",
       "      <td>25564</td>\n",
       "    </tr>\n",
       "    <tr>\n",
       "      <th>...</th>\n",
       "      <td>...</td>\n",
       "      <td>...</td>\n",
       "      <td>...</td>\n",
       "      <td>...</td>\n",
       "      <td>...</td>\n",
       "      <td>...</td>\n",
       "      <td>...</td>\n",
       "      <td>...</td>\n",
       "      <td>...</td>\n",
       "    </tr>\n",
       "    <tr>\n",
       "      <th>15966</th>\n",
       "      <td>39</td>\n",
       "      <td>Intermediate</td>\n",
       "      <td>NotBlack</td>\n",
       "      <td>NotHispanic</td>\n",
       "      <td>Married</td>\n",
       "      <td>0</td>\n",
       "      <td>17629</td>\n",
       "      <td>17466</td>\n",
       "      <td>25564</td>\n",
       "    </tr>\n",
       "    <tr>\n",
       "      <th>15969</th>\n",
       "      <td>32</td>\n",
       "      <td>LessThanHighSchool</td>\n",
       "      <td>NotBlack</td>\n",
       "      <td>NotHispanic</td>\n",
       "      <td>Married</td>\n",
       "      <td>1</td>\n",
       "      <td>12686</td>\n",
       "      <td>15883</td>\n",
       "      <td>25564</td>\n",
       "    </tr>\n",
       "    <tr>\n",
       "      <th>15980</th>\n",
       "      <td>45</td>\n",
       "      <td>Intermediate</td>\n",
       "      <td>NotBlack</td>\n",
       "      <td>hispanic</td>\n",
       "      <td>Married</td>\n",
       "      <td>0</td>\n",
       "      <td>22390</td>\n",
       "      <td>22559</td>\n",
       "      <td>25564</td>\n",
       "    </tr>\n",
       "    <tr>\n",
       "      <th>15982</th>\n",
       "      <td>27</td>\n",
       "      <td>Intermediate</td>\n",
       "      <td>NotBlack</td>\n",
       "      <td>NotHispanic</td>\n",
       "      <td>Married</td>\n",
       "      <td>0</td>\n",
       "      <td>25507</td>\n",
       "      <td>25243</td>\n",
       "      <td>25564</td>\n",
       "    </tr>\n",
       "    <tr>\n",
       "      <th>15984</th>\n",
       "      <td>48</td>\n",
       "      <td>LessThanHighSchool</td>\n",
       "      <td>NotBlack</td>\n",
       "      <td>NotHispanic</td>\n",
       "      <td>Married</td>\n",
       "      <td>1</td>\n",
       "      <td>25862</td>\n",
       "      <td>25243</td>\n",
       "      <td>25564</td>\n",
       "    </tr>\n",
       "  </tbody>\n",
       "</table>\n",
       "<p>4266 rows × 9 columns</p>\n",
       "</div>"
      ],
      "text/plain": [
       "       Age          Eduacation      Race         Hisp MaritalStatus  Nodeg  \\\n",
       "0       45  LessThanHighSchool  NotBlack  NotHispanic       Married      1   \n",
       "2       38          HighSchool  NotBlack  NotHispanic       Married      0   \n",
       "3       48  LessThanHighSchool  NotBlack  NotHispanic       Married      1   \n",
       "5       22  LessThanHighSchool  NotBlack  NotHispanic       Married      1   \n",
       "8       48  LessThanHighSchool  NotBlack  NotHispanic       Married      1   \n",
       "...    ...                 ...       ...          ...           ...    ...   \n",
       "15966   39        Intermediate  NotBlack  NotHispanic       Married      0   \n",
       "15969   32  LessThanHighSchool  NotBlack  NotHispanic       Married      1   \n",
       "15980   45        Intermediate  NotBlack     hispanic       Married      0   \n",
       "15982   27        Intermediate  NotBlack  NotHispanic       Married      0   \n",
       "15984   48  LessThanHighSchool  NotBlack  NotHispanic       Married      1   \n",
       "\n",
       "       Earnings_1974  Earnings_1975  Earnings_1978  \n",
       "0              21516          25243          25564  \n",
       "2              23039          25130          25564  \n",
       "3              24994          25243          25564  \n",
       "5              16365          18449          25564  \n",
       "8              25862          25243          25564  \n",
       "...              ...            ...            ...  \n",
       "15966          17629          17466          25564  \n",
       "15969          12686          15883          25564  \n",
       "15980          22390          22559          25564  \n",
       "15982          25507          25243          25564  \n",
       "15984          25862          25243          25564  \n",
       "\n",
       "[4266 rows x 9 columns]"
      ]
     },
     "execution_count": 28,
     "metadata": {},
     "output_type": "execute_result"
    }
   ],
   "source": [
    "data[data['Earnings_1978']>25000]"
   ]
  },
  {
   "cell_type": "markdown",
   "id": "2a8099ab",
   "metadata": {},
   "source": [
    "#### Boxplot between SalePrice and some categorical columns"
   ]
  },
  {
   "cell_type": "code",
   "execution_count": 29,
   "id": "97fd69cd",
   "metadata": {},
   "outputs": [
    {
     "data": {
      "image/png": "[encoded data removed]",
      "text/plain": [
       "<Figure size 792x792 with 3 Axes>"
      ]
     },
     "metadata": {
      "needs_background": "light"
     },
     "output_type": "display_data"
    }
   ],
   "source": [
    "plt.figure(figsize=(11,11))\n",
    "plt.subplot(3,1,1)\n",
    "sns.boxplot(y=data['Earnings_1978'],x=data['Race'])\n",
    "plt.subplot(3,1,2)\n",
    "sns.boxplot(y=data['Earnings_1978'],x=data['Hisp'])\n",
    "plt.subplot(3,1,3)\n",
    "sns.boxplot(y=data['Earnings_1978'],x=data['Nodeg'])\n",
    "plt.show()"
   ]
  },
  {
   "cell_type": "markdown",
   "id": "1090fc69",
   "metadata": {},
   "source": [
    "### Detecting and Treating the outlier"
   ]
  },
  {
   "cell_type": "code",
   "execution_count": 30,
   "id": "3ea0d751",
   "metadata": {},
   "outputs": [
    {
     "data": {
      "text/plain": [
       "Index(['Age', 'Eduacation', 'Race', 'Hisp', 'MaritalStatus', 'Nodeg',\n",
       "       'Earnings_1974', 'Earnings_1975', 'Earnings_1978'],\n",
       "      dtype='object')"
      ]
     },
     "execution_count": 30,
     "metadata": {},
     "output_type": "execute_result"
    }
   ],
   "source": [
    "data.columns"
   ]
  },
  {
   "cell_type": "code",
   "execution_count": 31,
   "id": "3ae18986",
   "metadata": {},
   "outputs": [
    {
     "data": {
      "image/png": "[encoded data removed]",
      "text/plain": [
       "<Figure size 720x504 with 3 Axes>"
      ]
     },
     "metadata": {
      "needs_background": "light"
     },
     "output_type": "display_data"
    }
   ],
   "source": [
    "plt.figure(figsize=(10,7))\n",
    "plt.subplot(3,1,1)\n",
    "sns.boxplot(data['Earnings_1974'])\n",
    "plt.subplot(3,1,2)\n",
    "sns.boxplot(data['Earnings_1975'])\n",
    "plt.subplot(3,1,3)\n",
    "sns.boxplot(data['Earnings_1978'])\n",
    "plt.show()"
   ]
  },
  {
   "cell_type": "code",
   "execution_count": 32,
   "id": "7fc797e5",
   "metadata": {},
   "outputs": [],
   "source": [
    "#No outlier found"
   ]
  },
  {
   "cell_type": "markdown",
   "id": "2a6073b7",
   "metadata": {},
   "source": [
    "### Feature Selection"
   ]
  },
  {
   "cell_type": "code",
   "execution_count": 33,
   "id": "4d635785",
   "metadata": {},
   "outputs": [
    {
     "data": {
      "text/html": [
       "<div>\n",
       "<style scoped>\n",
       "    .dataframe tbody tr th:only-of-type {\n",
       "        vertical-align: middle;\n",
       "    }\n",
       "\n",
       "    .dataframe tbody tr th {\n",
       "        vertical-align: top;\n",
       "    }\n",
       "\n",
       "    .dataframe thead th {\n",
       "        text-align: right;\n",
       "    }\n",
       "</style>\n",
       "<table border=\"1\" class=\"dataframe\">\n",
       "  <thead>\n",
       "    <tr style=\"text-align: right;\">\n",
       "      <th></th>\n",
       "      <th>Age</th>\n",
       "      <th>Eduacation</th>\n",
       "      <th>Race</th>\n",
       "      <th>Hisp</th>\n",
       "      <th>MaritalStatus</th>\n",
       "      <th>Nodeg</th>\n",
       "      <th>Earnings_1974</th>\n",
       "      <th>Earnings_1975</th>\n",
       "      <th>Earnings_1978</th>\n",
       "    </tr>\n",
       "  </thead>\n",
       "  <tbody>\n",
       "    <tr>\n",
       "      <th>0</th>\n",
       "      <td>45</td>\n",
       "      <td>LessThanHighSchool</td>\n",
       "      <td>NotBlack</td>\n",
       "      <td>NotHispanic</td>\n",
       "      <td>Married</td>\n",
       "      <td>1</td>\n",
       "      <td>21516</td>\n",
       "      <td>25243</td>\n",
       "      <td>25564</td>\n",
       "    </tr>\n",
       "    <tr>\n",
       "      <th>1</th>\n",
       "      <td>21</td>\n",
       "      <td>Intermediate</td>\n",
       "      <td>NotBlack</td>\n",
       "      <td>NotHispanic</td>\n",
       "      <td>NotMarried</td>\n",
       "      <td>0</td>\n",
       "      <td>3175</td>\n",
       "      <td>5852</td>\n",
       "      <td>13496</td>\n",
       "    </tr>\n",
       "    <tr>\n",
       "      <th>2</th>\n",
       "      <td>38</td>\n",
       "      <td>HighSchool</td>\n",
       "      <td>NotBlack</td>\n",
       "      <td>NotHispanic</td>\n",
       "      <td>Married</td>\n",
       "      <td>0</td>\n",
       "      <td>23039</td>\n",
       "      <td>25130</td>\n",
       "      <td>25564</td>\n",
       "    </tr>\n",
       "    <tr>\n",
       "      <th>3</th>\n",
       "      <td>48</td>\n",
       "      <td>LessThanHighSchool</td>\n",
       "      <td>NotBlack</td>\n",
       "      <td>NotHispanic</td>\n",
       "      <td>Married</td>\n",
       "      <td>1</td>\n",
       "      <td>24994</td>\n",
       "      <td>25243</td>\n",
       "      <td>25564</td>\n",
       "    </tr>\n",
       "    <tr>\n",
       "      <th>4</th>\n",
       "      <td>18</td>\n",
       "      <td>LessThanHighSchool</td>\n",
       "      <td>NotBlack</td>\n",
       "      <td>NotHispanic</td>\n",
       "      <td>Married</td>\n",
       "      <td>1</td>\n",
       "      <td>1669</td>\n",
       "      <td>10727</td>\n",
       "      <td>9860</td>\n",
       "    </tr>\n",
       "    <tr>\n",
       "      <th>5</th>\n",
       "      <td>22</td>\n",
       "      <td>LessThanHighSchool</td>\n",
       "      <td>NotBlack</td>\n",
       "      <td>NotHispanic</td>\n",
       "      <td>Married</td>\n",
       "      <td>1</td>\n",
       "      <td>16365</td>\n",
       "      <td>18449</td>\n",
       "      <td>25564</td>\n",
       "    </tr>\n",
       "    <tr>\n",
       "      <th>6</th>\n",
       "      <td>48</td>\n",
       "      <td>LessThanHighSchool</td>\n",
       "      <td>NotBlack</td>\n",
       "      <td>NotHispanic</td>\n",
       "      <td>Married</td>\n",
       "      <td>1</td>\n",
       "      <td>16804</td>\n",
       "      <td>16354</td>\n",
       "      <td>18059</td>\n",
       "    </tr>\n",
       "    <tr>\n",
       "      <th>7</th>\n",
       "      <td>18</td>\n",
       "      <td>LessThanHighSchool</td>\n",
       "      <td>NotBlack</td>\n",
       "      <td>NotHispanic</td>\n",
       "      <td>NotMarried</td>\n",
       "      <td>1</td>\n",
       "      <td>1144</td>\n",
       "      <td>3620</td>\n",
       "      <td>15739</td>\n",
       "    </tr>\n",
       "    <tr>\n",
       "      <th>8</th>\n",
       "      <td>48</td>\n",
       "      <td>LessThanHighSchool</td>\n",
       "      <td>NotBlack</td>\n",
       "      <td>NotHispanic</td>\n",
       "      <td>Married</td>\n",
       "      <td>1</td>\n",
       "      <td>25862</td>\n",
       "      <td>25243</td>\n",
       "      <td>25564</td>\n",
       "    </tr>\n",
       "    <tr>\n",
       "      <th>10</th>\n",
       "      <td>34</td>\n",
       "      <td>Intermediate</td>\n",
       "      <td>NotBlack</td>\n",
       "      <td>NotHispanic</td>\n",
       "      <td>Married</td>\n",
       "      <td>0</td>\n",
       "      <td>25862</td>\n",
       "      <td>23746</td>\n",
       "      <td>25564</td>\n",
       "    </tr>\n",
       "  </tbody>\n",
       "</table>\n",
       "</div>"
      ],
      "text/plain": [
       "    Age          Eduacation      Race         Hisp MaritalStatus  Nodeg  \\\n",
       "0    45  LessThanHighSchool  NotBlack  NotHispanic       Married      1   \n",
       "1    21        Intermediate  NotBlack  NotHispanic    NotMarried      0   \n",
       "2    38          HighSchool  NotBlack  NotHispanic       Married      0   \n",
       "3    48  LessThanHighSchool  NotBlack  NotHispanic       Married      1   \n",
       "4    18  LessThanHighSchool  NotBlack  NotHispanic       Married      1   \n",
       "5    22  LessThanHighSchool  NotBlack  NotHispanic       Married      1   \n",
       "6    48  LessThanHighSchool  NotBlack  NotHispanic       Married      1   \n",
       "7    18  LessThanHighSchool  NotBlack  NotHispanic    NotMarried      1   \n",
       "8    48  LessThanHighSchool  NotBlack  NotHispanic       Married      1   \n",
       "10   34        Intermediate  NotBlack  NotHispanic       Married      0   \n",
       "\n",
       "    Earnings_1974  Earnings_1975  Earnings_1978  \n",
       "0           21516          25243          25564  \n",
       "1            3175           5852          13496  \n",
       "2           23039          25130          25564  \n",
       "3           24994          25243          25564  \n",
       "4            1669          10727           9860  \n",
       "5           16365          18449          25564  \n",
       "6           16804          16354          18059  \n",
       "7            1144           3620          15739  \n",
       "8           25862          25243          25564  \n",
       "10          25862          23746          25564  "
      ]
     },
     "execution_count": 33,
     "metadata": {},
     "output_type": "execute_result"
    }
   ],
   "source": [
    "data.head(10)"
   ]
  },
  {
   "cell_type": "code",
   "execution_count": 34,
   "id": "f5d0278b",
   "metadata": {},
   "outputs": [],
   "source": [
    "data.drop(columns=['Eduacation'],inplace=True)\n",
    "data.drop(columns=['Age'],inplace=True)"
   ]
  },
  {
   "cell_type": "code",
   "execution_count": 35,
   "id": "08d2553a",
   "metadata": {},
   "outputs": [
    {
     "data": {
      "image/png": "[encoded data removed]",
      "text/plain": [
       "<Figure size 720x504 with 2 Axes>"
      ]
     },
     "metadata": {
      "needs_background": "light"
     },
     "output_type": "display_data"
    }
   ],
   "source": [
    "plt.figure(figsize=(10,7))\n",
    "sns.heatmap(data.corr(), annot= True,vmin= -1, cmap= 'twilight_shifted_r')\n",
    "plt.show()"
   ]
  },
  {
   "cell_type": "markdown",
   "id": "b3f31dfb",
   "metadata": {},
   "source": [
    "### Feature Engineering"
   ]
  },
  {
   "cell_type": "code",
   "execution_count": 36,
   "id": "5ff69072",
   "metadata": {},
   "outputs": [],
   "source": [
    "from sklearn.preprocessing import LabelEncoder\n",
    "le= LabelEncoder()"
   ]
  },
  {
   "cell_type": "code",
   "execution_count": 37,
   "id": "2fcb5f7d",
   "metadata": {},
   "outputs": [],
   "source": [
    "# to convert the data in 0 and 1\n",
    "# 0= notblack and 1= black\n",
    "data['Race']=le.fit_transform(data['Race'])\n",
    "# 0= nothisp and 1= hisp\n",
    "data['Hisp']=le.fit_transform(data['Hisp'])\n",
    "# 0= married and 1= notmarried\n",
    "data['MaritalStatus']=le.fit_transform(data['MaritalStatus'])"
   ]
  },
  {
   "cell_type": "code",
   "execution_count": 38,
   "id": "8bec091c",
   "metadata": {},
   "outputs": [
    {
     "data": {
      "text/html": [
       "<div>\n",
       "<style scoped>\n",
       "    .dataframe tbody tr th:only-of-type {\n",
       "        vertical-align: middle;\n",
       "    }\n",
       "\n",
       "    .dataframe tbody tr th {\n",
       "        vertical-align: top;\n",
       "    }\n",
       "\n",
       "    .dataframe thead th {\n",
       "        text-align: right;\n",
       "    }\n",
       "</style>\n",
       "<table border=\"1\" class=\"dataframe\">\n",
       "  <thead>\n",
       "    <tr style=\"text-align: right;\">\n",
       "      <th></th>\n",
       "      <th>Race</th>\n",
       "      <th>Hisp</th>\n",
       "      <th>MaritalStatus</th>\n",
       "      <th>Nodeg</th>\n",
       "      <th>Earnings_1974</th>\n",
       "      <th>Earnings_1975</th>\n",
       "      <th>Earnings_1978</th>\n",
       "    </tr>\n",
       "  </thead>\n",
       "  <tbody>\n",
       "    <tr>\n",
       "      <th>0</th>\n",
       "      <td>0</td>\n",
       "      <td>0</td>\n",
       "      <td>0</td>\n",
       "      <td>1</td>\n",
       "      <td>21516</td>\n",
       "      <td>25243</td>\n",
       "      <td>25564</td>\n",
       "    </tr>\n",
       "    <tr>\n",
       "      <th>1</th>\n",
       "      <td>0</td>\n",
       "      <td>0</td>\n",
       "      <td>1</td>\n",
       "      <td>0</td>\n",
       "      <td>3175</td>\n",
       "      <td>5852</td>\n",
       "      <td>13496</td>\n",
       "    </tr>\n",
       "    <tr>\n",
       "      <th>2</th>\n",
       "      <td>0</td>\n",
       "      <td>0</td>\n",
       "      <td>0</td>\n",
       "      <td>0</td>\n",
       "      <td>23039</td>\n",
       "      <td>25130</td>\n",
       "      <td>25564</td>\n",
       "    </tr>\n",
       "    <tr>\n",
       "      <th>3</th>\n",
       "      <td>0</td>\n",
       "      <td>0</td>\n",
       "      <td>0</td>\n",
       "      <td>1</td>\n",
       "      <td>24994</td>\n",
       "      <td>25243</td>\n",
       "      <td>25564</td>\n",
       "    </tr>\n",
       "    <tr>\n",
       "      <th>4</th>\n",
       "      <td>0</td>\n",
       "      <td>0</td>\n",
       "      <td>0</td>\n",
       "      <td>1</td>\n",
       "      <td>1669</td>\n",
       "      <td>10727</td>\n",
       "      <td>9860</td>\n",
       "    </tr>\n",
       "    <tr>\n",
       "      <th>...</th>\n",
       "      <td>...</td>\n",
       "      <td>...</td>\n",
       "      <td>...</td>\n",
       "      <td>...</td>\n",
       "      <td>...</td>\n",
       "      <td>...</td>\n",
       "      <td>...</td>\n",
       "    </tr>\n",
       "    <tr>\n",
       "      <th>15987</th>\n",
       "      <td>1</td>\n",
       "      <td>0</td>\n",
       "      <td>1</td>\n",
       "      <td>0</td>\n",
       "      <td>3975</td>\n",
       "      <td>6801</td>\n",
       "      <td>2757</td>\n",
       "    </tr>\n",
       "    <tr>\n",
       "      <th>15988</th>\n",
       "      <td>1</td>\n",
       "      <td>0</td>\n",
       "      <td>0</td>\n",
       "      <td>0</td>\n",
       "      <td>1445</td>\n",
       "      <td>11832</td>\n",
       "      <td>6895</td>\n",
       "    </tr>\n",
       "    <tr>\n",
       "      <th>15989</th>\n",
       "      <td>0</td>\n",
       "      <td>0</td>\n",
       "      <td>1</td>\n",
       "      <td>0</td>\n",
       "      <td>1733</td>\n",
       "      <td>1559</td>\n",
       "      <td>4221</td>\n",
       "    </tr>\n",
       "    <tr>\n",
       "      <th>15990</th>\n",
       "      <td>0</td>\n",
       "      <td>0</td>\n",
       "      <td>0</td>\n",
       "      <td>1</td>\n",
       "      <td>16914</td>\n",
       "      <td>11384</td>\n",
       "      <td>13671</td>\n",
       "    </tr>\n",
       "    <tr>\n",
       "      <th>15991</th>\n",
       "      <td>0</td>\n",
       "      <td>0</td>\n",
       "      <td>1</td>\n",
       "      <td>1</td>\n",
       "      <td>13628</td>\n",
       "      <td>13144</td>\n",
       "      <td>7979</td>\n",
       "    </tr>\n",
       "  </tbody>\n",
       "</table>\n",
       "<p>12442 rows × 7 columns</p>\n",
       "</div>"
      ],
      "text/plain": [
       "       Race  Hisp  MaritalStatus  Nodeg  Earnings_1974  Earnings_1975  \\\n",
       "0         0     0              0      1          21516          25243   \n",
       "1         0     0              1      0           3175           5852   \n",
       "2         0     0              0      0          23039          25130   \n",
       "3         0     0              0      1          24994          25243   \n",
       "4         0     0              0      1           1669          10727   \n",
       "...     ...   ...            ...    ...            ...            ...   \n",
       "15987     1     0              1      0           3975           6801   \n",
       "15988     1     0              0      0           1445          11832   \n",
       "15989     0     0              1      0           1733           1559   \n",
       "15990     0     0              0      1          16914          11384   \n",
       "15991     0     0              1      1          13628          13144   \n",
       "\n",
       "       Earnings_1978  \n",
       "0              25564  \n",
       "1              13496  \n",
       "2              25564  \n",
       "3              25564  \n",
       "4               9860  \n",
       "...              ...  \n",
       "15987           2757  \n",
       "15988           6895  \n",
       "15989           4221  \n",
       "15990          13671  \n",
       "15991           7979  \n",
       "\n",
       "[12442 rows x 7 columns]"
      ]
     },
     "execution_count": 38,
     "metadata": {},
     "output_type": "execute_result"
    }
   ],
   "source": [
    "data"
   ]
  },
  {
   "cell_type": "markdown",
   "id": "fbad04d2",
   "metadata": {},
   "source": [
    "### Train Split Test"
   ]
  },
  {
   "cell_type": "code",
   "execution_count": 39,
   "id": "f19bf733",
   "metadata": {},
   "outputs": [],
   "source": [
    "from sklearn.model_selection import train_test_split"
   ]
  },
  {
   "cell_type": "code",
   "execution_count": 40,
   "id": "c0c03582",
   "metadata": {},
   "outputs": [],
   "source": [
    "x= data.drop(columns=['Earnings_1978'])\n",
    "y= data['Earnings_1978']"
   ]
  },
  {
   "cell_type": "code",
   "execution_count": 41,
   "id": "a7b06bd2",
   "metadata": {},
   "outputs": [],
   "source": [
    "x_train, x_test, y_train, y_test= train_test_split(x,y,train_size=0.8,random_state=2)"
   ]
  },
  {
   "cell_type": "code",
   "execution_count": 42,
   "id": "883b056f",
   "metadata": {},
   "outputs": [
    {
     "name": "stdout",
     "output_type": "stream",
     "text": [
      "(9953, 6) (2489, 6) (9953,) (2489,)\n"
     ]
    }
   ],
   "source": [
    "print(x_train.shape, x_test.shape, y_train.shape, y_test.shape)"
   ]
  },
  {
   "cell_type": "markdown",
   "id": "bb2aaed8",
   "metadata": {},
   "source": [
    "### Multiple Linear Regression"
   ]
  },
  {
   "cell_type": "code",
   "execution_count": 43,
   "id": "7adaf204",
   "metadata": {},
   "outputs": [],
   "source": [
    "from sklearn.linear_model import LinearRegression\n",
    "model= LinearRegression()"
   ]
  },
  {
   "cell_type": "code",
   "execution_count": 44,
   "id": "eaab0c3f",
   "metadata": {},
   "outputs": [
    {
     "data": {
      "text/plain": [
       "LinearRegression()"
      ]
     },
     "execution_count": 44,
     "metadata": {},
     "output_type": "execute_result"
    }
   ],
   "source": [
    "model.fit(x_train,y_train)"
   ]
  },
  {
   "cell_type": "code",
   "execution_count": 45,
   "id": "22e22ae1",
   "metadata": {},
   "outputs": [],
   "source": [
    "y_pred= model.predict(x_test)"
   ]
  },
  {
   "cell_type": "code",
   "execution_count": 46,
   "id": "77926f59",
   "metadata": {},
   "outputs": [
    {
     "data": {
      "text/html": [
       "<div>\n",
       "<style scoped>\n",
       "    .dataframe tbody tr th:only-of-type {\n",
       "        vertical-align: middle;\n",
       "    }\n",
       "\n",
       "    .dataframe tbody tr th {\n",
       "        vertical-align: top;\n",
       "    }\n",
       "\n",
       "    .dataframe thead th {\n",
       "        text-align: right;\n",
       "    }\n",
       "</style>\n",
       "<table border=\"1\" class=\"dataframe\">\n",
       "  <thead>\n",
       "    <tr style=\"text-align: right;\">\n",
       "      <th></th>\n",
       "      <th>Actual Y</th>\n",
       "      <th>Predicted Y</th>\n",
       "      <th>Residual</th>\n",
       "    </tr>\n",
       "  </thead>\n",
       "  <tbody>\n",
       "    <tr>\n",
       "      <th>13010</th>\n",
       "      <td>25564</td>\n",
       "      <td>24507.970984</td>\n",
       "      <td>1056.029016</td>\n",
       "    </tr>\n",
       "    <tr>\n",
       "      <th>12035</th>\n",
       "      <td>20386</td>\n",
       "      <td>13280.130979</td>\n",
       "      <td>7105.869021</td>\n",
       "    </tr>\n",
       "    <tr>\n",
       "      <th>11051</th>\n",
       "      <td>20348</td>\n",
       "      <td>24507.970984</td>\n",
       "      <td>-4159.970984</td>\n",
       "    </tr>\n",
       "    <tr>\n",
       "      <th>13456</th>\n",
       "      <td>8182</td>\n",
       "      <td>11719.992442</td>\n",
       "      <td>-3537.992442</td>\n",
       "    </tr>\n",
       "    <tr>\n",
       "      <th>8727</th>\n",
       "      <td>23210</td>\n",
       "      <td>22582.633230</td>\n",
       "      <td>627.366770</td>\n",
       "    </tr>\n",
       "    <tr>\n",
       "      <th>15768</th>\n",
       "      <td>13172</td>\n",
       "      <td>16683.004415</td>\n",
       "      <td>-3511.004415</td>\n",
       "    </tr>\n",
       "    <tr>\n",
       "      <th>220</th>\n",
       "      <td>22192</td>\n",
       "      <td>19812.415063</td>\n",
       "      <td>2379.584937</td>\n",
       "    </tr>\n",
       "    <tr>\n",
       "      <th>3577</th>\n",
       "      <td>12538</td>\n",
       "      <td>15129.720467</td>\n",
       "      <td>-2591.720467</td>\n",
       "    </tr>\n",
       "    <tr>\n",
       "      <th>10823</th>\n",
       "      <td>25564</td>\n",
       "      <td>23651.034031</td>\n",
       "      <td>1912.965969</td>\n",
       "    </tr>\n",
       "    <tr>\n",
       "      <th>1377</th>\n",
       "      <td>25564</td>\n",
       "      <td>24020.232048</td>\n",
       "      <td>1543.767952</td>\n",
       "    </tr>\n",
       "    <tr>\n",
       "      <th>14861</th>\n",
       "      <td>14969</td>\n",
       "      <td>18999.514716</td>\n",
       "      <td>-4030.514716</td>\n",
       "    </tr>\n",
       "    <tr>\n",
       "      <th>3799</th>\n",
       "      <td>21591</td>\n",
       "      <td>12082.140457</td>\n",
       "      <td>9508.859543</td>\n",
       "    </tr>\n",
       "    <tr>\n",
       "      <th>9404</th>\n",
       "      <td>18690</td>\n",
       "      <td>19277.117252</td>\n",
       "      <td>-587.117252</td>\n",
       "    </tr>\n",
       "    <tr>\n",
       "      <th>7653</th>\n",
       "      <td>12766</td>\n",
       "      <td>12005.126497</td>\n",
       "      <td>760.873503</td>\n",
       "    </tr>\n",
       "    <tr>\n",
       "      <th>8701</th>\n",
       "      <td>25564</td>\n",
       "      <td>20442.043840</td>\n",
       "      <td>5121.956160</td>\n",
       "    </tr>\n",
       "    <tr>\n",
       "      <th>11611</th>\n",
       "      <td>24791</td>\n",
       "      <td>20226.999571</td>\n",
       "      <td>4564.000429</td>\n",
       "    </tr>\n",
       "    <tr>\n",
       "      <th>9027</th>\n",
       "      <td>24276</td>\n",
       "      <td>22030.356743</td>\n",
       "      <td>2245.643257</td>\n",
       "    </tr>\n",
       "    <tr>\n",
       "      <th>4557</th>\n",
       "      <td>25564</td>\n",
       "      <td>24166.094071</td>\n",
       "      <td>1397.905929</td>\n",
       "    </tr>\n",
       "    <tr>\n",
       "      <th>2024</th>\n",
       "      <td>23680</td>\n",
       "      <td>17465.293493</td>\n",
       "      <td>6214.706507</td>\n",
       "    </tr>\n",
       "    <tr>\n",
       "      <th>5918</th>\n",
       "      <td>11471</td>\n",
       "      <td>15321.751562</td>\n",
       "      <td>-3850.751562</td>\n",
       "    </tr>\n",
       "  </tbody>\n",
       "</table>\n",
       "</div>"
      ],
      "text/plain": [
       "       Actual Y   Predicted Y     Residual\n",
       "13010     25564  24507.970984  1056.029016\n",
       "12035     20386  13280.130979  7105.869021\n",
       "11051     20348  24507.970984 -4159.970984\n",
       "13456      8182  11719.992442 -3537.992442\n",
       "8727      23210  22582.633230   627.366770\n",
       "15768     13172  16683.004415 -3511.004415\n",
       "220       22192  19812.415063  2379.584937\n",
       "3577      12538  15129.720467 -2591.720467\n",
       "10823     25564  23651.034031  1912.965969\n",
       "1377      25564  24020.232048  1543.767952\n",
       "14861     14969  18999.514716 -4030.514716\n",
       "3799      21591  12082.140457  9508.859543\n",
       "9404      18690  19277.117252  -587.117252\n",
       "7653      12766  12005.126497   760.873503\n",
       "8701      25564  20442.043840  5121.956160\n",
       "11611     24791  20226.999571  4564.000429\n",
       "9027      24276  22030.356743  2245.643257\n",
       "4557      25564  24166.094071  1397.905929\n",
       "2024      23680  17465.293493  6214.706507\n",
       "5918      11471  15321.751562 -3850.751562"
      ]
     },
     "execution_count": 46,
     "metadata": {},
     "output_type": "execute_result"
    }
   ],
   "source": [
    "pd.DataFrame({'Actual Y':y_test,'Predicted Y':y_pred,'Residual':(y_test-y_pred)}).head(20)"
   ]
  },
  {
   "cell_type": "code",
   "execution_count": 47,
   "id": "ecaa3794",
   "metadata": {},
   "outputs": [
    {
     "data": {
      "text/plain": [
       "array([-9.11950623e+02, -3.41876912e+02, -9.73834785e+01, -1.16782570e+03,\n",
       "        2.56798607e-01,  4.09997550e-01])"
      ]
     },
     "execution_count": 47,
     "metadata": {},
     "output_type": "execute_result"
    }
   ],
   "source": [
    "model.coef_"
   ]
  },
  {
   "cell_type": "code",
   "execution_count": 48,
   "id": "692f5c86",
   "metadata": {},
   "outputs": [
    {
     "data": {
      "text/plain": [
       "7517.077257415804"
      ]
     },
     "execution_count": 48,
     "metadata": {},
     "output_type": "execute_result"
    }
   ],
   "source": [
    "model.intercept_"
   ]
  },
  {
   "cell_type": "markdown",
   "id": "021d3937",
   "metadata": {},
   "source": [
    "### Validation"
   ]
  },
  {
   "cell_type": "code",
   "execution_count": 49,
   "id": "734a4286",
   "metadata": {},
   "outputs": [],
   "source": [
    "from sklearn.metrics import r2_score, mean_squared_error, mean_absolute_percentage_error"
   ]
  },
  {
   "cell_type": "code",
   "execution_count": 50,
   "id": "a3ed2837",
   "metadata": {},
   "outputs": [],
   "source": [
    "def validation(test,pred):\n",
    "    print('R2 value',r2_score(test,pred))\n",
    "    print('MSE',mean_squared_error(test,pred))\n",
    "    print('RMSE',mean_squared_error(test,pred)**0.5)\n",
    "    print('MAPE',mean_absolute_percentage_error(test,pred))"
   ]
  },
  {
   "cell_type": "code",
   "execution_count": 51,
   "id": "08b285b5",
   "metadata": {},
   "outputs": [
    {
     "name": "stdout",
     "output_type": "stream",
     "text": [
      "R2 value 0.46852742311069395\n",
      "MSE 33196223.87838618\n",
      "RMSE 5761.616429300564\n",
      "MAPE 1.4964317940030747\n"
     ]
    }
   ],
   "source": [
    "validation(y_test,y_pred)"
   ]
  },
  {
   "cell_type": "code",
   "execution_count": 52,
   "id": "f783463b",
   "metadata": {},
   "outputs": [
    {
     "data": {
      "text/plain": [
       "0.46852742311069395"
      ]
     },
     "execution_count": 52,
     "metadata": {},
     "output_type": "execute_result"
    }
   ],
   "source": [
    "model.score(x_test,y_test)"
   ]
  },
  {
   "cell_type": "code",
   "execution_count": 53,
   "id": "91920a11",
   "metadata": {},
   "outputs": [
    {
     "name": "stdout",
     "output_type": "stream",
     "text": [
      "Adjusted R2: 0.43655914780908156\n"
     ]
    }
   ],
   "source": [
    "r2= r2_score(y_test,y_pred)\n",
    "k= 16\n",
    "n= 283\n",
    "ra2= 1-(((n-1)/(n-k-1))*(1-r2))\n",
    "print('Adjusted R2:',ra2)"
   ]
  },
  {
   "cell_type": "markdown",
   "id": "9d598d79",
   "metadata": {},
   "source": [
    "### Checking the model for overfitting"
   ]
  },
  {
   "cell_type": "code",
   "execution_count": 54,
   "id": "97aeeba7",
   "metadata": {},
   "outputs": [
    {
     "name": "stdout",
     "output_type": "stream",
     "text": [
      "Training accuracy\n",
      "0.4660115370108431\n",
      "Test accuracy\n",
      "0.46852742311069395\n"
     ]
    }
   ],
   "source": [
    "print('Training accuracy')\n",
    "print(model.score(x_train, y_train))\n",
    "\n",
    "print('Test accuracy')\n",
    "print(model.score(x_test, y_test))"
   ]
  },
  {
   "cell_type": "markdown",
   "id": "b696feed",
   "metadata": {},
   "source": [
    "### Ridge Regression"
   ]
  },
  {
   "cell_type": "code",
   "execution_count": 55,
   "id": "1eefd3d6",
   "metadata": {},
   "outputs": [],
   "source": [
    "from sklearn.linear_model import Ridge,Lasso"
   ]
  },
  {
   "cell_type": "code",
   "execution_count": 56,
   "id": "aeacea08",
   "metadata": {},
   "outputs": [],
   "source": [
    "model_ridge = Ridge(alpha=10)"
   ]
  },
  {
   "cell_type": "code",
   "execution_count": 57,
   "id": "c4993b06",
   "metadata": {},
   "outputs": [
    {
     "data": {
      "text/plain": [
       "Ridge(alpha=10)"
      ]
     },
     "execution_count": 57,
     "metadata": {},
     "output_type": "execute_result"
    }
   ],
   "source": [
    "model_ridge.fit(x_train,y_train)"
   ]
  },
  {
   "cell_type": "code",
   "execution_count": 58,
   "id": "abc83c82",
   "metadata": {},
   "outputs": [],
   "source": [
    "y_pred_ridge= model_ridge.predict(x_test)"
   ]
  },
  {
   "cell_type": "code",
   "execution_count": 59,
   "id": "011fdb5b",
   "metadata": {},
   "outputs": [
    {
     "name": "stdout",
     "output_type": "stream",
     "text": [
      "R2 value 0.46854052669127144\n",
      "MSE 33195405.417729184\n",
      "RMSE 5761.5454018630435\n",
      "MAPE 1.4963363500918223\n"
     ]
    }
   ],
   "source": [
    "validation(y_test,y_pred_ridge)"
   ]
  },
  {
   "cell_type": "markdown",
   "id": "ea34c5c1",
   "metadata": {},
   "source": [
    "### GridsearchCV"
   ]
  },
  {
   "cell_type": "code",
   "execution_count": 60,
   "id": "346d7286",
   "metadata": {},
   "outputs": [],
   "source": [
    "from sklearn.model_selection import GridSearchCV, RandomizedSearchCV"
   ]
  },
  {
   "cell_type": "code",
   "execution_count": 61,
   "id": "7dd3565c",
   "metadata": {},
   "outputs": [],
   "source": [
    "#Parameter grid\n",
    "params= {'alpha':[0.001,0.01,0.1,1,10,100,1000]}"
   ]
  },
  {
   "cell_type": "code",
   "execution_count": 62,
   "id": "94198ffc",
   "metadata": {},
   "outputs": [],
   "source": [
    "gscv= GridSearchCV(estimator=Ridge(),\n",
    "                  param_grid= params,\n",
    "                  scoring='r2',\n",
    "                  verbose=3,\n",
    "                  cv=2)"
   ]
  },
  {
   "cell_type": "code",
   "execution_count": 63,
   "id": "48cb633c",
   "metadata": {},
   "outputs": [
    {
     "name": "stdout",
     "output_type": "stream",
     "text": [
      "Fitting 2 folds for each of 7 candidates, totalling 14 fits\n",
      "[CV 1/2] END .......................alpha=0.001;, score=0.476 total time=   0.0s\n",
      "[CV 2/2] END .......................alpha=0.001;, score=0.452 total time=   0.0s\n",
      "[CV 1/2] END ........................alpha=0.01;, score=0.476 total time=   0.0s\n",
      "[CV 2/2] END ........................alpha=0.01;, score=0.452 total time=   0.0s\n",
      "[CV 1/2] END .........................alpha=0.1;, score=0.476 total time=   0.0s\n",
      "[CV 2/2] END .........................alpha=0.1;, score=0.452 total time=   0.0s\n",
      "[CV 1/2] END ...........................alpha=1;, score=0.476 total time=   0.0s\n",
      "[CV 2/2] END ...........................alpha=1;, score=0.452 total time=   0.0s\n",
      "[CV 1/2] END ..........................alpha=10;, score=0.476 total time=   0.0s\n",
      "[CV 2/2] END ..........................alpha=10;, score=0.452 total time=   0.0s\n",
      "[CV 1/2] END .........................alpha=100;, score=0.476 total time=   0.0s\n",
      "[CV 2/2] END .........................alpha=100;, score=0.453 total time=   0.0s\n",
      "[CV 1/2] END ........................alpha=1000;, score=0.476 total time=   0.0s\n",
      "[CV 2/2] END ........................alpha=1000;, score=0.452 total time=   0.0s\n"
     ]
    },
    {
     "data": {
      "text/plain": [
       "GridSearchCV(cv=2, estimator=Ridge(),\n",
       "             param_grid={'alpha': [0.001, 0.01, 0.1, 1, 10, 100, 1000]},\n",
       "             scoring='r2', verbose=3)"
      ]
     },
     "execution_count": 63,
     "metadata": {},
     "output_type": "execute_result"
    }
   ],
   "source": [
    "gscv.fit(x_train,y_train)"
   ]
  },
  {
   "cell_type": "code",
   "execution_count": 64,
   "id": "5b89c8e7",
   "metadata": {},
   "outputs": [
    {
     "data": {
      "text/plain": [
       "{'alpha': 100}"
      ]
     },
     "execution_count": 64,
     "metadata": {},
     "output_type": "execute_result"
    }
   ],
   "source": [
    "gscv.best_params_"
   ]
  },
  {
   "cell_type": "code",
   "execution_count": 65,
   "id": "dcafae37",
   "metadata": {},
   "outputs": [],
   "source": [
    "model__ridge= Ridge(gscv.best_params_)"
   ]
  },
  {
   "cell_type": "code",
   "execution_count": 66,
   "id": "2b0af281",
   "metadata": {},
   "outputs": [
    {
     "data": {
      "text/plain": [
       "Ridge(alpha=10)"
      ]
     },
     "execution_count": 66,
     "metadata": {},
     "output_type": "execute_result"
    }
   ],
   "source": [
    "model_ridge.fit(x,y)"
   ]
  },
  {
   "cell_type": "code",
   "execution_count": 67,
   "id": "473174b2",
   "metadata": {},
   "outputs": [],
   "source": [
    "y_pred_ridge= model_ridge.predict(x_test)"
   ]
  },
  {
   "cell_type": "code",
   "execution_count": 68,
   "id": "979d15af",
   "metadata": {},
   "outputs": [
    {
     "name": "stdout",
     "output_type": "stream",
     "text": [
      "R2 value 0.46888321469367467\n",
      "MSE 33174000.837054867\n",
      "RMSE 5759.687564187389\n",
      "MAPE 1.4974285404165761\n"
     ]
    }
   ],
   "source": [
    "validation(y_test,y_pred_ridge)"
   ]
  },
  {
   "cell_type": "markdown",
   "id": "30e0aee6",
   "metadata": {},
   "source": [
    "### Lasso"
   ]
  },
  {
   "cell_type": "code",
   "execution_count": 69,
   "id": "3d3e09f9",
   "metadata": {},
   "outputs": [],
   "source": [
    "gscv= GridSearchCV(estimator=Lasso(),\n",
    "                  param_grid=params,\n",
    "                  scoring='r2',\n",
    "                  cv=2,\n",
    "                  verbose=3)"
   ]
  },
  {
   "cell_type": "code",
   "execution_count": 70,
   "id": "15ed303f",
   "metadata": {},
   "outputs": [
    {
     "name": "stdout",
     "output_type": "stream",
     "text": [
      "Fitting 2 folds for each of 7 candidates, totalling 14 fits\n",
      "[CV 1/2] END .......................alpha=0.001;, score=0.450 total time=   0.0s\n",
      "[CV 2/2] END .......................alpha=0.001;, score=0.481 total time=   0.0s\n",
      "[CV 1/2] END ........................alpha=0.01;, score=0.450 total time=   0.0s\n",
      "[CV 2/2] END ........................alpha=0.01;, score=0.481 total time=   0.0s\n",
      "[CV 1/2] END .........................alpha=0.1;, score=0.450 total time=   0.0s\n",
      "[CV 2/2] END .........................alpha=0.1;, score=0.481 total time=   0.0s\n",
      "[CV 1/2] END ...........................alpha=1;, score=0.450 total time=   0.0s\n",
      "[CV 2/2] END ...........................alpha=1;, score=0.481 total time=   0.0s\n",
      "[CV 1/2] END ..........................alpha=10;, score=0.450 total time=   0.0s\n",
      "[CV 2/2] END ..........................alpha=10;, score=0.481 total time=   0.0s\n",
      "[CV 1/2] END .........................alpha=100;, score=0.448 total time=   0.0s\n",
      "[CV 2/2] END .........................alpha=100;, score=0.480 total time=   0.0s\n",
      "[CV 1/2] END ........................alpha=1000;, score=0.445 total time=   0.0s\n",
      "[CV 2/2] END ........................alpha=1000;, score=0.477 total time=   0.0s\n"
     ]
    },
    {
     "data": {
      "text/plain": [
       "GridSearchCV(cv=2, estimator=Lasso(),\n",
       "             param_grid={'alpha': [0.001, 0.01, 0.1, 1, 10, 100, 1000]},\n",
       "             scoring='r2', verbose=3)"
      ]
     },
     "execution_count": 70,
     "metadata": {},
     "output_type": "execute_result"
    }
   ],
   "source": [
    "gscv.fit(x,y)"
   ]
  },
  {
   "cell_type": "code",
   "execution_count": 71,
   "id": "be4fd374",
   "metadata": {},
   "outputs": [
    {
     "data": {
      "text/plain": [
       "{'alpha': 10}"
      ]
     },
     "execution_count": 71,
     "metadata": {},
     "output_type": "execute_result"
    }
   ],
   "source": [
    "gscv.best_params_"
   ]
  },
  {
   "cell_type": "code",
   "execution_count": 72,
   "id": "b8558d3b",
   "metadata": {},
   "outputs": [
    {
     "data": {
      "text/plain": [
       "0.46882235217169677"
      ]
     },
     "execution_count": 72,
     "metadata": {},
     "output_type": "execute_result"
    }
   ],
   "source": [
    "gscv.score(x_test,y_test)"
   ]
  },
  {
   "cell_type": "markdown",
   "id": "38333c47",
   "metadata": {},
   "source": [
    "### KNN Classifier"
   ]
  },
  {
   "cell_type": "code",
   "execution_count": 73,
   "id": "bf337f23",
   "metadata": {},
   "outputs": [
    {
     "data": {
      "text/html": [
       "<div>\n",
       "<style scoped>\n",
       "    .dataframe tbody tr th:only-of-type {\n",
       "        vertical-align: middle;\n",
       "    }\n",
       "\n",
       "    .dataframe tbody tr th {\n",
       "        vertical-align: top;\n",
       "    }\n",
       "\n",
       "    .dataframe thead th {\n",
       "        text-align: right;\n",
       "    }\n",
       "</style>\n",
       "<table border=\"1\" class=\"dataframe\">\n",
       "  <thead>\n",
       "    <tr style=\"text-align: right;\">\n",
       "      <th></th>\n",
       "      <th>Race</th>\n",
       "      <th>Hisp</th>\n",
       "      <th>MaritalStatus</th>\n",
       "      <th>Nodeg</th>\n",
       "      <th>Earnings_1974</th>\n",
       "      <th>Earnings_1975</th>\n",
       "    </tr>\n",
       "  </thead>\n",
       "  <tbody>\n",
       "    <tr>\n",
       "      <th>0</th>\n",
       "      <td>0</td>\n",
       "      <td>0</td>\n",
       "      <td>0</td>\n",
       "      <td>1</td>\n",
       "      <td>21516</td>\n",
       "      <td>25243</td>\n",
       "    </tr>\n",
       "    <tr>\n",
       "      <th>1</th>\n",
       "      <td>0</td>\n",
       "      <td>0</td>\n",
       "      <td>1</td>\n",
       "      <td>0</td>\n",
       "      <td>3175</td>\n",
       "      <td>5852</td>\n",
       "    </tr>\n",
       "    <tr>\n",
       "      <th>2</th>\n",
       "      <td>0</td>\n",
       "      <td>0</td>\n",
       "      <td>0</td>\n",
       "      <td>0</td>\n",
       "      <td>23039</td>\n",
       "      <td>25130</td>\n",
       "    </tr>\n",
       "    <tr>\n",
       "      <th>3</th>\n",
       "      <td>0</td>\n",
       "      <td>0</td>\n",
       "      <td>0</td>\n",
       "      <td>1</td>\n",
       "      <td>24994</td>\n",
       "      <td>25243</td>\n",
       "    </tr>\n",
       "    <tr>\n",
       "      <th>4</th>\n",
       "      <td>0</td>\n",
       "      <td>0</td>\n",
       "      <td>0</td>\n",
       "      <td>1</td>\n",
       "      <td>1669</td>\n",
       "      <td>10727</td>\n",
       "    </tr>\n",
       "    <tr>\n",
       "      <th>...</th>\n",
       "      <td>...</td>\n",
       "      <td>...</td>\n",
       "      <td>...</td>\n",
       "      <td>...</td>\n",
       "      <td>...</td>\n",
       "      <td>...</td>\n",
       "    </tr>\n",
       "    <tr>\n",
       "      <th>15987</th>\n",
       "      <td>1</td>\n",
       "      <td>0</td>\n",
       "      <td>1</td>\n",
       "      <td>0</td>\n",
       "      <td>3975</td>\n",
       "      <td>6801</td>\n",
       "    </tr>\n",
       "    <tr>\n",
       "      <th>15988</th>\n",
       "      <td>1</td>\n",
       "      <td>0</td>\n",
       "      <td>0</td>\n",
       "      <td>0</td>\n",
       "      <td>1445</td>\n",
       "      <td>11832</td>\n",
       "    </tr>\n",
       "    <tr>\n",
       "      <th>15989</th>\n",
       "      <td>0</td>\n",
       "      <td>0</td>\n",
       "      <td>1</td>\n",
       "      <td>0</td>\n",
       "      <td>1733</td>\n",
       "      <td>1559</td>\n",
       "    </tr>\n",
       "    <tr>\n",
       "      <th>15990</th>\n",
       "      <td>0</td>\n",
       "      <td>0</td>\n",
       "      <td>0</td>\n",
       "      <td>1</td>\n",
       "      <td>16914</td>\n",
       "      <td>11384</td>\n",
       "    </tr>\n",
       "    <tr>\n",
       "      <th>15991</th>\n",
       "      <td>0</td>\n",
       "      <td>0</td>\n",
       "      <td>1</td>\n",
       "      <td>1</td>\n",
       "      <td>13628</td>\n",
       "      <td>13144</td>\n",
       "    </tr>\n",
       "  </tbody>\n",
       "</table>\n",
       "<p>12442 rows × 6 columns</p>\n",
       "</div>"
      ],
      "text/plain": [
       "       Race  Hisp  MaritalStatus  Nodeg  Earnings_1974  Earnings_1975\n",
       "0         0     0              0      1          21516          25243\n",
       "1         0     0              1      0           3175           5852\n",
       "2         0     0              0      0          23039          25130\n",
       "3         0     0              0      1          24994          25243\n",
       "4         0     0              0      1           1669          10727\n",
       "...     ...   ...            ...    ...            ...            ...\n",
       "15987     1     0              1      0           3975           6801\n",
       "15988     1     0              0      0           1445          11832\n",
       "15989     0     0              1      0           1733           1559\n",
       "15990     0     0              0      1          16914          11384\n",
       "15991     0     0              1      1          13628          13144\n",
       "\n",
       "[12442 rows x 6 columns]"
      ]
     },
     "execution_count": 73,
     "metadata": {},
     "output_type": "execute_result"
    }
   ],
   "source": [
    "x"
   ]
  },
  {
   "cell_type": "code",
   "execution_count": 74,
   "id": "82615413",
   "metadata": {},
   "outputs": [
    {
     "data": {
      "text/plain": [
       "0        25564\n",
       "1        13496\n",
       "2        25564\n",
       "3        25564\n",
       "4         9860\n",
       "         ...  \n",
       "15987     2757\n",
       "15988     6895\n",
       "15989     4221\n",
       "15990    13671\n",
       "15991     7979\n",
       "Name: Earnings_1978, Length: 12442, dtype: int32"
      ]
     },
     "execution_count": 74,
     "metadata": {},
     "output_type": "execute_result"
    }
   ],
   "source": [
    "y"
   ]
  },
  {
   "cell_type": "code",
   "execution_count": 75,
   "id": "00dd7126",
   "metadata": {},
   "outputs": [],
   "source": [
    "from sklearn.preprocessing import StandardScaler\n",
    "sc= StandardScaler()"
   ]
  },
  {
   "cell_type": "code",
   "execution_count": 76,
   "id": "4000c850",
   "metadata": {},
   "outputs": [],
   "source": [
    "x_train_s = sc.fit_transform(x_train)\n",
    "x_test_s = sc.fit_transform(x_test)"
   ]
  },
  {
   "cell_type": "code",
   "execution_count": 77,
   "id": "33e17c8f",
   "metadata": {},
   "outputs": [
    {
     "data": {
      "text/plain": [
       "array([[-0.26929826, -0.27799477, -0.57561004, -0.61757737, -1.21204154,\n",
       "         0.1330882 ],\n",
       "       [-0.26929826,  3.59719   ,  1.73728729,  1.61923032, -1.90588014,\n",
       "        -1.14357543],\n",
       "       [-0.26929826, -0.27799477, -0.57561004, -0.61757737,  0.49984577,\n",
       "         0.81280968],\n",
       "       ...,\n",
       "       [-0.26929826, -0.27799477,  1.73728729, -0.61757737,  1.11396058,\n",
       "         1.12543376],\n",
       "       [-0.26929826, -0.27799477, -0.57561004,  1.61923032, -0.15062792,\n",
       "        -0.91020817],\n",
       "       [ 3.71335488, -0.27799477, -0.57561004, -0.61757737,  1.11396058,\n",
       "         1.12543376]])"
      ]
     },
     "execution_count": 77,
     "metadata": {},
     "output_type": "execute_result"
    }
   ],
   "source": [
    "x_train_s"
   ]
  },
  {
   "cell_type": "code",
   "execution_count": 78,
   "id": "573becc2",
   "metadata": {},
   "outputs": [],
   "source": [
    "from sklearn.neighbors import KNeighborsClassifier"
   ]
  },
  {
   "cell_type": "code",
   "execution_count": 79,
   "id": "8ea1d9c3",
   "metadata": {},
   "outputs": [],
   "source": [
    "model_knn= KNeighborsClassifier(n_neighbors=7)"
   ]
  },
  {
   "cell_type": "code",
   "execution_count": 80,
   "id": "2466dd0e",
   "metadata": {},
   "outputs": [
    {
     "data": {
      "text/plain": [
       "KNeighborsClassifier(n_neighbors=7)"
      ]
     },
     "execution_count": 80,
     "metadata": {},
     "output_type": "execute_result"
    }
   ],
   "source": [
    "model_knn.fit(x_train_s,y_train)"
   ]
  },
  {
   "cell_type": "code",
   "execution_count": 81,
   "id": "11889f4e",
   "metadata": {},
   "outputs": [
    {
     "data": {
      "text/plain": [
       "8975     19785\n",
       "14102     5785\n",
       "12585    25564\n",
       "15231    13259\n",
       "8673     18062\n",
       "         ...  \n",
       "3255     22765\n",
       "15152     2365\n",
       "8530     25564\n",
       "3330     14109\n",
       "9423     25564\n",
       "Name: Earnings_1978, Length: 9953, dtype: int32"
      ]
     },
     "execution_count": 81,
     "metadata": {},
     "output_type": "execute_result"
    }
   ],
   "source": [
    "y_train"
   ]
  },
  {
   "cell_type": "code",
   "execution_count": 82,
   "id": "7445378e",
   "metadata": {},
   "outputs": [
    {
     "data": {
      "text/plain": [
       "0.27721976697468864"
      ]
     },
     "execution_count": 82,
     "metadata": {},
     "output_type": "execute_result"
    }
   ],
   "source": [
    "model_knn.score(x_test_s,y_test)"
   ]
  },
  {
   "cell_type": "code",
   "execution_count": 83,
   "id": "c7608f34",
   "metadata": {},
   "outputs": [],
   "source": [
    "y_pred_knn= model_knn.predict(x_test_s)"
   ]
  },
  {
   "cell_type": "code",
   "execution_count": 84,
   "id": "0c5314fc",
   "metadata": {},
   "outputs": [
    {
     "data": {
      "text/html": [
       "<div>\n",
       "<style scoped>\n",
       "    .dataframe tbody tr th:only-of-type {\n",
       "        vertical-align: middle;\n",
       "    }\n",
       "\n",
       "    .dataframe tbody tr th {\n",
       "        vertical-align: top;\n",
       "    }\n",
       "\n",
       "    .dataframe thead th {\n",
       "        text-align: right;\n",
       "    }\n",
       "</style>\n",
       "<table border=\"1\" class=\"dataframe\">\n",
       "  <thead>\n",
       "    <tr style=\"text-align: right;\">\n",
       "      <th></th>\n",
       "      <th>Actual</th>\n",
       "      <th>Pred MR</th>\n",
       "      <th>Pred KNN</th>\n",
       "    </tr>\n",
       "  </thead>\n",
       "  <tbody>\n",
       "    <tr>\n",
       "      <th>13010</th>\n",
       "      <td>25564</td>\n",
       "      <td>24507.970984</td>\n",
       "      <td>25564</td>\n",
       "    </tr>\n",
       "    <tr>\n",
       "      <th>12035</th>\n",
       "      <td>20386</td>\n",
       "      <td>13280.130979</td>\n",
       "      <td>738</td>\n",
       "    </tr>\n",
       "    <tr>\n",
       "      <th>11051</th>\n",
       "      <td>20348</td>\n",
       "      <td>24507.970984</td>\n",
       "      <td>25564</td>\n",
       "    </tr>\n",
       "    <tr>\n",
       "      <th>13456</th>\n",
       "      <td>8182</td>\n",
       "      <td>11719.992442</td>\n",
       "      <td>3079</td>\n",
       "    </tr>\n",
       "    <tr>\n",
       "      <th>8727</th>\n",
       "      <td>23210</td>\n",
       "      <td>22582.633230</td>\n",
       "      <td>25564</td>\n",
       "    </tr>\n",
       "    <tr>\n",
       "      <th>15768</th>\n",
       "      <td>13172</td>\n",
       "      <td>16683.004415</td>\n",
       "      <td>5170</td>\n",
       "    </tr>\n",
       "    <tr>\n",
       "      <th>220</th>\n",
       "      <td>22192</td>\n",
       "      <td>19812.415063</td>\n",
       "      <td>25564</td>\n",
       "    </tr>\n",
       "    <tr>\n",
       "      <th>3577</th>\n",
       "      <td>12538</td>\n",
       "      <td>15129.720467</td>\n",
       "      <td>1439</td>\n",
       "    </tr>\n",
       "    <tr>\n",
       "      <th>10823</th>\n",
       "      <td>25564</td>\n",
       "      <td>23651.034031</td>\n",
       "      <td>25564</td>\n",
       "    </tr>\n",
       "    <tr>\n",
       "      <th>1377</th>\n",
       "      <td>25564</td>\n",
       "      <td>24020.232048</td>\n",
       "      <td>25564</td>\n",
       "    </tr>\n",
       "    <tr>\n",
       "      <th>14861</th>\n",
       "      <td>14969</td>\n",
       "      <td>18999.514716</td>\n",
       "      <td>25564</td>\n",
       "    </tr>\n",
       "    <tr>\n",
       "      <th>3799</th>\n",
       "      <td>21591</td>\n",
       "      <td>12082.140457</td>\n",
       "      <td>2098</td>\n",
       "    </tr>\n",
       "    <tr>\n",
       "      <th>9404</th>\n",
       "      <td>18690</td>\n",
       "      <td>19277.117252</td>\n",
       "      <td>17360</td>\n",
       "    </tr>\n",
       "    <tr>\n",
       "      <th>7653</th>\n",
       "      <td>12766</td>\n",
       "      <td>12005.126497</td>\n",
       "      <td>10361</td>\n",
       "    </tr>\n",
       "    <tr>\n",
       "      <th>8701</th>\n",
       "      <td>25564</td>\n",
       "      <td>20442.043840</td>\n",
       "      <td>15966</td>\n",
       "    </tr>\n",
       "    <tr>\n",
       "      <th>11611</th>\n",
       "      <td>24791</td>\n",
       "      <td>20226.999571</td>\n",
       "      <td>25564</td>\n",
       "    </tr>\n",
       "    <tr>\n",
       "      <th>9027</th>\n",
       "      <td>24276</td>\n",
       "      <td>22030.356743</td>\n",
       "      <td>25564</td>\n",
       "    </tr>\n",
       "    <tr>\n",
       "      <th>4557</th>\n",
       "      <td>25564</td>\n",
       "      <td>24166.094071</td>\n",
       "      <td>25564</td>\n",
       "    </tr>\n",
       "    <tr>\n",
       "      <th>2024</th>\n",
       "      <td>23680</td>\n",
       "      <td>17465.293493</td>\n",
       "      <td>3457</td>\n",
       "    </tr>\n",
       "    <tr>\n",
       "      <th>5918</th>\n",
       "      <td>11471</td>\n",
       "      <td>15321.751562</td>\n",
       "      <td>54</td>\n",
       "    </tr>\n",
       "  </tbody>\n",
       "</table>\n",
       "</div>"
      ],
      "text/plain": [
       "       Actual       Pred MR  Pred KNN\n",
       "13010   25564  24507.970984     25564\n",
       "12035   20386  13280.130979       738\n",
       "11051   20348  24507.970984     25564\n",
       "13456    8182  11719.992442      3079\n",
       "8727    23210  22582.633230     25564\n",
       "15768   13172  16683.004415      5170\n",
       "220     22192  19812.415063     25564\n",
       "3577    12538  15129.720467      1439\n",
       "10823   25564  23651.034031     25564\n",
       "1377    25564  24020.232048     25564\n",
       "14861   14969  18999.514716     25564\n",
       "3799    21591  12082.140457      2098\n",
       "9404    18690  19277.117252     17360\n",
       "7653    12766  12005.126497     10361\n",
       "8701    25564  20442.043840     15966\n",
       "11611   24791  20226.999571     25564\n",
       "9027    24276  22030.356743     25564\n",
       "4557    25564  24166.094071     25564\n",
       "2024    23680  17465.293493      3457\n",
       "5918    11471  15321.751562        54"
      ]
     },
     "execution_count": 84,
     "metadata": {},
     "output_type": "execute_result"
    }
   ],
   "source": [
    "pd.DataFrame({\"Actual\":y_test,'Pred MR':y_pred,'Pred KNN':y_pred_knn}).head(20)"
   ]
  },
  {
   "cell_type": "code",
   "execution_count": 85,
   "id": "430cb90d",
   "metadata": {},
   "outputs": [],
   "source": [
    "dataindex=12035"
   ]
  },
  {
   "cell_type": "code",
   "execution_count": 86,
   "id": "9aa42bf3",
   "metadata": {},
   "outputs": [
    {
     "name": "stdout",
     "output_type": "stream",
     "text": [
      "R2 value -0.36033114549006706\n",
      "MSE 84967426.76496585\n",
      "RMSE 9217.77775632315\n",
      "MAPE 1.0457438217046466\n"
     ]
    }
   ],
   "source": [
    "validation(y_test,y_pred_knn)"
   ]
  },
  {
   "cell_type": "code",
   "execution_count": 87,
   "id": "98085555",
   "metadata": {},
   "outputs": [
    {
     "name": "stdout",
     "output_type": "stream",
     "text": [
      "R2 value 0.46888321469367467\n",
      "MSE 33174000.837054867\n",
      "RMSE 5759.687564187389\n",
      "MAPE 1.4974285404165761\n"
     ]
    }
   ],
   "source": [
    "validation(y_test,y_pred_ridge)"
   ]
  },
  {
   "cell_type": "code",
   "execution_count": 88,
   "id": "d0e53b88",
   "metadata": {},
   "outputs": [
    {
     "name": "stdout",
     "output_type": "stream",
     "text": [
      "R2 value 0.46852742311069395\n",
      "MSE 33196223.87838618\n",
      "RMSE 5761.616429300564\n",
      "MAPE 1.4964317940030747\n"
     ]
    }
   ],
   "source": [
    "validation(y_test,y_pred)"
   ]
  },
  {
   "cell_type": "markdown",
   "id": "d258c1fe",
   "metadata": {},
   "source": [
    "### Decision Tree Regression"
   ]
  },
  {
   "cell_type": "code",
   "execution_count": 89,
   "id": "c353afaa",
   "metadata": {},
   "outputs": [],
   "source": [
    "from sklearn.tree import DecisionTreeRegressor\n",
    "model_dt= DecisionTreeRegressor()"
   ]
  },
  {
   "cell_type": "code",
   "execution_count": 90,
   "id": "9768abd2",
   "metadata": {},
   "outputs": [],
   "source": [
    "params1= {'criterion':['mse','squared_error'],\n",
    "        'max_depth':[5,6,7,8,9]}"
   ]
  },
  {
   "cell_type": "code",
   "execution_count": 91,
   "id": "86207e4b",
   "metadata": {},
   "outputs": [],
   "source": [
    "gscv= GridSearchCV(estimator= model_dt,\n",
    "                  param_grid= params1,\n",
    "                  scoring= 'r2',\n",
    "                  verbose=3,\n",
    "                  cv=2)"
   ]
  },
  {
   "cell_type": "code",
   "execution_count": 92,
   "id": "7b908ebd",
   "metadata": {},
   "outputs": [
    {
     "name": "stdout",
     "output_type": "stream",
     "text": [
      "Fitting 2 folds for each of 10 candidates, totalling 20 fits\n",
      "[CV 1/2] END ........criterion=mse, max_depth=5;, score=0.453 total time=   0.0s\n",
      "[CV 2/2] END ........criterion=mse, max_depth=5;, score=0.438 total time=   0.0s\n",
      "[CV 1/2] END ........criterion=mse, max_depth=6;, score=0.449 total time=   0.0s\n",
      "[CV 2/2] END ........criterion=mse, max_depth=6;, score=0.420 total time=   0.0s\n",
      "[CV 1/2] END ........criterion=mse, max_depth=7;, score=0.429 total time=   0.0s\n",
      "[CV 2/2] END ........criterion=mse, max_depth=7;, score=0.399 total time=   0.0s\n",
      "[CV 1/2] END ........criterion=mse, max_depth=8;, score=0.399 total time=   0.0s\n",
      "[CV 2/2] END ........criterion=mse, max_depth=8;, score=0.375 total time=   0.0s\n",
      "[CV 1/2] END ........criterion=mse, max_depth=9;, score=0.353 total time=   0.0s\n",
      "[CV 2/2] END ........criterion=mse, max_depth=9;, score=0.339 total time=   0.0s\n",
      "[CV 1/2] END criterion=squared_error, max_depth=5;, score=nan total time=   0.0s\n",
      "[CV 2/2] END criterion=squared_error, max_depth=5;, score=nan total time=   0.0s\n",
      "[CV 1/2] END criterion=squared_error, max_depth=6;, score=nan total time=   0.0s\n",
      "[CV 2/2] END criterion=squared_error, max_depth=6;, score=nan total time=   0.0s\n",
      "[CV 1/2] END criterion=squared_error, max_depth=7;, score=nan total time=   0.0s\n",
      "[CV 2/2] END criterion=squared_error, max_depth=7;, score=nan total time=   0.0s\n",
      "[CV 1/2] END criterion=squared_error, max_depth=8;, score=nan total time=   0.0s\n",
      "[CV 2/2] END criterion=squared_error, max_depth=8;, score=nan total time=   0.0s\n",
      "[CV 1/2] END criterion=squared_error, max_depth=9;, score=nan total time=   0.0s\n",
      "[CV 2/2] END criterion=squared_error, max_depth=9;, score=nan total time=   0.0s\n"
     ]
    },
    {
     "data": {
      "text/plain": [
       "GridSearchCV(cv=2, estimator=DecisionTreeRegressor(),\n",
       "             param_grid={'criterion': ['mse', 'squared_error'],\n",
       "                         'max_depth': [5, 6, 7, 8, 9]},\n",
       "             scoring='r2', verbose=3)"
      ]
     },
     "execution_count": 92,
     "metadata": {},
     "output_type": "execute_result"
    }
   ],
   "source": [
    "gscv.fit(x_train,y_train)"
   ]
  },
  {
   "cell_type": "code",
   "execution_count": 93,
   "id": "8ff12358",
   "metadata": {},
   "outputs": [
    {
     "data": {
      "text/plain": [
       "0.44528684810083285"
      ]
     },
     "execution_count": 93,
     "metadata": {},
     "output_type": "execute_result"
    }
   ],
   "source": [
    "gscv.best_score_"
   ]
  },
  {
   "cell_type": "code",
   "execution_count": 94,
   "id": "892aa811",
   "metadata": {},
   "outputs": [
    {
     "data": {
      "text/plain": [
       "{'criterion': 'mse', 'max_depth': 5}"
      ]
     },
     "execution_count": 94,
     "metadata": {},
     "output_type": "execute_result"
    }
   ],
   "source": [
    "gscv.best_params_"
   ]
  },
  {
   "cell_type": "code",
   "execution_count": 95,
   "id": "79cb5a0b",
   "metadata": {},
   "outputs": [],
   "source": [
    "model_dt = DecisionTreeRegressor(**gscv.best_params_)"
   ]
  },
  {
   "cell_type": "code",
   "execution_count": 96,
   "id": "842845cb",
   "metadata": {},
   "outputs": [
    {
     "data": {
      "text/plain": [
       "DecisionTreeRegressor(max_depth=5)"
      ]
     },
     "execution_count": 96,
     "metadata": {},
     "output_type": "execute_result"
    }
   ],
   "source": [
    "model_dt.fit(x_train,y_train)"
   ]
  },
  {
   "cell_type": "code",
   "execution_count": 97,
   "id": "138df2d4",
   "metadata": {},
   "outputs": [],
   "source": [
    "y_pred_dt= model_dt.predict(x_test)"
   ]
  },
  {
   "cell_type": "code",
   "execution_count": 98,
   "id": "940522c1",
   "metadata": {},
   "outputs": [
    {
     "name": "stdout",
     "output_type": "stream",
     "text": [
      "R2 value 0.4679724710920915\n",
      "MSE 33230886.647929467\n",
      "RMSE 5764.623721278733\n",
      "MAPE 1.4890348293457545\n"
     ]
    }
   ],
   "source": [
    "validation(y_test,y_pred_dt)"
   ]
  },
  {
   "cell_type": "code",
   "execution_count": 99,
   "id": "ad8d5528",
   "metadata": {},
   "outputs": [],
   "source": [
    "from sklearn import tree"
   ]
  },
  {
   "cell_type": "code",
   "execution_count": 100,
   "id": "d650ea06",
   "metadata": {},
   "outputs": [
    {
     "data": {
      "image/png": "[encoded data removed]",
      "text/plain": [
       "<Figure size 1440x504 with 1 Axes>"
      ]
     },
     "metadata": {
      "needs_background": "light"
     },
     "output_type": "display_data"
    }
   ],
   "source": [
    "plt.figure(figsize=(20,7))\n",
    "tree.plot_tree(model_dt,feature_names=x_test.columns,fontsize=10)\n",
    "plt.show()"
   ]
  },
  {
   "cell_type": "markdown",
   "id": "4001433c",
   "metadata": {},
   "source": [
    "## BAGGING"
   ]
  },
  {
   "cell_type": "markdown",
   "id": "fcd3c521",
   "metadata": {},
   "source": [
    "### Random Forest"
   ]
  },
  {
   "cell_type": "code",
   "execution_count": 101,
   "id": "419fc62e",
   "metadata": {},
   "outputs": [],
   "source": [
    "from sklearn.ensemble import RandomForestRegressor"
   ]
  },
  {
   "cell_type": "code",
   "execution_count": 102,
   "id": "20a9f5d2",
   "metadata": {},
   "outputs": [],
   "source": [
    "model_rf= RandomForestRegressor()"
   ]
  },
  {
   "cell_type": "code",
   "execution_count": 103,
   "id": "b8716a21",
   "metadata": {},
   "outputs": [],
   "source": [
    "params= {'n_estimators':[200,250,300,400],\n",
    "         'criterion':['mse','squared_error'],\n",
    "         'max_depth':[4,5,6,7]}"
   ]
  },
  {
   "cell_type": "code",
   "execution_count": 104,
   "id": "9c293fa3",
   "metadata": {},
   "outputs": [],
   "source": [
    "gscv=GridSearchCV(estimator=model_rf,\n",
    "                 param_grid=params,\n",
    "                 scoring='r2',\n",
    "                 cv=2,\n",
    "                 verbose=3)"
   ]
  },
  {
   "cell_type": "code",
   "execution_count": 105,
   "id": "a729833f",
   "metadata": {
    "scrolled": true
   },
   "outputs": [
    {
     "name": "stdout",
     "output_type": "stream",
     "text": [
      "Fitting 2 folds for each of 32 candidates, totalling 64 fits\n",
      "[CV 1/2] END criterion=mse, max_depth=4, n_estimators=200;, score=0.474 total time=   0.5s\n",
      "[CV 2/2] END criterion=mse, max_depth=4, n_estimators=200;, score=0.451 total time=   0.5s\n",
      "[CV 1/2] END criterion=mse, max_depth=4, n_estimators=250;, score=0.473 total time=   0.7s\n",
      "[CV 2/2] END criterion=mse, max_depth=4, n_estimators=250;, score=0.451 total time=   0.7s\n",
      "[CV 1/2] END criterion=mse, max_depth=4, n_estimators=300;, score=0.474 total time=   0.9s\n",
      "[CV 2/2] END criterion=mse, max_depth=4, n_estimators=300;, score=0.451 total time=   0.9s\n",
      "[CV 1/2] END criterion=mse, max_depth=4, n_estimators=400;, score=0.474 total time=   1.2s\n",
      "[CV 2/2] END criterion=mse, max_depth=4, n_estimators=400;, score=0.451 total time=   1.2s\n",
      "[CV 1/2] END criterion=mse, max_depth=5, n_estimators=200;, score=0.475 total time=   0.7s\n",
      "[CV 2/2] END criterion=mse, max_depth=5, n_estimators=200;, score=0.452 total time=   0.7s\n",
      "[CV 1/2] END criterion=mse, max_depth=5, n_estimators=250;, score=0.475 total time=   0.9s\n",
      "[CV 2/2] END criterion=mse, max_depth=5, n_estimators=250;, score=0.452 total time=   0.8s\n",
      "[CV 1/2] END criterion=mse, max_depth=5, n_estimators=300;, score=0.475 total time=   1.0s\n",
      "[CV 2/2] END criterion=mse, max_depth=5, n_estimators=300;, score=0.451 total time=   1.0s\n",
      "[CV 1/2] END criterion=mse, max_depth=5, n_estimators=400;, score=0.475 total time=   1.4s\n",
      "[CV 2/2] END criterion=mse, max_depth=5, n_estimators=400;, score=0.451 total time=   1.4s\n",
      "[CV 1/2] END criterion=mse, max_depth=6, n_estimators=200;, score=0.474 total time=   0.8s\n",
      "[CV 2/2] END criterion=mse, max_depth=6, n_estimators=200;, score=0.450 total time=   0.8s\n",
      "[CV 1/2] END criterion=mse, max_depth=6, n_estimators=250;, score=0.474 total time=   1.0s\n",
      "[CV 2/2] END criterion=mse, max_depth=6, n_estimators=250;, score=0.450 total time=   1.0s\n",
      "[CV 1/2] END criterion=mse, max_depth=6, n_estimators=300;, score=0.474 total time=   1.2s\n",
      "[CV 2/2] END criterion=mse, max_depth=6, n_estimators=300;, score=0.449 total time=   1.3s\n",
      "[CV 1/2] END criterion=mse, max_depth=6, n_estimators=400;, score=0.474 total time=   1.6s\n",
      "[CV 2/2] END criterion=mse, max_depth=6, n_estimators=400;, score=0.450 total time=   1.6s\n",
      "[CV 1/2] END criterion=mse, max_depth=7, n_estimators=200;, score=0.472 total time=   0.8s\n",
      "[CV 2/2] END criterion=mse, max_depth=7, n_estimators=200;, score=0.447 total time=   0.8s\n",
      "[CV 1/2] END criterion=mse, max_depth=7, n_estimators=250;, score=0.473 total time=   1.1s\n",
      "[CV 2/2] END criterion=mse, max_depth=7, n_estimators=250;, score=0.448 total time=   1.1s\n",
      "[CV 1/2] END criterion=mse, max_depth=7, n_estimators=300;, score=0.472 total time=   1.3s\n",
      "[CV 2/2] END criterion=mse, max_depth=7, n_estimators=300;, score=0.448 total time=   1.3s\n",
      "[CV 1/2] END criterion=mse, max_depth=7, n_estimators=400;, score=0.473 total time=   1.8s\n",
      "[CV 2/2] END criterion=mse, max_depth=7, n_estimators=400;, score=0.448 total time=   1.8s\n",
      "[CV 1/2] END criterion=squared_error, max_depth=4, n_estimators=200;, score=nan total time=   0.0s\n",
      "[CV 2/2] END criterion=squared_error, max_depth=4, n_estimators=200;, score=nan total time=   0.0s\n",
      "[CV 1/2] END criterion=squared_error, max_depth=4, n_estimators=250;, score=nan total time=   0.0s\n",
      "[CV 2/2] END criterion=squared_error, max_depth=4, n_estimators=250;, score=nan total time=   0.0s\n",
      "[CV 1/2] END criterion=squared_error, max_depth=4, n_estimators=300;, score=nan total time=   0.0s\n",
      "[CV 2/2] END criterion=squared_error, max_depth=4, n_estimators=300;, score=nan total time=   0.0s\n",
      "[CV 1/2] END criterion=squared_error, max_depth=4, n_estimators=400;, score=nan total time=   0.0s\n",
      "[CV 2/2] END criterion=squared_error, max_depth=4, n_estimators=400;, score=nan total time=   0.0s\n",
      "[CV 1/2] END criterion=squared_error, max_depth=5, n_estimators=200;, score=nan total time=   0.0s\n",
      "[CV 2/2] END criterion=squared_error, max_depth=5, n_estimators=200;, score=nan total time=   0.0s\n",
      "[CV 1/2] END criterion=squared_error, max_depth=5, n_estimators=250;, score=nan total time=   0.0s\n",
      "[CV 2/2] END criterion=squared_error, max_depth=5, n_estimators=250;, score=nan total time=   0.0s\n",
      "[CV 1/2] END criterion=squared_error, max_depth=5, n_estimators=300;, score=nan total time=   0.0s\n",
      "[CV 2/2] END criterion=squared_error, max_depth=5, n_estimators=300;, score=nan total time=   0.0s\n",
      "[CV 1/2] END criterion=squared_error, max_depth=5, n_estimators=400;, score=nan total time=   0.0s\n",
      "[CV 2/2] END criterion=squared_error, max_depth=5, n_estimators=400;, score=nan total time=   0.0s\n",
      "[CV 1/2] END criterion=squared_error, max_depth=6, n_estimators=200;, score=nan total time=   0.0s\n",
      "[CV 2/2] END criterion=squared_error, max_depth=6, n_estimators=200;, score=nan total time=   0.0s\n",
      "[CV 1/2] END criterion=squared_error, max_depth=6, n_estimators=250;, score=nan total time=   0.0s\n",
      "[CV 2/2] END criterion=squared_error, max_depth=6, n_estimators=250;, score=nan total time=   0.0s\n",
      "[CV 1/2] END criterion=squared_error, max_depth=6, n_estimators=300;, score=nan total time=   0.0s\n",
      "[CV 2/2] END criterion=squared_error, max_depth=6, n_estimators=300;, score=nan total time=   0.0s\n",
      "[CV 1/2] END criterion=squared_error, max_depth=6, n_estimators=400;, score=nan total time=   0.0s\n",
      "[CV 2/2] END criterion=squared_error, max_depth=6, n_estimators=400;, score=nan total time=   0.0s\n",
      "[CV 1/2] END criterion=squared_error, max_depth=7, n_estimators=200;, score=nan total time=   0.0s\n",
      "[CV 2/2] END criterion=squared_error, max_depth=7, n_estimators=200;, score=nan total time=   0.0s\n",
      "[CV 1/2] END criterion=squared_error, max_depth=7, n_estimators=250;, score=nan total time=   0.0s\n",
      "[CV 2/2] END criterion=squared_error, max_depth=7, n_estimators=250;, score=nan total time=   0.0s\n",
      "[CV 1/2] END criterion=squared_error, max_depth=7, n_estimators=300;, score=nan total time=   0.0s\n",
      "[CV 2/2] END criterion=squared_error, max_depth=7, n_estimators=300;, score=nan total time=   0.0s\n",
      "[CV 1/2] END criterion=squared_error, max_depth=7, n_estimators=400;, score=nan total time=   0.0s\n",
      "[CV 2/2] END criterion=squared_error, max_depth=7, n_estimators=400;, score=nan total time=   0.0s\n"
     ]
    },
    {
     "data": {
      "text/plain": [
       "GridSearchCV(cv=2, estimator=RandomForestRegressor(),\n",
       "             param_grid={'criterion': ['mse', 'squared_error'],\n",
       "                         'max_depth': [4, 5, 6, 7],\n",
       "                         'n_estimators': [200, 250, 300, 400]},\n",
       "             scoring='r2', verbose=3)"
      ]
     },
     "execution_count": 105,
     "metadata": {},
     "output_type": "execute_result"
    }
   ],
   "source": [
    "gscv.fit(x_train,y_train)"
   ]
  },
  {
   "cell_type": "code",
   "execution_count": 106,
   "id": "bc202f79",
   "metadata": {},
   "outputs": [
    {
     "data": {
      "text/plain": [
       "0.4633819354174036"
      ]
     },
     "execution_count": 106,
     "metadata": {},
     "output_type": "execute_result"
    }
   ],
   "source": [
    "gscv.best_score_"
   ]
  },
  {
   "cell_type": "code",
   "execution_count": 107,
   "id": "25c31a11",
   "metadata": {},
   "outputs": [
    {
     "data": {
      "text/plain": [
       "{'criterion': 'mse', 'max_depth': 5, 'n_estimators': 250}"
      ]
     },
     "execution_count": 107,
     "metadata": {},
     "output_type": "execute_result"
    }
   ],
   "source": [
    "gscv.best_params_"
   ]
  },
  {
   "cell_type": "code",
   "execution_count": 108,
   "id": "d2a3cbe7",
   "metadata": {},
   "outputs": [],
   "source": [
    "model_rf = RandomForestRegressor(**gscv.best_params_)"
   ]
  },
  {
   "cell_type": "code",
   "execution_count": 109,
   "id": "0facc35b",
   "metadata": {},
   "outputs": [
    {
     "data": {
      "text/plain": [
       "RandomForestRegressor(max_depth=5, n_estimators=250)"
      ]
     },
     "execution_count": 109,
     "metadata": {},
     "output_type": "execute_result"
    }
   ],
   "source": [
    "model_rf.fit(x_train,y_train)"
   ]
  },
  {
   "cell_type": "code",
   "execution_count": 110,
   "id": "44c2a1a8",
   "metadata": {},
   "outputs": [],
   "source": [
    "y_pred_rf= model_rf.predict(x_test)"
   ]
  },
  {
   "cell_type": "code",
   "execution_count": 111,
   "id": "e4c6a3a1",
   "metadata": {},
   "outputs": [
    {
     "name": "stdout",
     "output_type": "stream",
     "text": [
      "R2 value 0.47663378281379687\n",
      "MSE 32689893.8375815\n",
      "RMSE 5717.5076595997225\n",
      "MAPE 1.5000781570974735\n"
     ]
    }
   ],
   "source": [
    "validation(y_test,y_pred_rf)"
   ]
  },
  {
   "cell_type": "markdown",
   "id": "6e40a6a6",
   "metadata": {},
   "source": [
    "## Bagging"
   ]
  },
  {
   "cell_type": "markdown",
   "id": "92fc07fc",
   "metadata": {},
   "source": [
    "### Random Forest"
   ]
  },
  {
   "cell_type": "code",
   "execution_count": 112,
   "id": "d00d33d7",
   "metadata": {},
   "outputs": [],
   "source": [
    "from sklearn.ensemble import RandomForestRegressor"
   ]
  },
  {
   "cell_type": "code",
   "execution_count": 113,
   "id": "fdbe2ad4",
   "metadata": {},
   "outputs": [],
   "source": [
    "model_rf= RandomForestRegressor()"
   ]
  },
  {
   "cell_type": "code",
   "execution_count": 114,
   "id": "a41dcc47",
   "metadata": {},
   "outputs": [],
   "source": [
    "params= {'n_estimators':[150,200,250,300],\n",
    "        'criterion':['mse','squared_error'],\n",
    "        'max_depth':[4,5,6]}"
   ]
  },
  {
   "cell_type": "code",
   "execution_count": 115,
   "id": "8d2213de",
   "metadata": {},
   "outputs": [],
   "source": [
    "gscv= GridSearchCV(estimator=model_rf,\n",
    "                  param_grid=params,\n",
    "                  scoring='r2',\n",
    "                  cv=2,\n",
    "                  verbose=3)"
   ]
  },
  {
   "cell_type": "code",
   "execution_count": 116,
   "id": "0cd5a412",
   "metadata": {},
   "outputs": [
    {
     "name": "stdout",
     "output_type": "stream",
     "text": [
      "Fitting 2 folds for each of 24 candidates, totalling 48 fits\n",
      "[CV 1/2] END criterion=mse, max_depth=4, n_estimators=150;, score=0.474 total time=   0.4s\n",
      "[CV 2/2] END criterion=mse, max_depth=4, n_estimators=150;, score=0.451 total time=   0.4s\n",
      "[CV 1/2] END criterion=mse, max_depth=4, n_estimators=200;, score=0.474 total time=   0.6s\n",
      "[CV 2/2] END criterion=mse, max_depth=4, n_estimators=200;, score=0.451 total time=   0.6s\n",
      "[CV 1/2] END criterion=mse, max_depth=4, n_estimators=250;, score=0.473 total time=   0.7s\n",
      "[CV 2/2] END criterion=mse, max_depth=4, n_estimators=250;, score=0.450 total time=   0.7s\n",
      "[CV 1/2] END criterion=mse, max_depth=4, n_estimators=300;, score=0.474 total time=   0.9s\n",
      "[CV 2/2] END criterion=mse, max_depth=4, n_estimators=300;, score=0.451 total time=   0.9s\n",
      "[CV 1/2] END criterion=mse, max_depth=5, n_estimators=150;, score=0.475 total time=   0.5s\n",
      "[CV 2/2] END criterion=mse, max_depth=5, n_estimators=150;, score=0.452 total time=   0.5s\n",
      "[CV 1/2] END criterion=mse, max_depth=5, n_estimators=200;, score=0.474 total time=   0.7s\n",
      "[CV 2/2] END criterion=mse, max_depth=5, n_estimators=200;, score=0.451 total time=   0.6s\n",
      "[CV 1/2] END criterion=mse, max_depth=5, n_estimators=250;, score=0.475 total time=   0.9s\n",
      "[CV 2/2] END criterion=mse, max_depth=5, n_estimators=250;, score=0.451 total time=   0.8s\n",
      "[CV 1/2] END criterion=mse, max_depth=5, n_estimators=300;, score=0.475 total time=   1.0s\n",
      "[CV 2/2] END criterion=mse, max_depth=5, n_estimators=300;, score=0.452 total time=   1.0s\n",
      "[CV 1/2] END criterion=mse, max_depth=6, n_estimators=150;, score=0.473 total time=   0.5s\n",
      "[CV 2/2] END criterion=mse, max_depth=6, n_estimators=150;, score=0.451 total time=   0.5s\n",
      "[CV 1/2] END criterion=mse, max_depth=6, n_estimators=200;, score=0.473 total time=   0.7s\n",
      "[CV 2/2] END criterion=mse, max_depth=6, n_estimators=200;, score=0.450 total time=   0.7s\n",
      "[CV 1/2] END criterion=mse, max_depth=6, n_estimators=250;, score=0.474 total time=   1.0s\n",
      "[CV 2/2] END criterion=mse, max_depth=6, n_estimators=250;, score=0.450 total time=   0.9s\n",
      "[CV 1/2] END criterion=mse, max_depth=6, n_estimators=300;, score=0.475 total time=   1.2s\n",
      "[CV 2/2] END criterion=mse, max_depth=6, n_estimators=300;, score=0.450 total time=   1.1s\n",
      "[CV 1/2] END criterion=squared_error, max_depth=4, n_estimators=150;, score=nan total time=   0.0s\n",
      "[CV 2/2] END criterion=squared_error, max_depth=4, n_estimators=150;, score=nan total time=   0.0s\n",
      "[CV 1/2] END criterion=squared_error, max_depth=4, n_estimators=200;, score=nan total time=   0.0s\n",
      "[CV 2/2] END criterion=squared_error, max_depth=4, n_estimators=200;, score=nan total time=   0.0s\n",
      "[CV 1/2] END criterion=squared_error, max_depth=4, n_estimators=250;, score=nan total time=   0.0s\n",
      "[CV 2/2] END criterion=squared_error, max_depth=4, n_estimators=250;, score=nan total time=   0.0s\n",
      "[CV 1/2] END criterion=squared_error, max_depth=4, n_estimators=300;, score=nan total time=   0.0s\n",
      "[CV 2/2] END criterion=squared_error, max_depth=4, n_estimators=300;, score=nan total time=   0.0s\n",
      "[CV 1/2] END criterion=squared_error, max_depth=5, n_estimators=150;, score=nan total time=   0.0s\n",
      "[CV 2/2] END criterion=squared_error, max_depth=5, n_estimators=150;, score=nan total time=   0.0s\n",
      "[CV 1/2] END criterion=squared_error, max_depth=5, n_estimators=200;, score=nan total time=   0.0s\n",
      "[CV 2/2] END criterion=squared_error, max_depth=5, n_estimators=200;, score=nan total time=   0.0s\n",
      "[CV 1/2] END criterion=squared_error, max_depth=5, n_estimators=250;, score=nan total time=   0.0s\n",
      "[CV 2/2] END criterion=squared_error, max_depth=5, n_estimators=250;, score=nan total time=   0.0s\n",
      "[CV 1/2] END criterion=squared_error, max_depth=5, n_estimators=300;, score=nan total time=   0.0s\n",
      "[CV 2/2] END criterion=squared_error, max_depth=5, n_estimators=300;, score=nan total time=   0.0s\n",
      "[CV 1/2] END criterion=squared_error, max_depth=6, n_estimators=150;, score=nan total time=   0.0s\n",
      "[CV 2/2] END criterion=squared_error, max_depth=6, n_estimators=150;, score=nan total time=   0.0s\n",
      "[CV 1/2] END criterion=squared_error, max_depth=6, n_estimators=200;, score=nan total time=   0.0s\n",
      "[CV 2/2] END criterion=squared_error, max_depth=6, n_estimators=200;, score=nan total time=   0.0s\n",
      "[CV 1/2] END criterion=squared_error, max_depth=6, n_estimators=250;, score=nan total time=   0.0s\n",
      "[CV 2/2] END criterion=squared_error, max_depth=6, n_estimators=250;, score=nan total time=   0.0s\n",
      "[CV 1/2] END criterion=squared_error, max_depth=6, n_estimators=300;, score=nan total time=   0.0s\n",
      "[CV 2/2] END criterion=squared_error, max_depth=6, n_estimators=300;, score=nan total time=   0.0s\n"
     ]
    },
    {
     "data": {
      "text/plain": [
       "GridSearchCV(cv=2, estimator=RandomForestRegressor(),\n",
       "             param_grid={'criterion': ['mse', 'squared_error'],\n",
       "                         'max_depth': [4, 5, 6],\n",
       "                         'n_estimators': [150, 200, 250, 300]},\n",
       "             scoring='r2', verbose=3)"
      ]
     },
     "execution_count": 116,
     "metadata": {},
     "output_type": "execute_result"
    }
   ],
   "source": [
    "gscv.fit(x_train,y_train)"
   ]
  },
  {
   "cell_type": "code",
   "execution_count": 117,
   "id": "c8632f1b",
   "metadata": {},
   "outputs": [
    {
     "data": {
      "text/plain": [
       "0.4635695869625836"
      ]
     },
     "execution_count": 117,
     "metadata": {},
     "output_type": "execute_result"
    }
   ],
   "source": [
    "gscv.best_score_"
   ]
  },
  {
   "cell_type": "code",
   "execution_count": 118,
   "id": "b46d280d",
   "metadata": {},
   "outputs": [
    {
     "data": {
      "text/plain": [
       "{'criterion': 'mse', 'max_depth': 5, 'n_estimators': 300}"
      ]
     },
     "execution_count": 118,
     "metadata": {},
     "output_type": "execute_result"
    }
   ],
   "source": [
    "gscv.best_params_"
   ]
  },
  {
   "cell_type": "code",
   "execution_count": 119,
   "id": "23c474f8",
   "metadata": {},
   "outputs": [],
   "source": [
    "model_rf= RandomForestRegressor(**gscv.best_params_)"
   ]
  },
  {
   "cell_type": "code",
   "execution_count": 120,
   "id": "35874ca4",
   "metadata": {},
   "outputs": [
    {
     "data": {
      "text/plain": [
       "RandomForestRegressor(max_depth=5, n_estimators=300)"
      ]
     },
     "execution_count": 120,
     "metadata": {},
     "output_type": "execute_result"
    }
   ],
   "source": [
    "model_rf.fit(x_train,y_train)"
   ]
  },
  {
   "cell_type": "code",
   "execution_count": 121,
   "id": "f73851f2",
   "metadata": {},
   "outputs": [],
   "source": [
    "y_pred_rf= model_rf.predict(x_test)"
   ]
  },
  {
   "cell_type": "code",
   "execution_count": 122,
   "id": "fdb17587",
   "metadata": {},
   "outputs": [
    {
     "name": "stdout",
     "output_type": "stream",
     "text": [
      "R2 value 0.47632536228461797\n",
      "MSE 32709158.043074917\n",
      "RMSE 5719.192079575131\n",
      "MAPE 1.4998964925553604\n"
     ]
    }
   ],
   "source": [
    "validation(y_test,y_pred_rf)"
   ]
  },
  {
   "cell_type": "markdown",
   "id": "b73352cf",
   "metadata": {},
   "source": [
    "## Boosting"
   ]
  },
  {
   "cell_type": "markdown",
   "id": "07a4b92f",
   "metadata": {},
   "source": [
    "### ADA Boosting"
   ]
  },
  {
   "cell_type": "code",
   "execution_count": 123,
   "id": "7c25d8ea",
   "metadata": {},
   "outputs": [],
   "source": [
    "from sklearn.ensemble import AdaBoostRegressor"
   ]
  },
  {
   "cell_type": "code",
   "execution_count": 124,
   "id": "50f86101",
   "metadata": {},
   "outputs": [],
   "source": [
    "model_ada= AdaBoostRegressor()"
   ]
  },
  {
   "cell_type": "code",
   "execution_count": 125,
   "id": "4bb89d72",
   "metadata": {},
   "outputs": [],
   "source": [
    "params= {'n_estimators':[100,150,200,250,300],\n",
    "        'learning_rate':[0.001,0.01,0.1]}"
   ]
  },
  {
   "cell_type": "code",
   "execution_count": 126,
   "id": "ffa28a70",
   "metadata": {},
   "outputs": [],
   "source": [
    "gscv= GridSearchCV(estimator=model_ada,\n",
    "                param_grid= params,\n",
    "                scoring='r2',\n",
    "                cv=5,\n",
    "                verbose=3)"
   ]
  },
  {
   "cell_type": "code",
   "execution_count": 127,
   "id": "08b24ab6",
   "metadata": {},
   "outputs": [
    {
     "name": "stdout",
     "output_type": "stream",
     "text": [
      "Fitting 5 folds for each of 15 candidates, totalling 75 fits\n",
      "[CV 1/5] END learning_rate=0.001, n_estimators=100;, score=0.496 total time=   0.6s\n",
      "[CV 2/5] END learning_rate=0.001, n_estimators=100;, score=0.450 total time=   0.6s\n",
      "[CV 3/5] END learning_rate=0.001, n_estimators=100;, score=0.466 total time=   0.7s\n",
      "[CV 4/5] END learning_rate=0.001, n_estimators=100;, score=0.429 total time=   0.6s\n",
      "[CV 5/5] END learning_rate=0.001, n_estimators=100;, score=0.439 total time=   0.7s\n",
      "[CV 1/5] END learning_rate=0.001, n_estimators=150;, score=0.496 total time=   0.9s\n",
      "[CV 2/5] END learning_rate=0.001, n_estimators=150;, score=0.449 total time=   1.0s\n",
      "[CV 3/5] END learning_rate=0.001, n_estimators=150;, score=0.466 total time=   1.0s\n",
      "[CV 4/5] END learning_rate=0.001, n_estimators=150;, score=0.430 total time=   0.9s\n",
      "[CV 5/5] END learning_rate=0.001, n_estimators=150;, score=0.441 total time=   1.0s\n",
      "[CV 1/5] END learning_rate=0.001, n_estimators=200;, score=0.494 total time=   1.3s\n",
      "[CV 2/5] END learning_rate=0.001, n_estimators=200;, score=0.452 total time=   1.3s\n",
      "[CV 3/5] END learning_rate=0.001, n_estimators=200;, score=0.466 total time=   1.3s\n",
      "[CV 4/5] END learning_rate=0.001, n_estimators=200;, score=0.431 total time=   1.3s\n",
      "[CV 5/5] END learning_rate=0.001, n_estimators=200;, score=0.441 total time=   1.3s\n",
      "[CV 1/5] END learning_rate=0.001, n_estimators=250;, score=0.495 total time=   1.6s\n",
      "[CV 2/5] END learning_rate=0.001, n_estimators=250;, score=0.450 total time=   1.7s\n",
      "[CV 3/5] END learning_rate=0.001, n_estimators=250;, score=0.466 total time=   1.7s\n",
      "[CV 4/5] END learning_rate=0.001, n_estimators=250;, score=0.429 total time=   1.7s\n",
      "[CV 5/5] END learning_rate=0.001, n_estimators=250;, score=0.441 total time=   1.6s\n",
      "[CV 1/5] END learning_rate=0.001, n_estimators=300;, score=0.495 total time=   2.0s\n",
      "[CV 2/5] END learning_rate=0.001, n_estimators=300;, score=0.451 total time=   2.0s\n",
      "[CV 3/5] END learning_rate=0.001, n_estimators=300;, score=0.466 total time=   2.0s\n",
      "[CV 4/5] END learning_rate=0.001, n_estimators=300;, score=0.430 total time=   2.0s\n",
      "[CV 5/5] END learning_rate=0.001, n_estimators=300;, score=0.441 total time=   2.1s\n",
      "[CV 1/5] END learning_rate=0.01, n_estimators=100;, score=0.493 total time=   0.6s\n",
      "[CV 2/5] END learning_rate=0.01, n_estimators=100;, score=0.453 total time=   0.7s\n",
      "[CV 3/5] END learning_rate=0.01, n_estimators=100;, score=0.463 total time=   0.6s\n",
      "[CV 4/5] END learning_rate=0.01, n_estimators=100;, score=0.429 total time=   0.6s\n",
      "[CV 5/5] END learning_rate=0.01, n_estimators=100;, score=0.441 total time=   0.6s\n",
      "[CV 1/5] END learning_rate=0.01, n_estimators=150;, score=0.488 total time=   1.0s\n",
      "[CV 2/5] END learning_rate=0.01, n_estimators=150;, score=0.451 total time=   0.9s\n",
      "[CV 3/5] END learning_rate=0.01, n_estimators=150;, score=0.458 total time=   1.0s\n",
      "[CV 4/5] END learning_rate=0.01, n_estimators=150;, score=0.429 total time=   1.0s\n",
      "[CV 5/5] END learning_rate=0.01, n_estimators=150;, score=0.437 total time=   1.0s\n",
      "[CV 1/5] END learning_rate=0.01, n_estimators=200;, score=0.485 total time=   1.4s\n",
      "[CV 2/5] END learning_rate=0.01, n_estimators=200;, score=0.448 total time=   1.3s\n",
      "[CV 3/5] END learning_rate=0.01, n_estimators=200;, score=0.455 total time=   1.3s\n",
      "[CV 4/5] END learning_rate=0.01, n_estimators=200;, score=0.426 total time=   1.3s\n",
      "[CV 5/5] END learning_rate=0.01, n_estimators=200;, score=0.437 total time=   1.3s\n",
      "[CV 1/5] END learning_rate=0.01, n_estimators=250;, score=0.482 total time=   1.6s\n",
      "[CV 2/5] END learning_rate=0.01, n_estimators=250;, score=0.445 total time=   1.6s\n",
      "[CV 3/5] END learning_rate=0.01, n_estimators=250;, score=0.451 total time=   1.6s\n",
      "[CV 4/5] END learning_rate=0.01, n_estimators=250;, score=0.423 total time=   1.6s\n",
      "[CV 5/5] END learning_rate=0.01, n_estimators=250;, score=0.433 total time=   1.6s\n",
      "[CV 1/5] END learning_rate=0.01, n_estimators=300;, score=0.477 total time=   2.0s\n",
      "[CV 2/5] END learning_rate=0.01, n_estimators=300;, score=0.442 total time=   2.0s\n",
      "[CV 3/5] END learning_rate=0.01, n_estimators=300;, score=0.447 total time=   2.0s\n",
      "[CV 4/5] END learning_rate=0.01, n_estimators=300;, score=0.420 total time=   2.0s\n",
      "[CV 5/5] END learning_rate=0.01, n_estimators=300;, score=0.430 total time=   2.0s\n",
      "[CV 1/5] END learning_rate=0.1, n_estimators=100;, score=0.452 total time=   0.4s\n",
      "[CV 2/5] END learning_rate=0.1, n_estimators=100;, score=0.414 total time=   0.4s\n",
      "[CV 3/5] END learning_rate=0.1, n_estimators=100;, score=0.412 total time=   0.5s\n",
      "[CV 4/5] END learning_rate=0.1, n_estimators=100;, score=0.396 total time=   0.4s\n",
      "[CV 5/5] END learning_rate=0.1, n_estimators=100;, score=0.416 total time=   0.4s\n",
      "[CV 1/5] END learning_rate=0.1, n_estimators=150;, score=0.452 total time=   0.4s\n",
      "[CV 2/5] END learning_rate=0.1, n_estimators=150;, score=0.411 total time=   0.4s\n",
      "[CV 3/5] END learning_rate=0.1, n_estimators=150;, score=0.418 total time=   0.4s\n",
      "[CV 4/5] END learning_rate=0.1, n_estimators=150;, score=0.395 total time=   0.4s\n",
      "[CV 5/5] END learning_rate=0.1, n_estimators=150;, score=0.415 total time=   0.4s\n",
      "[CV 1/5] END learning_rate=0.1, n_estimators=200;, score=0.450 total time=   0.4s\n",
      "[CV 2/5] END learning_rate=0.1, n_estimators=200;, score=0.409 total time=   0.4s\n",
      "[CV 3/5] END learning_rate=0.1, n_estimators=200;, score=0.417 total time=   0.5s\n",
      "[CV 4/5] END learning_rate=0.1, n_estimators=200;, score=0.397 total time=   0.4s\n",
      "[CV 5/5] END learning_rate=0.1, n_estimators=200;, score=0.421 total time=   0.3s\n",
      "[CV 1/5] END learning_rate=0.1, n_estimators=250;, score=0.449 total time=   0.4s\n",
      "[CV 2/5] END learning_rate=0.1, n_estimators=250;, score=0.416 total time=   0.5s\n",
      "[CV 3/5] END learning_rate=0.1, n_estimators=250;, score=0.413 total time=   0.6s\n",
      "[CV 4/5] END learning_rate=0.1, n_estimators=250;, score=0.395 total time=   0.4s\n",
      "[CV 5/5] END learning_rate=0.1, n_estimators=250;, score=0.411 total time=   0.4s\n",
      "[CV 1/5] END learning_rate=0.1, n_estimators=300;, score=0.441 total time=   0.4s\n",
      "[CV 2/5] END learning_rate=0.1, n_estimators=300;, score=0.410 total time=   0.4s\n",
      "[CV 3/5] END learning_rate=0.1, n_estimators=300;, score=0.414 total time=   0.5s\n",
      "[CV 4/5] END learning_rate=0.1, n_estimators=300;, score=0.398 total time=   0.5s\n",
      "[CV 5/5] END learning_rate=0.1, n_estimators=300;, score=0.415 total time=   0.4s\n"
     ]
    },
    {
     "data": {
      "text/plain": [
       "GridSearchCV(cv=5, estimator=AdaBoostRegressor(),\n",
       "             param_grid={'learning_rate': [0.001, 0.01, 0.1],\n",
       "                         'n_estimators': [100, 150, 200, 250, 300]},\n",
       "             scoring='r2', verbose=3)"
      ]
     },
     "execution_count": 127,
     "metadata": {},
     "output_type": "execute_result"
    }
   ],
   "source": [
    "gscv.fit(x_train,y_train)"
   ]
  },
  {
   "cell_type": "code",
   "execution_count": 128,
   "id": "c999a8aa",
   "metadata": {},
   "outputs": [
    {
     "data": {
      "text/plain": [
       "0.4567434894518404"
      ]
     },
     "execution_count": 128,
     "metadata": {},
     "output_type": "execute_result"
    }
   ],
   "source": [
    "gscv.best_score_"
   ]
  },
  {
   "cell_type": "code",
   "execution_count": 129,
   "id": "e9ad416d",
   "metadata": {},
   "outputs": [
    {
     "data": {
      "text/plain": [
       "{'learning_rate': 0.001, 'n_estimators': 200}"
      ]
     },
     "execution_count": 129,
     "metadata": {},
     "output_type": "execute_result"
    }
   ],
   "source": [
    "gscv.best_params_"
   ]
  },
  {
   "cell_type": "code",
   "execution_count": 130,
   "id": "04330ea3",
   "metadata": {},
   "outputs": [],
   "source": [
    "model_ada= AdaBoostRegressor(**gscv.best_params_)"
   ]
  },
  {
   "cell_type": "code",
   "execution_count": 131,
   "id": "655b7bd4",
   "metadata": {},
   "outputs": [
    {
     "data": {
      "text/plain": [
       "AdaBoostRegressor(learning_rate=0.001, n_estimators=200)"
      ]
     },
     "execution_count": 131,
     "metadata": {},
     "output_type": "execute_result"
    }
   ],
   "source": [
    "model_ada.fit(x_train,y_train)"
   ]
  },
  {
   "cell_type": "code",
   "execution_count": 132,
   "id": "e377f2f4",
   "metadata": {},
   "outputs": [],
   "source": [
    "y_pred_ada= model_ada.predict(x_test)"
   ]
  },
  {
   "cell_type": "code",
   "execution_count": 133,
   "id": "edcfabad",
   "metadata": {},
   "outputs": [
    {
     "name": "stdout",
     "output_type": "stream",
     "text": [
      "R2 value 0.46622380672301056\n",
      "MSE 33340109.694250934\n",
      "RMSE 5774.089512143965\n",
      "MAPE 1.532352091480576\n"
     ]
    }
   ],
   "source": [
    "validation(y_test,y_pred_ada)"
   ]
  },
  {
   "cell_type": "markdown",
   "id": "fafc23be",
   "metadata": {},
   "source": [
    "### Gradient Boosting"
   ]
  },
  {
   "cell_type": "code",
   "execution_count": 134,
   "id": "e20dba87",
   "metadata": {},
   "outputs": [],
   "source": [
    "from sklearn.ensemble import GradientBoostingRegressor"
   ]
  },
  {
   "cell_type": "code",
   "execution_count": 135,
   "id": "90cab789",
   "metadata": {},
   "outputs": [],
   "source": [
    "model_gbr= GradientBoostingRegressor()"
   ]
  },
  {
   "cell_type": "code",
   "execution_count": 136,
   "id": "fda831df",
   "metadata": {},
   "outputs": [],
   "source": [
    "params= {'n_estimators':[100,150,200,250,300],\n",
    "        'learning_rate':[0.001,0.01,0.1],\n",
    "        'max_depth':[2,3,4,5,6]}"
   ]
  },
  {
   "cell_type": "code",
   "execution_count": 137,
   "id": "c1d199d3",
   "metadata": {},
   "outputs": [],
   "source": [
    "gscv= GridSearchCV(estimator= model_gbr,\n",
    "                  param_grid=params,\n",
    "                  scoring='r2',\n",
    "                  cv=5,\n",
    "                  verbose=3)"
   ]
  },
  {
   "cell_type": "code",
   "execution_count": 138,
   "id": "7613d60a",
   "metadata": {},
   "outputs": [
    {
     "name": "stdout",
     "output_type": "stream",
     "text": [
      "Fitting 5 folds for each of 75 candidates, totalling 375 fits\n",
      "[CV 1/5] END learning_rate=0.001, max_depth=2, n_estimators=100;, score=0.079 total time=   0.2s\n",
      "[CV 2/5] END learning_rate=0.001, max_depth=2, n_estimators=100;, score=0.078 total time=   0.3s\n",
      "[CV 3/5] END learning_rate=0.001, max_depth=2, n_estimators=100;, score=0.077 total time=   0.3s\n",
      "[CV 4/5] END learning_rate=0.001, max_depth=2, n_estimators=100;, score=0.074 total time=   0.2s\n",
      "[CV 5/5] END learning_rate=0.001, max_depth=2, n_estimators=100;, score=0.076 total time=   0.2s\n",
      "[CV 1/5] END learning_rate=0.001, max_depth=2, n_estimators=150;, score=0.114 total time=   0.4s\n",
      "[CV 2/5] END learning_rate=0.001, max_depth=2, n_estimators=150;, score=0.112 total time=   0.4s\n",
      "[CV 3/5] END learning_rate=0.001, max_depth=2, n_estimators=150;, score=0.110 total time=   0.4s\n",
      "[CV 4/5] END learning_rate=0.001, max_depth=2, n_estimators=150;, score=0.106 total time=   0.4s\n",
      "[CV 5/5] END learning_rate=0.001, max_depth=2, n_estimators=150;, score=0.108 total time=   0.4s\n",
      "[CV 1/5] END learning_rate=0.001, max_depth=2, n_estimators=200;, score=0.145 total time=   0.6s\n",
      "[CV 2/5] END learning_rate=0.001, max_depth=2, n_estimators=200;, score=0.142 total time=   0.6s\n",
      "[CV 3/5] END learning_rate=0.001, max_depth=2, n_estimators=200;, score=0.141 total time=   0.6s\n",
      "[CV 4/5] END learning_rate=0.001, max_depth=2, n_estimators=200;, score=0.136 total time=   0.6s\n",
      "[CV 5/5] END learning_rate=0.001, max_depth=2, n_estimators=200;, score=0.138 total time=   0.6s\n",
      "[CV 1/5] END learning_rate=0.001, max_depth=2, n_estimators=250;, score=0.174 total time=   0.8s\n",
      "[CV 2/5] END learning_rate=0.001, max_depth=2, n_estimators=250;, score=0.170 total time=   0.8s\n",
      "[CV 3/5] END learning_rate=0.001, max_depth=2, n_estimators=250;, score=0.168 total time=   0.8s\n",
      "[CV 4/5] END learning_rate=0.001, max_depth=2, n_estimators=250;, score=0.162 total time=   0.8s\n",
      "[CV 5/5] END learning_rate=0.001, max_depth=2, n_estimators=250;, score=0.165 total time=   0.8s\n",
      "[CV 1/5] END learning_rate=0.001, max_depth=2, n_estimators=300;, score=0.200 total time=   0.9s\n",
      "[CV 2/5] END learning_rate=0.001, max_depth=2, n_estimators=300;, score=0.195 total time=   1.0s\n",
      "[CV 3/5] END learning_rate=0.001, max_depth=2, n_estimators=300;, score=0.193 total time=   0.9s\n",
      "[CV 4/5] END learning_rate=0.001, max_depth=2, n_estimators=300;, score=0.186 total time=   1.0s\n",
      "[CV 5/5] END learning_rate=0.001, max_depth=2, n_estimators=300;, score=0.190 total time=   0.9s\n",
      "[CV 1/5] END learning_rate=0.001, max_depth=3, n_estimators=100;, score=0.085 total time=   0.4s\n",
      "[CV 2/5] END learning_rate=0.001, max_depth=3, n_estimators=100;, score=0.083 total time=   0.4s\n",
      "[CV 3/5] END learning_rate=0.001, max_depth=3, n_estimators=100;, score=0.083 total time=   0.4s\n",
      "[CV 4/5] END learning_rate=0.001, max_depth=3, n_estimators=100;, score=0.079 total time=   0.4s\n",
      "[CV 5/5] END learning_rate=0.001, max_depth=3, n_estimators=100;, score=0.080 total time=   0.4s\n",
      "[CV 1/5] END learning_rate=0.001, max_depth=3, n_estimators=150;, score=0.121 total time=   0.6s\n",
      "[CV 2/5] END learning_rate=0.001, max_depth=3, n_estimators=150;, score=0.119 total time=   0.6s\n",
      "[CV 3/5] END learning_rate=0.001, max_depth=3, n_estimators=150;, score=0.118 total time=   0.6s\n",
      "[CV 4/5] END learning_rate=0.001, max_depth=3, n_estimators=150;, score=0.113 total time=   0.7s\n",
      "[CV 5/5] END learning_rate=0.001, max_depth=3, n_estimators=150;, score=0.115 total time=   0.6s\n",
      "[CV 1/5] END learning_rate=0.001, max_depth=3, n_estimators=200;, score=0.155 total time=   0.9s\n",
      "[CV 2/5] END learning_rate=0.001, max_depth=3, n_estimators=200;, score=0.151 total time=   0.9s\n",
      "[CV 3/5] END learning_rate=0.001, max_depth=3, n_estimators=200;, score=0.151 total time=   0.9s\n",
      "[CV 4/5] END learning_rate=0.001, max_depth=3, n_estimators=200;, score=0.144 total time=   0.9s\n",
      "[CV 5/5] END learning_rate=0.001, max_depth=3, n_estimators=200;, score=0.146 total time=   0.9s\n",
      "[CV 1/5] END learning_rate=0.001, max_depth=3, n_estimators=250;, score=0.185 total time=   1.1s\n",
      "[CV 2/5] END learning_rate=0.001, max_depth=3, n_estimators=250;, score=0.180 total time=   1.1s\n",
      "[CV 3/5] END learning_rate=0.001, max_depth=3, n_estimators=250;, score=0.180 total time=   1.1s\n",
      "[CV 4/5] END learning_rate=0.001, max_depth=3, n_estimators=250;, score=0.172 total time=   1.1s\n",
      "[CV 5/5] END learning_rate=0.001, max_depth=3, n_estimators=250;, score=0.175 total time=   1.1s\n",
      "[CV 1/5] END learning_rate=0.001, max_depth=3, n_estimators=300;, score=0.213 total time=   1.4s\n",
      "[CV 2/5] END learning_rate=0.001, max_depth=3, n_estimators=300;, score=0.207 total time=   1.4s\n",
      "[CV 3/5] END learning_rate=0.001, max_depth=3, n_estimators=300;, score=0.206 total time=   1.4s\n",
      "[CV 4/5] END learning_rate=0.001, max_depth=3, n_estimators=300;, score=0.197 total time=   1.4s\n",
      "[CV 5/5] END learning_rate=0.001, max_depth=3, n_estimators=300;, score=0.200 total time=   1.5s\n",
      "[CV 1/5] END learning_rate=0.001, max_depth=4, n_estimators=100;, score=0.087 total time=   0.5s\n",
      "[CV 2/5] END learning_rate=0.001, max_depth=4, n_estimators=100;, score=0.085 total time=   0.5s\n",
      "[CV 3/5] END learning_rate=0.001, max_depth=4, n_estimators=100;, score=0.084 total time=   0.5s\n",
      "[CV 4/5] END learning_rate=0.001, max_depth=4, n_estimators=100;, score=0.080 total time=   0.5s\n",
      "[CV 5/5] END learning_rate=0.001, max_depth=4, n_estimators=100;, score=0.082 total time=   0.5s\n",
      "[CV 1/5] END learning_rate=0.001, max_depth=4, n_estimators=150;, score=0.124 total time=   0.8s\n",
      "[CV 2/5] END learning_rate=0.001, max_depth=4, n_estimators=150;, score=0.121 total time=   0.8s\n",
      "[CV 3/5] END learning_rate=0.001, max_depth=4, n_estimators=150;, score=0.121 total time=   0.8s\n",
      "[CV 4/5] END learning_rate=0.001, max_depth=4, n_estimators=150;, score=0.115 total time=   0.9s\n",
      "[CV 5/5] END learning_rate=0.001, max_depth=4, n_estimators=150;, score=0.117 total time=   0.8s\n",
      "[CV 1/5] END learning_rate=0.001, max_depth=4, n_estimators=200;, score=0.158 total time=   1.2s\n",
      "[CV 2/5] END learning_rate=0.001, max_depth=4, n_estimators=200;, score=0.154 total time=   1.1s\n",
      "[CV 3/5] END learning_rate=0.001, max_depth=4, n_estimators=200;, score=0.154 total time=   1.1s\n",
      "[CV 4/5] END learning_rate=0.001, max_depth=4, n_estimators=200;, score=0.146 total time=   1.1s\n",
      "[CV 5/5] END learning_rate=0.001, max_depth=4, n_estimators=200;, score=0.149 total time=   1.2s\n",
      "[CV 1/5] END learning_rate=0.001, max_depth=4, n_estimators=250;, score=0.189 total time=   1.5s\n",
      "[CV 2/5] END learning_rate=0.001, max_depth=4, n_estimators=250;, score=0.184 total time=   1.5s\n",
      "[CV 3/5] END learning_rate=0.001, max_depth=4, n_estimators=250;, score=0.184 total time=   1.5s\n",
      "[CV 4/5] END learning_rate=0.001, max_depth=4, n_estimators=250;, score=0.174 total time=   1.4s\n",
      "[CV 5/5] END learning_rate=0.001, max_depth=4, n_estimators=250;, score=0.179 total time=   1.5s\n",
      "[CV 1/5] END learning_rate=0.001, max_depth=4, n_estimators=300;, score=0.217 total time=   1.7s\n",
      "[CV 2/5] END learning_rate=0.001, max_depth=4, n_estimators=300;, score=0.211 total time=   1.8s\n",
      "[CV 3/5] END learning_rate=0.001, max_depth=4, n_estimators=300;, score=0.210 total time=   1.8s\n",
      "[CV 4/5] END learning_rate=0.001, max_depth=4, n_estimators=300;, score=0.200 total time=   1.8s\n",
      "[CV 5/5] END learning_rate=0.001, max_depth=4, n_estimators=300;, score=0.205 total time=   1.8s\n",
      "[CV 1/5] END learning_rate=0.001, max_depth=5, n_estimators=100;, score=0.087 total time=   0.6s\n",
      "[CV 2/5] END learning_rate=0.001, max_depth=5, n_estimators=100;, score=0.086 total time=   0.7s\n",
      "[CV 3/5] END learning_rate=0.001, max_depth=5, n_estimators=100;, score=0.085 total time=   0.7s\n",
      "[CV 4/5] END learning_rate=0.001, max_depth=5, n_estimators=100;, score=0.081 total time=   0.7s\n",
      "[CV 5/5] END learning_rate=0.001, max_depth=5, n_estimators=100;, score=0.082 total time=   0.6s\n",
      "[CV 1/5] END learning_rate=0.001, max_depth=5, n_estimators=150;, score=0.125 total time=   1.0s\n",
      "[CV 2/5] END learning_rate=0.001, max_depth=5, n_estimators=150;, score=0.123 total time=   1.0s\n",
      "[CV 3/5] END learning_rate=0.001, max_depth=5, n_estimators=150;, score=0.121 total time=   1.0s\n",
      "[CV 4/5] END learning_rate=0.001, max_depth=5, n_estimators=150;, score=0.116 total time=   1.1s\n"
     ]
    },
    {
     "name": "stdout",
     "output_type": "stream",
     "text": [
      "[CV 5/5] END learning_rate=0.001, max_depth=5, n_estimators=150;, score=0.118 total time=   1.0s\n",
      "[CV 1/5] END learning_rate=0.001, max_depth=5, n_estimators=200;, score=0.159 total time=   1.4s\n",
      "[CV 2/5] END learning_rate=0.001, max_depth=5, n_estimators=200;, score=0.156 total time=   1.4s\n",
      "[CV 3/5] END learning_rate=0.001, max_depth=5, n_estimators=200;, score=0.154 total time=   1.4s\n",
      "[CV 4/5] END learning_rate=0.001, max_depth=5, n_estimators=200;, score=0.147 total time=   1.4s\n",
      "[CV 5/5] END learning_rate=0.001, max_depth=5, n_estimators=200;, score=0.151 total time=   1.5s\n",
      "[CV 1/5] END learning_rate=0.001, max_depth=5, n_estimators=250;, score=0.190 total time=   1.8s\n",
      "[CV 2/5] END learning_rate=0.001, max_depth=5, n_estimators=250;, score=0.185 total time=   1.8s\n",
      "[CV 3/5] END learning_rate=0.001, max_depth=5, n_estimators=250;, score=0.184 total time=   1.8s\n",
      "[CV 4/5] END learning_rate=0.001, max_depth=5, n_estimators=250;, score=0.175 total time=   1.8s\n",
      "[CV 5/5] END learning_rate=0.001, max_depth=5, n_estimators=250;, score=0.180 total time=   1.8s\n",
      "[CV 1/5] END learning_rate=0.001, max_depth=5, n_estimators=300;, score=0.218 total time=   2.2s\n",
      "[CV 2/5] END learning_rate=0.001, max_depth=5, n_estimators=300;, score=0.213 total time=   2.2s\n",
      "[CV 3/5] END learning_rate=0.001, max_depth=5, n_estimators=300;, score=0.211 total time=   2.2s\n",
      "[CV 4/5] END learning_rate=0.001, max_depth=5, n_estimators=300;, score=0.201 total time=   2.2s\n",
      "[CV 5/5] END learning_rate=0.001, max_depth=5, n_estimators=300;, score=0.206 total time=   2.2s\n",
      "[CV 1/5] END learning_rate=0.001, max_depth=6, n_estimators=100;, score=0.087 total time=   0.8s\n",
      "[CV 2/5] END learning_rate=0.001, max_depth=6, n_estimators=100;, score=0.086 total time=   0.8s\n",
      "[CV 3/5] END learning_rate=0.001, max_depth=6, n_estimators=100;, score=0.085 total time=   0.7s\n",
      "[CV 4/5] END learning_rate=0.001, max_depth=6, n_estimators=100;, score=0.081 total time=   0.8s\n",
      "[CV 5/5] END learning_rate=0.001, max_depth=6, n_estimators=100;, score=0.082 total time=   0.8s\n",
      "[CV 1/5] END learning_rate=0.001, max_depth=6, n_estimators=150;, score=0.125 total time=   1.2s\n",
      "[CV 2/5] END learning_rate=0.001, max_depth=6, n_estimators=150;, score=0.123 total time=   1.2s\n",
      "[CV 3/5] END learning_rate=0.001, max_depth=6, n_estimators=150;, score=0.122 total time=   1.2s\n",
      "[CV 4/5] END learning_rate=0.001, max_depth=6, n_estimators=150;, score=0.116 total time=   1.2s\n",
      "[CV 5/5] END learning_rate=0.001, max_depth=6, n_estimators=150;, score=0.118 total time=   1.2s\n",
      "[CV 1/5] END learning_rate=0.001, max_depth=6, n_estimators=200;, score=0.160 total time=   1.6s\n",
      "[CV 2/5] END learning_rate=0.001, max_depth=6, n_estimators=200;, score=0.156 total time=   1.7s\n",
      "[CV 3/5] END learning_rate=0.001, max_depth=6, n_estimators=200;, score=0.155 total time=   1.6s\n",
      "[CV 4/5] END learning_rate=0.001, max_depth=6, n_estimators=200;, score=0.147 total time=   1.6s\n",
      "[CV 5/5] END learning_rate=0.001, max_depth=6, n_estimators=200;, score=0.150 total time=   1.6s\n",
      "[CV 1/5] END learning_rate=0.001, max_depth=6, n_estimators=250;, score=0.191 total time=   2.1s\n",
      "[CV 2/5] END learning_rate=0.001, max_depth=6, n_estimators=250;, score=0.186 total time=   2.1s\n",
      "[CV 3/5] END learning_rate=0.001, max_depth=6, n_estimators=250;, score=0.185 total time=   2.1s\n",
      "[CV 4/5] END learning_rate=0.001, max_depth=6, n_estimators=250;, score=0.175 total time=   2.1s\n",
      "[CV 5/5] END learning_rate=0.001, max_depth=6, n_estimators=250;, score=0.179 total time=   2.3s\n",
      "[CV 1/5] END learning_rate=0.001, max_depth=6, n_estimators=300;, score=0.219 total time=   2.6s\n",
      "[CV 2/5] END learning_rate=0.001, max_depth=6, n_estimators=300;, score=0.213 total time=   2.5s\n",
      "[CV 3/5] END learning_rate=0.001, max_depth=6, n_estimators=300;, score=0.212 total time=   2.6s\n",
      "[CV 4/5] END learning_rate=0.001, max_depth=6, n_estimators=300;, score=0.200 total time=   2.5s\n",
      "[CV 5/5] END learning_rate=0.001, max_depth=6, n_estimators=300;, score=0.205 total time=   2.5s\n",
      "[CV 1/5] END learning_rate=0.01, max_depth=2, n_estimators=100;, score=0.408 total time=   0.3s\n",
      "[CV 2/5] END learning_rate=0.01, max_depth=2, n_estimators=100;, score=0.386 total time=   0.3s\n",
      "[CV 3/5] END learning_rate=0.01, max_depth=2, n_estimators=100;, score=0.386 total time=   0.2s\n",
      "[CV 4/5] END learning_rate=0.01, max_depth=2, n_estimators=100;, score=0.367 total time=   0.2s\n",
      "[CV 5/5] END learning_rate=0.01, max_depth=2, n_estimators=100;, score=0.376 total time=   0.3s\n",
      "[CV 1/5] END learning_rate=0.01, max_depth=2, n_estimators=150;, score=0.461 total time=   0.4s\n",
      "[CV 2/5] END learning_rate=0.01, max_depth=2, n_estimators=150;, score=0.430 total time=   0.4s\n",
      "[CV 3/5] END learning_rate=0.01, max_depth=2, n_estimators=150;, score=0.431 total time=   0.4s\n",
      "[CV 4/5] END learning_rate=0.01, max_depth=2, n_estimators=150;, score=0.407 total time=   0.4s\n",
      "[CV 5/5] END learning_rate=0.01, max_depth=2, n_estimators=150;, score=0.419 total time=   0.4s\n",
      "[CV 1/5] END learning_rate=0.01, max_depth=2, n_estimators=200;, score=0.485 total time=   0.6s\n",
      "[CV 2/5] END learning_rate=0.01, max_depth=2, n_estimators=200;, score=0.448 total time=   0.6s\n",
      "[CV 3/5] END learning_rate=0.01, max_depth=2, n_estimators=200;, score=0.451 total time=   0.6s\n",
      "[CV 4/5] END learning_rate=0.01, max_depth=2, n_estimators=200;, score=0.424 total time=   0.6s\n",
      "[CV 5/5] END learning_rate=0.01, max_depth=2, n_estimators=200;, score=0.438 total time=   0.6s\n",
      "[CV 1/5] END learning_rate=0.01, max_depth=2, n_estimators=250;, score=0.496 total time=   0.8s\n",
      "[CV 2/5] END learning_rate=0.01, max_depth=2, n_estimators=250;, score=0.455 total time=   0.8s\n",
      "[CV 3/5] END learning_rate=0.01, max_depth=2, n_estimators=250;, score=0.460 total time=   0.8s\n",
      "[CV 4/5] END learning_rate=0.01, max_depth=2, n_estimators=250;, score=0.431 total time=   0.8s\n",
      "[CV 5/5] END learning_rate=0.01, max_depth=2, n_estimators=250;, score=0.446 total time=   0.8s\n",
      "[CV 1/5] END learning_rate=0.01, max_depth=2, n_estimators=300;, score=0.503 total time=   0.9s\n",
      "[CV 2/5] END learning_rate=0.01, max_depth=2, n_estimators=300;, score=0.459 total time=   0.9s\n",
      "[CV 3/5] END learning_rate=0.01, max_depth=2, n_estimators=300;, score=0.465 total time=   0.9s\n",
      "[CV 4/5] END learning_rate=0.01, max_depth=2, n_estimators=300;, score=0.434 total time=   0.9s\n",
      "[CV 5/5] END learning_rate=0.01, max_depth=2, n_estimators=300;, score=0.451 total time=   1.0s\n",
      "[CV 1/5] END learning_rate=0.01, max_depth=3, n_estimators=100;, score=0.421 total time=   0.4s\n",
      "[CV 2/5] END learning_rate=0.01, max_depth=3, n_estimators=100;, score=0.399 total time=   0.4s\n",
      "[CV 3/5] END learning_rate=0.01, max_depth=3, n_estimators=100;, score=0.401 total time=   0.4s\n",
      "[CV 4/5] END learning_rate=0.01, max_depth=3, n_estimators=100;, score=0.377 total time=   0.4s\n",
      "[CV 5/5] END learning_rate=0.01, max_depth=3, n_estimators=100;, score=0.387 total time=   0.4s\n",
      "[CV 1/5] END learning_rate=0.01, max_depth=3, n_estimators=150;, score=0.471 total time=   0.7s\n",
      "[CV 2/5] END learning_rate=0.01, max_depth=3, n_estimators=150;, score=0.440 total time=   0.6s\n",
      "[CV 3/5] END learning_rate=0.01, max_depth=3, n_estimators=150;, score=0.444 total time=   0.6s\n",
      "[CV 4/5] END learning_rate=0.01, max_depth=3, n_estimators=150;, score=0.416 total time=   0.7s\n",
      "[CV 5/5] END learning_rate=0.01, max_depth=3, n_estimators=150;, score=0.429 total time=   0.6s\n",
      "[CV 1/5] END learning_rate=0.01, max_depth=3, n_estimators=200;, score=0.492 total time=   0.9s\n",
      "[CV 2/5] END learning_rate=0.01, max_depth=3, n_estimators=200;, score=0.455 total time=   0.9s\n",
      "[CV 3/5] END learning_rate=0.01, max_depth=3, n_estimators=200;, score=0.462 total time=   0.9s\n",
      "[CV 4/5] END learning_rate=0.01, max_depth=3, n_estimators=200;, score=0.431 total time=   0.9s\n",
      "[CV 5/5] END learning_rate=0.01, max_depth=3, n_estimators=200;, score=0.445 total time=   1.0s\n",
      "[CV 1/5] END learning_rate=0.01, max_depth=3, n_estimators=250;, score=0.503 total time=   1.1s\n",
      "[CV 2/5] END learning_rate=0.01, max_depth=3, n_estimators=250;, score=0.460 total time=   1.1s\n",
      "[CV 3/5] END learning_rate=0.01, max_depth=3, n_estimators=250;, score=0.469 total time=   1.1s\n",
      "[CV 4/5] END learning_rate=0.01, max_depth=3, n_estimators=250;, score=0.437 total time=   1.2s\n"
     ]
    },
    {
     "name": "stdout",
     "output_type": "stream",
     "text": [
      "[CV 5/5] END learning_rate=0.01, max_depth=3, n_estimators=250;, score=0.452 total time=   1.2s\n",
      "[CV 1/5] END learning_rate=0.01, max_depth=3, n_estimators=300;, score=0.508 total time=   1.4s\n",
      "[CV 2/5] END learning_rate=0.01, max_depth=3, n_estimators=300;, score=0.462 total time=   1.4s\n",
      "[CV 3/5] END learning_rate=0.01, max_depth=3, n_estimators=300;, score=0.472 total time=   1.4s\n",
      "[CV 4/5] END learning_rate=0.01, max_depth=3, n_estimators=300;, score=0.439 total time=   1.4s\n",
      "[CV 5/5] END learning_rate=0.01, max_depth=3, n_estimators=300;, score=0.454 total time=   1.4s\n",
      "[CV 1/5] END learning_rate=0.01, max_depth=4, n_estimators=100;, score=0.427 total time=   0.5s\n",
      "[CV 2/5] END learning_rate=0.01, max_depth=4, n_estimators=100;, score=0.402 total time=   0.5s\n",
      "[CV 3/5] END learning_rate=0.01, max_depth=4, n_estimators=100;, score=0.405 total time=   0.5s\n",
      "[CV 4/5] END learning_rate=0.01, max_depth=4, n_estimators=100;, score=0.382 total time=   0.5s\n",
      "[CV 5/5] END learning_rate=0.01, max_depth=4, n_estimators=100;, score=0.394 total time=   0.5s\n",
      "[CV 1/5] END learning_rate=0.01, max_depth=4, n_estimators=150;, score=0.474 total time=   0.9s\n",
      "[CV 2/5] END learning_rate=0.01, max_depth=4, n_estimators=150;, score=0.442 total time=   0.8s\n",
      "[CV 3/5] END learning_rate=0.01, max_depth=4, n_estimators=150;, score=0.446 total time=   0.9s\n",
      "[CV 4/5] END learning_rate=0.01, max_depth=4, n_estimators=150;, score=0.418 total time=   0.8s\n",
      "[CV 5/5] END learning_rate=0.01, max_depth=4, n_estimators=150;, score=0.433 total time=   0.9s\n",
      "[CV 1/5] END learning_rate=0.01, max_depth=4, n_estimators=200;, score=0.494 total time=   1.2s\n",
      "[CV 2/5] END learning_rate=0.01, max_depth=4, n_estimators=200;, score=0.456 total time=   1.2s\n",
      "[CV 3/5] END learning_rate=0.01, max_depth=4, n_estimators=200;, score=0.462 total time=   1.2s\n",
      "[CV 4/5] END learning_rate=0.01, max_depth=4, n_estimators=200;, score=0.432 total time=   1.1s\n",
      "[CV 5/5] END learning_rate=0.01, max_depth=4, n_estimators=200;, score=0.448 total time=   1.1s\n",
      "[CV 1/5] END learning_rate=0.01, max_depth=4, n_estimators=250;, score=0.503 total time=   1.5s\n",
      "[CV 2/5] END learning_rate=0.01, max_depth=4, n_estimators=250;, score=0.461 total time=   1.5s\n",
      "[CV 3/5] END learning_rate=0.01, max_depth=4, n_estimators=250;, score=0.468 total time=   1.5s\n",
      "[CV 4/5] END learning_rate=0.01, max_depth=4, n_estimators=250;, score=0.437 total time=   1.4s\n",
      "[CV 5/5] END learning_rate=0.01, max_depth=4, n_estimators=250;, score=0.453 total time=   1.5s\n",
      "[CV 1/5] END learning_rate=0.01, max_depth=4, n_estimators=300;, score=0.507 total time=   1.8s\n",
      "[CV 2/5] END learning_rate=0.01, max_depth=4, n_estimators=300;, score=0.462 total time=   1.8s\n",
      "[CV 3/5] END learning_rate=0.01, max_depth=4, n_estimators=300;, score=0.472 total time=   1.8s\n",
      "[CV 4/5] END learning_rate=0.01, max_depth=4, n_estimators=300;, score=0.438 total time=   1.8s\n",
      "[CV 5/5] END learning_rate=0.01, max_depth=4, n_estimators=300;, score=0.455 total time=   1.8s\n",
      "[CV 1/5] END learning_rate=0.01, max_depth=5, n_estimators=100;, score=0.427 total time=   0.7s\n",
      "[CV 2/5] END learning_rate=0.01, max_depth=5, n_estimators=100;, score=0.404 total time=   0.7s\n",
      "[CV 3/5] END learning_rate=0.01, max_depth=5, n_estimators=100;, score=0.408 total time=   0.7s\n",
      "[CV 4/5] END learning_rate=0.01, max_depth=5, n_estimators=100;, score=0.383 total time=   0.7s\n",
      "[CV 5/5] END learning_rate=0.01, max_depth=5, n_estimators=100;, score=0.395 total time=   0.7s\n",
      "[CV 1/5] END learning_rate=0.01, max_depth=5, n_estimators=150;, score=0.474 total time=   1.1s\n",
      "[CV 2/5] END learning_rate=0.01, max_depth=5, n_estimators=150;, score=0.441 total time=   1.0s\n",
      "[CV 3/5] END learning_rate=0.01, max_depth=5, n_estimators=150;, score=0.449 total time=   1.0s\n",
      "[CV 4/5] END learning_rate=0.01, max_depth=5, n_estimators=150;, score=0.419 total time=   1.0s\n",
      "[CV 5/5] END learning_rate=0.01, max_depth=5, n_estimators=150;, score=0.434 total time=   1.0s\n",
      "[CV 1/5] END learning_rate=0.01, max_depth=5, n_estimators=200;, score=0.492 total time=   1.4s\n",
      "[CV 2/5] END learning_rate=0.01, max_depth=5, n_estimators=200;, score=0.454 total time=   1.4s\n",
      "[CV 3/5] END learning_rate=0.01, max_depth=5, n_estimators=200;, score=0.465 total time=   1.4s\n",
      "[CV 4/5] END learning_rate=0.01, max_depth=5, n_estimators=200;, score=0.432 total time=   1.4s\n",
      "[CV 5/5] END learning_rate=0.01, max_depth=5, n_estimators=200;, score=0.448 total time=   1.4s\n",
      "[CV 1/5] END learning_rate=0.01, max_depth=5, n_estimators=250;, score=0.499 total time=   1.8s\n",
      "[CV 2/5] END learning_rate=0.01, max_depth=5, n_estimators=250;, score=0.458 total time=   1.8s\n",
      "[CV 3/5] END learning_rate=0.01, max_depth=5, n_estimators=250;, score=0.470 total time=   1.8s\n",
      "[CV 4/5] END learning_rate=0.01, max_depth=5, n_estimators=250;, score=0.436 total time=   1.8s\n",
      "[CV 5/5] END learning_rate=0.01, max_depth=5, n_estimators=250;, score=0.453 total time=   1.8s\n",
      "[CV 1/5] END learning_rate=0.01, max_depth=5, n_estimators=300;, score=0.502 total time=   2.2s\n",
      "[CV 2/5] END learning_rate=0.01, max_depth=5, n_estimators=300;, score=0.460 total time=   2.2s\n",
      "[CV 3/5] END learning_rate=0.01, max_depth=5, n_estimators=300;, score=0.472 total time=   2.2s\n",
      "[CV 4/5] END learning_rate=0.01, max_depth=5, n_estimators=300;, score=0.437 total time=   2.2s\n",
      "[CV 5/5] END learning_rate=0.01, max_depth=5, n_estimators=300;, score=0.455 total time=   2.3s\n",
      "[CV 1/5] END learning_rate=0.01, max_depth=6, n_estimators=100;, score=0.428 total time=   0.8s\n",
      "[CV 2/5] END learning_rate=0.01, max_depth=6, n_estimators=100;, score=0.403 total time=   0.8s\n",
      "[CV 3/5] END learning_rate=0.01, max_depth=6, n_estimators=100;, score=0.406 total time=   0.8s\n",
      "[CV 4/5] END learning_rate=0.01, max_depth=6, n_estimators=100;, score=0.382 total time=   0.8s\n",
      "[CV 5/5] END learning_rate=0.01, max_depth=6, n_estimators=100;, score=0.393 total time=   0.8s\n",
      "[CV 1/5] END learning_rate=0.01, max_depth=6, n_estimators=150;, score=0.473 total time=   1.2s\n",
      "[CV 2/5] END learning_rate=0.01, max_depth=6, n_estimators=150;, score=0.440 total time=   1.2s\n",
      "[CV 3/5] END learning_rate=0.01, max_depth=6, n_estimators=150;, score=0.446 total time=   1.3s\n",
      "[CV 4/5] END learning_rate=0.01, max_depth=6, n_estimators=150;, score=0.416 total time=   1.3s\n",
      "[CV 5/5] END learning_rate=0.01, max_depth=6, n_estimators=150;, score=0.430 total time=   1.3s\n",
      "[CV 1/5] END learning_rate=0.01, max_depth=6, n_estimators=200;, score=0.491 total time=   1.7s\n",
      "[CV 2/5] END learning_rate=0.01, max_depth=6, n_estimators=200;, score=0.451 total time=   1.7s\n",
      "[CV 3/5] END learning_rate=0.01, max_depth=6, n_estimators=200;, score=0.461 total time=   1.7s\n",
      "[CV 4/5] END learning_rate=0.01, max_depth=6, n_estimators=200;, score=0.428 total time=   1.7s\n",
      "[CV 5/5] END learning_rate=0.01, max_depth=6, n_estimators=200;, score=0.443 total time=   1.7s\n",
      "[CV 1/5] END learning_rate=0.01, max_depth=6, n_estimators=250;, score=0.498 total time=   2.2s\n",
      "[CV 2/5] END learning_rate=0.01, max_depth=6, n_estimators=250;, score=0.454 total time=   2.2s\n",
      "[CV 3/5] END learning_rate=0.01, max_depth=6, n_estimators=250;, score=0.465 total time=   2.1s\n",
      "[CV 4/5] END learning_rate=0.01, max_depth=6, n_estimators=250;, score=0.430 total time=   2.1s\n",
      "[CV 5/5] END learning_rate=0.01, max_depth=6, n_estimators=250;, score=0.447 total time=   2.1s\n",
      "[CV 1/5] END learning_rate=0.01, max_depth=6, n_estimators=300;, score=0.500 total time=   2.5s\n",
      "[CV 2/5] END learning_rate=0.01, max_depth=6, n_estimators=300;, score=0.456 total time=   2.5s\n",
      "[CV 3/5] END learning_rate=0.01, max_depth=6, n_estimators=300;, score=0.467 total time=   2.5s\n",
      "[CV 4/5] END learning_rate=0.01, max_depth=6, n_estimators=300;, score=0.430 total time=   2.6s\n",
      "[CV 5/5] END learning_rate=0.01, max_depth=6, n_estimators=300;, score=0.449 total time=   2.7s\n",
      "[CV 1/5] END learning_rate=0.1, max_depth=2, n_estimators=100;, score=0.511 total time=   0.2s\n",
      "[CV 2/5] END learning_rate=0.1, max_depth=2, n_estimators=100;, score=0.459 total time=   0.3s\n",
      "[CV 3/5] END learning_rate=0.1, max_depth=2, n_estimators=100;, score=0.472 total time=   0.3s\n",
      "[CV 4/5] END learning_rate=0.1, max_depth=2, n_estimators=100;, score=0.435 total time=   0.2s\n",
      "[CV 5/5] END learning_rate=0.1, max_depth=2, n_estimators=100;, score=0.453 total time=   0.2s\n"
     ]
    },
    {
     "name": "stdout",
     "output_type": "stream",
     "text": [
      "[CV 1/5] END learning_rate=0.1, max_depth=2, n_estimators=150;, score=0.509 total time=   0.4s\n",
      "[CV 2/5] END learning_rate=0.1, max_depth=2, n_estimators=150;, score=0.459 total time=   0.4s\n",
      "[CV 3/5] END learning_rate=0.1, max_depth=2, n_estimators=150;, score=0.471 total time=   0.4s\n",
      "[CV 4/5] END learning_rate=0.1, max_depth=2, n_estimators=150;, score=0.434 total time=   0.4s\n",
      "[CV 5/5] END learning_rate=0.1, max_depth=2, n_estimators=150;, score=0.450 total time=   0.4s\n",
      "[CV 1/5] END learning_rate=0.1, max_depth=2, n_estimators=200;, score=0.507 total time=   0.6s\n",
      "[CV 2/5] END learning_rate=0.1, max_depth=2, n_estimators=200;, score=0.458 total time=   0.6s\n",
      "[CV 3/5] END learning_rate=0.1, max_depth=2, n_estimators=200;, score=0.468 total time=   0.6s\n",
      "[CV 4/5] END learning_rate=0.1, max_depth=2, n_estimators=200;, score=0.432 total time=   0.6s\n",
      "[CV 5/5] END learning_rate=0.1, max_depth=2, n_estimators=200;, score=0.449 total time=   0.6s\n",
      "[CV 1/5] END learning_rate=0.1, max_depth=2, n_estimators=250;, score=0.506 total time=   0.8s\n",
      "[CV 2/5] END learning_rate=0.1, max_depth=2, n_estimators=250;, score=0.457 total time=   0.7s\n",
      "[CV 3/5] END learning_rate=0.1, max_depth=2, n_estimators=250;, score=0.465 total time=   0.8s\n",
      "[CV 4/5] END learning_rate=0.1, max_depth=2, n_estimators=250;, score=0.432 total time=   0.7s\n",
      "[CV 5/5] END learning_rate=0.1, max_depth=2, n_estimators=250;, score=0.447 total time=   0.7s\n",
      "[CV 1/5] END learning_rate=0.1, max_depth=2, n_estimators=300;, score=0.504 total time=   0.9s\n",
      "[CV 2/5] END learning_rate=0.1, max_depth=2, n_estimators=300;, score=0.456 total time=   0.9s\n",
      "[CV 3/5] END learning_rate=0.1, max_depth=2, n_estimators=300;, score=0.463 total time=   0.9s\n",
      "[CV 4/5] END learning_rate=0.1, max_depth=2, n_estimators=300;, score=0.430 total time=   0.9s\n",
      "[CV 5/5] END learning_rate=0.1, max_depth=2, n_estimators=300;, score=0.445 total time=   0.9s\n",
      "[CV 1/5] END learning_rate=0.1, max_depth=3, n_estimators=100;, score=0.510 total time=   0.4s\n",
      "[CV 2/5] END learning_rate=0.1, max_depth=3, n_estimators=100;, score=0.460 total time=   0.4s\n",
      "[CV 3/5] END learning_rate=0.1, max_depth=3, n_estimators=100;, score=0.473 total time=   0.4s\n",
      "[CV 4/5] END learning_rate=0.1, max_depth=3, n_estimators=100;, score=0.434 total time=   0.4s\n",
      "[CV 5/5] END learning_rate=0.1, max_depth=3, n_estimators=100;, score=0.445 total time=   0.4s\n",
      "[CV 1/5] END learning_rate=0.1, max_depth=3, n_estimators=150;, score=0.506 total time=   0.6s\n",
      "[CV 2/5] END learning_rate=0.1, max_depth=3, n_estimators=150;, score=0.458 total time=   0.6s\n",
      "[CV 3/5] END learning_rate=0.1, max_depth=3, n_estimators=150;, score=0.472 total time=   0.6s\n",
      "[CV 4/5] END learning_rate=0.1, max_depth=3, n_estimators=150;, score=0.430 total time=   0.6s\n",
      "[CV 5/5] END learning_rate=0.1, max_depth=3, n_estimators=150;, score=0.438 total time=   0.6s\n",
      "[CV 1/5] END learning_rate=0.1, max_depth=3, n_estimators=200;, score=0.503 total time=   0.9s\n",
      "[CV 2/5] END learning_rate=0.1, max_depth=3, n_estimators=200;, score=0.456 total time=   0.9s\n",
      "[CV 3/5] END learning_rate=0.1, max_depth=3, n_estimators=200;, score=0.471 total time=   0.8s\n",
      "[CV 4/5] END learning_rate=0.1, max_depth=3, n_estimators=200;, score=0.424 total time=   0.9s\n",
      "[CV 5/5] END learning_rate=0.1, max_depth=3, n_estimators=200;, score=0.436 total time=   0.9s\n",
      "[CV 1/5] END learning_rate=0.1, max_depth=3, n_estimators=250;, score=0.502 total time=   1.1s\n",
      "[CV 2/5] END learning_rate=0.1, max_depth=3, n_estimators=250;, score=0.455 total time=   1.1s\n",
      "[CV 3/5] END learning_rate=0.1, max_depth=3, n_estimators=250;, score=0.466 total time=   1.1s\n",
      "[CV 4/5] END learning_rate=0.1, max_depth=3, n_estimators=250;, score=0.421 total time=   1.2s\n",
      "[CV 5/5] END learning_rate=0.1, max_depth=3, n_estimators=250;, score=0.433 total time=   1.1s\n",
      "[CV 1/5] END learning_rate=0.1, max_depth=3, n_estimators=300;, score=0.500 total time=   1.3s\n",
      "[CV 2/5] END learning_rate=0.1, max_depth=3, n_estimators=300;, score=0.453 total time=   1.3s\n",
      "[CV 3/5] END learning_rate=0.1, max_depth=3, n_estimators=300;, score=0.463 total time=   1.4s\n",
      "[CV 4/5] END learning_rate=0.1, max_depth=3, n_estimators=300;, score=0.418 total time=   1.3s\n",
      "[CV 5/5] END learning_rate=0.1, max_depth=3, n_estimators=300;, score=0.430 total time=   1.5s\n",
      "[CV 1/5] END learning_rate=0.1, max_depth=4, n_estimators=100;, score=0.502 total time=   0.5s\n",
      "[CV 2/5] END learning_rate=0.1, max_depth=4, n_estimators=100;, score=0.456 total time=   0.5s\n",
      "[CV 3/5] END learning_rate=0.1, max_depth=4, n_estimators=100;, score=0.465 total time=   0.5s\n",
      "[CV 4/5] END learning_rate=0.1, max_depth=4, n_estimators=100;, score=0.429 total time=   0.5s\n",
      "[CV 5/5] END learning_rate=0.1, max_depth=4, n_estimators=100;, score=0.445 total time=   0.5s\n",
      "[CV 1/5] END learning_rate=0.1, max_depth=4, n_estimators=150;, score=0.498 total time=   0.8s\n",
      "[CV 2/5] END learning_rate=0.1, max_depth=4, n_estimators=150;, score=0.453 total time=   0.9s\n",
      "[CV 3/5] END learning_rate=0.1, max_depth=4, n_estimators=150;, score=0.461 total time=   0.8s\n",
      "[CV 4/5] END learning_rate=0.1, max_depth=4, n_estimators=150;, score=0.424 total time=   0.9s\n",
      "[CV 5/5] END learning_rate=0.1, max_depth=4, n_estimators=150;, score=0.438 total time=   0.8s\n",
      "[CV 1/5] END learning_rate=0.1, max_depth=4, n_estimators=200;, score=0.495 total time=   1.2s\n",
      "[CV 2/5] END learning_rate=0.1, max_depth=4, n_estimators=200;, score=0.449 total time=   1.2s\n",
      "[CV 3/5] END learning_rate=0.1, max_depth=4, n_estimators=200;, score=0.457 total time=   1.1s\n",
      "[CV 4/5] END learning_rate=0.1, max_depth=4, n_estimators=200;, score=0.418 total time=   1.2s\n",
      "[CV 5/5] END learning_rate=0.1, max_depth=4, n_estimators=200;, score=0.431 total time=   1.2s\n",
      "[CV 1/5] END learning_rate=0.1, max_depth=4, n_estimators=250;, score=0.491 total time=   1.5s\n",
      "[CV 2/5] END learning_rate=0.1, max_depth=4, n_estimators=250;, score=0.447 total time=   1.5s\n",
      "[CV 3/5] END learning_rate=0.1, max_depth=4, n_estimators=250;, score=0.450 total time=   1.5s\n",
      "[CV 4/5] END learning_rate=0.1, max_depth=4, n_estimators=250;, score=0.415 total time=   1.5s\n",
      "[CV 5/5] END learning_rate=0.1, max_depth=4, n_estimators=250;, score=0.425 total time=   1.5s\n",
      "[CV 1/5] END learning_rate=0.1, max_depth=4, n_estimators=300;, score=0.488 total time=   1.8s\n",
      "[CV 2/5] END learning_rate=0.1, max_depth=4, n_estimators=300;, score=0.442 total time=   1.8s\n",
      "[CV 3/5] END learning_rate=0.1, max_depth=4, n_estimators=300;, score=0.445 total time=   1.8s\n",
      "[CV 4/5] END learning_rate=0.1, max_depth=4, n_estimators=300;, score=0.410 total time=   1.8s\n",
      "[CV 5/5] END learning_rate=0.1, max_depth=4, n_estimators=300;, score=0.420 total time=   1.8s\n",
      "[CV 1/5] END learning_rate=0.1, max_depth=5, n_estimators=100;, score=0.496 total time=   0.7s\n",
      "[CV 2/5] END learning_rate=0.1, max_depth=5, n_estimators=100;, score=0.454 total time=   0.7s\n",
      "[CV 3/5] END learning_rate=0.1, max_depth=5, n_estimators=100;, score=0.467 total time=   0.7s\n",
      "[CV 4/5] END learning_rate=0.1, max_depth=5, n_estimators=100;, score=0.422 total time=   0.7s\n",
      "[CV 5/5] END learning_rate=0.1, max_depth=5, n_estimators=100;, score=0.438 total time=   0.7s\n",
      "[CV 1/5] END learning_rate=0.1, max_depth=5, n_estimators=150;, score=0.486 total time=   1.1s\n",
      "[CV 2/5] END learning_rate=0.1, max_depth=5, n_estimators=150;, score=0.450 total time=   1.1s\n",
      "[CV 3/5] END learning_rate=0.1, max_depth=5, n_estimators=150;, score=0.462 total time=   1.1s\n",
      "[CV 4/5] END learning_rate=0.1, max_depth=5, n_estimators=150;, score=0.414 total time=   1.1s\n",
      "[CV 5/5] END learning_rate=0.1, max_depth=5, n_estimators=150;, score=0.427 total time=   1.1s\n",
      "[CV 1/5] END learning_rate=0.1, max_depth=5, n_estimators=200;, score=0.482 total time=   1.4s\n",
      "[CV 2/5] END learning_rate=0.1, max_depth=5, n_estimators=200;, score=0.442 total time=   1.4s\n",
      "[CV 3/5] END learning_rate=0.1, max_depth=5, n_estimators=200;, score=0.455 total time=   1.4s\n",
      "[CV 4/5] END learning_rate=0.1, max_depth=5, n_estimators=200;, score=0.406 total time=   1.5s\n",
      "[CV 5/5] END learning_rate=0.1, max_depth=5, n_estimators=200;, score=0.424 total time=   1.4s\n",
      "[CV 1/5] END learning_rate=0.1, max_depth=5, n_estimators=250;, score=0.477 total time=   1.8s\n",
      "[CV 2/5] END learning_rate=0.1, max_depth=5, n_estimators=250;, score=0.436 total time=   1.9s\n"
     ]
    },
    {
     "name": "stdout",
     "output_type": "stream",
     "text": [
      "[CV 3/5] END learning_rate=0.1, max_depth=5, n_estimators=250;, score=0.447 total time=   1.8s\n",
      "[CV 4/5] END learning_rate=0.1, max_depth=5, n_estimators=250;, score=0.399 total time=   1.8s\n",
      "[CV 5/5] END learning_rate=0.1, max_depth=5, n_estimators=250;, score=0.417 total time=   1.9s\n",
      "[CV 1/5] END learning_rate=0.1, max_depth=5, n_estimators=300;, score=0.475 total time=   2.2s\n",
      "[CV 2/5] END learning_rate=0.1, max_depth=5, n_estimators=300;, score=0.432 total time=   2.2s\n",
      "[CV 3/5] END learning_rate=0.1, max_depth=5, n_estimators=300;, score=0.439 total time=   2.2s\n",
      "[CV 4/5] END learning_rate=0.1, max_depth=5, n_estimators=300;, score=0.397 total time=   2.2s\n",
      "[CV 5/5] END learning_rate=0.1, max_depth=5, n_estimators=300;, score=0.411 total time=   2.2s\n",
      "[CV 1/5] END learning_rate=0.1, max_depth=6, n_estimators=100;, score=0.491 total time=   0.9s\n",
      "[CV 2/5] END learning_rate=0.1, max_depth=6, n_estimators=100;, score=0.440 total time=   0.8s\n",
      "[CV 3/5] END learning_rate=0.1, max_depth=6, n_estimators=100;, score=0.455 total time=   0.8s\n",
      "[CV 4/5] END learning_rate=0.1, max_depth=6, n_estimators=100;, score=0.411 total time=   0.8s\n",
      "[CV 5/5] END learning_rate=0.1, max_depth=6, n_estimators=100;, score=0.428 total time=   0.8s\n",
      "[CV 1/5] END learning_rate=0.1, max_depth=6, n_estimators=150;, score=0.478 total time=   1.3s\n",
      "[CV 2/5] END learning_rate=0.1, max_depth=6, n_estimators=150;, score=0.432 total time=   1.3s\n",
      "[CV 3/5] END learning_rate=0.1, max_depth=6, n_estimators=150;, score=0.451 total time=   1.3s\n",
      "[CV 4/5] END learning_rate=0.1, max_depth=6, n_estimators=150;, score=0.405 total time=   1.3s\n",
      "[CV 5/5] END learning_rate=0.1, max_depth=6, n_estimators=150;, score=0.423 total time=   1.3s\n",
      "[CV 1/5] END learning_rate=0.1, max_depth=6, n_estimators=200;, score=0.467 total time=   1.8s\n",
      "[CV 2/5] END learning_rate=0.1, max_depth=6, n_estimators=200;, score=0.425 total time=   1.7s\n",
      "[CV 3/5] END learning_rate=0.1, max_depth=6, n_estimators=200;, score=0.443 total time=   1.7s\n",
      "[CV 4/5] END learning_rate=0.1, max_depth=6, n_estimators=200;, score=0.392 total time=   1.7s\n",
      "[CV 5/5] END learning_rate=0.1, max_depth=6, n_estimators=200;, score=0.407 total time=   1.7s\n",
      "[CV 1/5] END learning_rate=0.1, max_depth=6, n_estimators=250;, score=0.463 total time=   2.2s\n",
      "[CV 2/5] END learning_rate=0.1, max_depth=6, n_estimators=250;, score=0.419 total time=   2.2s\n",
      "[CV 3/5] END learning_rate=0.1, max_depth=6, n_estimators=250;, score=0.436 total time=   2.2s\n",
      "[CV 4/5] END learning_rate=0.1, max_depth=6, n_estimators=250;, score=0.382 total time=   2.2s\n",
      "[CV 5/5] END learning_rate=0.1, max_depth=6, n_estimators=250;, score=0.398 total time=   2.2s\n",
      "[CV 1/5] END learning_rate=0.1, max_depth=6, n_estimators=300;, score=0.456 total time=   2.7s\n",
      "[CV 2/5] END learning_rate=0.1, max_depth=6, n_estimators=300;, score=0.414 total time=   2.6s\n",
      "[CV 3/5] END learning_rate=0.1, max_depth=6, n_estimators=300;, score=0.429 total time=   2.7s\n",
      "[CV 4/5] END learning_rate=0.1, max_depth=6, n_estimators=300;, score=0.373 total time=   2.6s\n",
      "[CV 5/5] END learning_rate=0.1, max_depth=6, n_estimators=300;, score=0.389 total time=   2.7s\n"
     ]
    },
    {
     "data": {
      "text/plain": [
       "GridSearchCV(cv=5, estimator=GradientBoostingRegressor(),\n",
       "             param_grid={'learning_rate': [0.001, 0.01, 0.1],\n",
       "                         'max_depth': [2, 3, 4, 5, 6],\n",
       "                         'n_estimators': [100, 150, 200, 250, 300]},\n",
       "             scoring='r2', verbose=3)"
      ]
     },
     "execution_count": 138,
     "metadata": {},
     "output_type": "execute_result"
    }
   ],
   "source": [
    "gscv.fit(x_train,y_train)"
   ]
  },
  {
   "cell_type": "code",
   "execution_count": 139,
   "id": "767c6cd0",
   "metadata": {},
   "outputs": [
    {
     "data": {
      "text/plain": [
       "0.4669195588332339"
      ]
     },
     "execution_count": 139,
     "metadata": {},
     "output_type": "execute_result"
    }
   ],
   "source": [
    "gscv.best_score_"
   ]
  },
  {
   "cell_type": "code",
   "execution_count": 140,
   "id": "466775d1",
   "metadata": {},
   "outputs": [
    {
     "data": {
      "text/plain": [
       "{'learning_rate': 0.01, 'max_depth': 3, 'n_estimators': 300}"
      ]
     },
     "execution_count": 140,
     "metadata": {},
     "output_type": "execute_result"
    }
   ],
   "source": [
    "gscv.best_params_"
   ]
  },
  {
   "cell_type": "code",
   "execution_count": 141,
   "id": "530ff793",
   "metadata": {},
   "outputs": [],
   "source": [
    "model_gbr= GradientBoostingRegressor(**gscv.best_params_)"
   ]
  },
  {
   "cell_type": "code",
   "execution_count": 142,
   "id": "d2401a7f",
   "metadata": {},
   "outputs": [
    {
     "data": {
      "text/plain": [
       "GradientBoostingRegressor(learning_rate=0.01, n_estimators=300)"
      ]
     },
     "execution_count": 142,
     "metadata": {},
     "output_type": "execute_result"
    }
   ],
   "source": [
    "model_gbr.fit(x_train,y_train)"
   ]
  },
  {
   "cell_type": "code",
   "execution_count": 143,
   "id": "eec9583f",
   "metadata": {},
   "outputs": [],
   "source": [
    "y_pred_gbr= model_gbr.predict(x_test)"
   ]
  },
  {
   "cell_type": "code",
   "execution_count": 144,
   "id": "8d00e764",
   "metadata": {},
   "outputs": [
    {
     "name": "stdout",
     "output_type": "stream",
     "text": [
      "R2 value 0.47420667634350566\n",
      "MSE 32841492.947804734\n",
      "RMSE 5730.749771871455\n",
      "MAPE 1.5437678658068432\n"
     ]
    }
   ],
   "source": [
    "validation(y_test,y_pred_gbr)"
   ]
  },
  {
   "cell_type": "markdown",
   "id": "a53a7fea",
   "metadata": {},
   "source": [
    "### Xtreme Gradient Boosting"
   ]
  },
  {
   "cell_type": "code",
   "execution_count": 145,
   "id": "2125061c",
   "metadata": {},
   "outputs": [],
   "source": [
    "from xgboost import XGBRegressor"
   ]
  },
  {
   "cell_type": "code",
   "execution_count": 146,
   "id": "15d8eb3d",
   "metadata": {},
   "outputs": [],
   "source": [
    "model_xgb= XGBRegressor()"
   ]
  },
  {
   "cell_type": "code",
   "execution_count": 147,
   "id": "0d84c737",
   "metadata": {},
   "outputs": [],
   "source": [
    "params= {'n_estimators':[100,150,200,250,300],\n",
    "       'learning_rate':[0.001,0.01,0.1],\n",
    "       'max_depth':[2,3,4,5]}"
   ]
  },
  {
   "cell_type": "code",
   "execution_count": 148,
   "id": "50544e31",
   "metadata": {},
   "outputs": [],
   "source": [
    "gscv= GridSearchCV(estimator=model_xgb,\n",
    "                  param_grid=params,\n",
    "                  scoring='r2',\n",
    "                  verbose=3,\n",
    "                  cv=5)"
   ]
  },
  {
   "cell_type": "code",
   "execution_count": 149,
   "id": "b941bda5",
   "metadata": {},
   "outputs": [
    {
     "name": "stdout",
     "output_type": "stream",
     "text": [
      "Fitting 5 folds for each of 60 candidates, totalling 300 fits\n",
      "[CV 1/5] END learning_rate=0.001, max_depth=2, n_estimators=100;, score=-4.285 total time=   0.8s\n",
      "[CV 2/5] END learning_rate=0.001, max_depth=2, n_estimators=100;, score=-4.321 total time=   0.0s\n",
      "[CV 3/5] END learning_rate=0.001, max_depth=2, n_estimators=100;, score=-4.318 total time=   0.0s\n",
      "[CV 4/5] END learning_rate=0.001, max_depth=2, n_estimators=100;, score=-4.284 total time=   0.0s\n",
      "[CV 5/5] END learning_rate=0.001, max_depth=2, n_estimators=100;, score=-4.172 total time=   0.0s\n",
      "[CV 1/5] END learning_rate=0.001, max_depth=2, n_estimators=150;, score=-3.834 total time=   0.1s\n",
      "[CV 2/5] END learning_rate=0.001, max_depth=2, n_estimators=150;, score=-3.868 total time=   0.1s\n",
      "[CV 3/5] END learning_rate=0.001, max_depth=2, n_estimators=150;, score=-3.869 total time=   0.1s\n",
      "[CV 4/5] END learning_rate=0.001, max_depth=2, n_estimators=150;, score=-3.835 total time=   0.1s\n",
      "[CV 5/5] END learning_rate=0.001, max_depth=2, n_estimators=150;, score=-3.735 total time=   0.1s\n",
      "[CV 1/5] END learning_rate=0.001, max_depth=2, n_estimators=200;, score=-3.426 total time=   0.1s\n",
      "[CV 2/5] END learning_rate=0.001, max_depth=2, n_estimators=200;, score=-3.458 total time=   0.1s\n",
      "[CV 3/5] END learning_rate=0.001, max_depth=2, n_estimators=200;, score=-3.463 total time=   0.1s\n",
      "[CV 4/5] END learning_rate=0.001, max_depth=2, n_estimators=200;, score=-3.430 total time=   0.1s\n",
      "[CV 5/5] END learning_rate=0.001, max_depth=2, n_estimators=200;, score=-3.339 total time=   0.1s\n",
      "[CV 1/5] END learning_rate=0.001, max_depth=2, n_estimators=250;, score=-3.057 total time=   0.2s\n",
      "[CV 2/5] END learning_rate=0.001, max_depth=2, n_estimators=250;, score=-3.088 total time=   0.2s\n",
      "[CV 3/5] END learning_rate=0.001, max_depth=2, n_estimators=250;, score=-3.096 total time=   0.2s\n",
      "[CV 4/5] END learning_rate=0.001, max_depth=2, n_estimators=250;, score=-3.062 total time=   0.2s\n",
      "[CV 5/5] END learning_rate=0.001, max_depth=2, n_estimators=250;, score=-2.981 total time=   0.2s\n",
      "[CV 1/5] END learning_rate=0.001, max_depth=2, n_estimators=300;, score=-2.722 total time=   0.2s\n",
      "[CV 2/5] END learning_rate=0.001, max_depth=2, n_estimators=300;, score=-2.752 total time=   0.2s\n",
      "[CV 3/5] END learning_rate=0.001, max_depth=2, n_estimators=300;, score=-2.763 total time=   0.2s\n",
      "[CV 4/5] END learning_rate=0.001, max_depth=2, n_estimators=300;, score=-2.730 total time=   0.2s\n",
      "[CV 5/5] END learning_rate=0.001, max_depth=2, n_estimators=300;, score=-2.657 total time=   0.2s\n",
      "[CV 1/5] END learning_rate=0.001, max_depth=3, n_estimators=100;, score=-4.280 total time=   0.1s\n",
      "[CV 2/5] END learning_rate=0.001, max_depth=3, n_estimators=100;, score=-4.316 total time=   0.1s\n",
      "[CV 3/5] END learning_rate=0.001, max_depth=3, n_estimators=100;, score=-4.313 total time=   0.1s\n",
      "[CV 4/5] END learning_rate=0.001, max_depth=3, n_estimators=100;, score=-4.278 total time=   0.1s\n",
      "[CV 5/5] END learning_rate=0.001, max_depth=3, n_estimators=100;, score=-4.166 total time=   0.1s\n",
      "[CV 1/5] END learning_rate=0.001, max_depth=3, n_estimators=150;, score=-3.827 total time=   0.1s\n",
      "[CV 2/5] END learning_rate=0.001, max_depth=3, n_estimators=150;, score=-3.862 total time=   0.1s\n",
      "[CV 3/5] END learning_rate=0.001, max_depth=3, n_estimators=150;, score=-3.862 total time=   0.1s\n",
      "[CV 4/5] END learning_rate=0.001, max_depth=3, n_estimators=150;, score=-3.828 total time=   0.1s\n",
      "[CV 5/5] END learning_rate=0.001, max_depth=3, n_estimators=150;, score=-3.727 total time=   0.1s\n",
      "[CV 1/5] END learning_rate=0.001, max_depth=3, n_estimators=200;, score=-3.417 total time=   0.2s\n",
      "[CV 2/5] END learning_rate=0.001, max_depth=3, n_estimators=200;, score=-3.450 total time=   0.2s\n",
      "[CV 3/5] END learning_rate=0.001, max_depth=3, n_estimators=200;, score=-3.455 total time=   0.2s\n",
      "[CV 4/5] END learning_rate=0.001, max_depth=3, n_estimators=200;, score=-3.421 total time=   0.2s\n",
      "[CV 5/5] END learning_rate=0.001, max_depth=3, n_estimators=200;, score=-3.330 total time=   0.2s\n",
      "[CV 1/5] END learning_rate=0.001, max_depth=3, n_estimators=250;, score=-3.046 total time=   0.3s\n",
      "[CV 2/5] END learning_rate=0.001, max_depth=3, n_estimators=250;, score=-3.078 total time=   0.3s\n",
      "[CV 3/5] END learning_rate=0.001, max_depth=3, n_estimators=250;, score=-3.086 total time=   0.3s\n",
      "[CV 4/5] END learning_rate=0.001, max_depth=3, n_estimators=250;, score=-3.052 total time=   0.3s\n",
      "[CV 5/5] END learning_rate=0.001, max_depth=3, n_estimators=250;, score=-2.970 total time=   0.3s\n",
      "[CV 1/5] END learning_rate=0.001, max_depth=3, n_estimators=300;, score=-2.710 total time=   0.3s\n",
      "[CV 2/5] END learning_rate=0.001, max_depth=3, n_estimators=300;, score=-2.741 total time=   0.4s\n",
      "[CV 3/5] END learning_rate=0.001, max_depth=3, n_estimators=300;, score=-2.752 total time=   0.3s\n",
      "[CV 4/5] END learning_rate=0.001, max_depth=3, n_estimators=300;, score=-2.719 total time=   0.4s\n",
      "[CV 5/5] END learning_rate=0.001, max_depth=3, n_estimators=300;, score=-2.645 total time=   0.4s\n",
      "[CV 1/5] END learning_rate=0.001, max_depth=4, n_estimators=100;, score=-4.277 total time=   0.1s\n",
      "[CV 2/5] END learning_rate=0.001, max_depth=4, n_estimators=100;, score=-4.315 total time=   0.1s\n",
      "[CV 3/5] END learning_rate=0.001, max_depth=4, n_estimators=100;, score=-4.314 total time=   0.1s\n",
      "[CV 4/5] END learning_rate=0.001, max_depth=4, n_estimators=100;, score=-4.276 total time=   0.1s\n",
      "[CV 5/5] END learning_rate=0.001, max_depth=4, n_estimators=100;, score=-4.167 total time=   0.1s\n",
      "[CV 1/5] END learning_rate=0.001, max_depth=4, n_estimators=150;, score=-3.823 total time=   0.2s\n",
      "[CV 2/5] END learning_rate=0.001, max_depth=4, n_estimators=150;, score=-3.860 total time=   0.2s\n",
      "[CV 3/5] END learning_rate=0.001, max_depth=4, n_estimators=150;, score=-3.863 total time=   0.2s\n",
      "[CV 4/5] END learning_rate=0.001, max_depth=4, n_estimators=150;, score=-3.826 total time=   0.2s\n",
      "[CV 5/5] END learning_rate=0.001, max_depth=4, n_estimators=150;, score=-3.728 total time=   0.2s\n",
      "[CV 1/5] END learning_rate=0.001, max_depth=4, n_estimators=200;, score=-3.413 total time=   0.3s\n",
      "[CV 2/5] END learning_rate=0.001, max_depth=4, n_estimators=200;, score=-3.448 total time=   0.3s\n",
      "[CV 3/5] END learning_rate=0.001, max_depth=4, n_estimators=200;, score=-3.455 total time=   0.3s\n",
      "[CV 4/5] END learning_rate=0.001, max_depth=4, n_estimators=200;, score=-3.418 total time=   0.3s\n",
      "[CV 5/5] END learning_rate=0.001, max_depth=4, n_estimators=200;, score=-3.330 total time=   0.3s\n",
      "[CV 1/5] END learning_rate=0.001, max_depth=4, n_estimators=250;, score=-3.041 total time=   0.4s\n",
      "[CV 2/5] END learning_rate=0.001, max_depth=4, n_estimators=250;, score=-3.075 total time=   0.4s\n",
      "[CV 3/5] END learning_rate=0.001, max_depth=4, n_estimators=250;, score=-3.085 total time=   0.4s\n",
      "[CV 4/5] END learning_rate=0.001, max_depth=4, n_estimators=250;, score=-3.049 total time=   0.4s\n",
      "[CV 5/5] END learning_rate=0.001, max_depth=4, n_estimators=250;, score=-2.970 total time=   0.4s\n",
      "[CV 1/5] END learning_rate=0.001, max_depth=4, n_estimators=300;, score=-2.705 total time=   0.5s\n",
      "[CV 2/5] END learning_rate=0.001, max_depth=4, n_estimators=300;, score=-2.738 total time=   0.5s\n",
      "[CV 3/5] END learning_rate=0.001, max_depth=4, n_estimators=300;, score=-2.751 total time=   0.5s\n",
      "[CV 4/5] END learning_rate=0.001, max_depth=4, n_estimators=300;, score=-2.715 total time=   0.5s\n",
      "[CV 5/5] END learning_rate=0.001, max_depth=4, n_estimators=300;, score=-2.645 total time=   0.5s\n",
      "[CV 1/5] END learning_rate=0.001, max_depth=5, n_estimators=100;, score=-4.277 total time=   0.1s\n",
      "[CV 2/5] END learning_rate=0.001, max_depth=5, n_estimators=100;, score=-4.315 total time=   0.1s\n",
      "[CV 3/5] END learning_rate=0.001, max_depth=5, n_estimators=100;, score=-4.315 total time=   0.2s\n",
      "[CV 4/5] END learning_rate=0.001, max_depth=5, n_estimators=100;, score=-4.276 total time=   0.1s\n",
      "[CV 5/5] END learning_rate=0.001, max_depth=5, n_estimators=100;, score=-4.167 total time=   0.1s\n",
      "[CV 1/5] END learning_rate=0.001, max_depth=5, n_estimators=150;, score=-3.823 total time=   0.3s\n",
      "[CV 2/5] END learning_rate=0.001, max_depth=5, n_estimators=150;, score=-3.859 total time=   0.3s\n",
      "[CV 3/5] END learning_rate=0.001, max_depth=5, n_estimators=150;, score=-3.864 total time=   0.3s\n"
     ]
    },
    {
     "name": "stdout",
     "output_type": "stream",
     "text": [
      "[CV 4/5] END learning_rate=0.001, max_depth=5, n_estimators=150;, score=-3.825 total time=   0.3s\n",
      "[CV 5/5] END learning_rate=0.001, max_depth=5, n_estimators=150;, score=-3.728 total time=   0.3s\n",
      "[CV 1/5] END learning_rate=0.001, max_depth=5, n_estimators=200;, score=-3.413 total time=   0.4s\n",
      "[CV 2/5] END learning_rate=0.001, max_depth=5, n_estimators=200;, score=-3.448 total time=   0.4s\n",
      "[CV 3/5] END learning_rate=0.001, max_depth=5, n_estimators=200;, score=-3.456 total time=   0.4s\n",
      "[CV 4/5] END learning_rate=0.001, max_depth=5, n_estimators=200;, score=-3.417 total time=   0.4s\n",
      "[CV 5/5] END learning_rate=0.001, max_depth=5, n_estimators=200;, score=-3.330 total time=   0.4s\n",
      "[CV 1/5] END learning_rate=0.001, max_depth=5, n_estimators=250;, score=-3.041 total time=   0.5s\n",
      "[CV 2/5] END learning_rate=0.001, max_depth=5, n_estimators=250;, score=-3.075 total time=   0.5s\n",
      "[CV 3/5] END learning_rate=0.001, max_depth=5, n_estimators=250;, score=-3.086 total time=   0.5s\n",
      "[CV 4/5] END learning_rate=0.001, max_depth=5, n_estimators=250;, score=-3.048 total time=   0.5s\n",
      "[CV 5/5] END learning_rate=0.001, max_depth=5, n_estimators=250;, score=-2.971 total time=   0.5s\n",
      "[CV 1/5] END learning_rate=0.001, max_depth=5, n_estimators=300;, score=-2.705 total time=   0.6s\n",
      "[CV 2/5] END learning_rate=0.001, max_depth=5, n_estimators=300;, score=-2.738 total time=   0.6s\n",
      "[CV 3/5] END learning_rate=0.001, max_depth=5, n_estimators=300;, score=-2.752 total time=   0.6s\n",
      "[CV 4/5] END learning_rate=0.001, max_depth=5, n_estimators=300;, score=-2.714 total time=   0.6s\n",
      "[CV 5/5] END learning_rate=0.001, max_depth=5, n_estimators=300;, score=-2.645 total time=   0.6s\n",
      "[CV 1/5] END learning_rate=0.01, max_depth=2, n_estimators=100;, score=-0.302 total time=   0.0s\n",
      "[CV 2/5] END learning_rate=0.01, max_depth=2, n_estimators=100;, score=-0.331 total time=   0.0s\n",
      "[CV 3/5] END learning_rate=0.01, max_depth=2, n_estimators=100;, score=-0.353 total time=   0.0s\n",
      "[CV 4/5] END learning_rate=0.01, max_depth=2, n_estimators=100;, score=-0.341 total time=   0.0s\n",
      "[CV 5/5] END learning_rate=0.01, max_depth=2, n_estimators=100;, score=-0.316 total time=   0.0s\n",
      "[CV 1/5] END learning_rate=0.01, max_depth=2, n_estimators=150;, score=0.204 total time=   0.1s\n",
      "[CV 2/5] END learning_rate=0.01, max_depth=2, n_estimators=150;, score=0.169 total time=   0.1s\n",
      "[CV 3/5] END learning_rate=0.01, max_depth=2, n_estimators=150;, score=0.152 total time=   0.1s\n",
      "[CV 4/5] END learning_rate=0.01, max_depth=2, n_estimators=150;, score=0.151 total time=   0.1s\n",
      "[CV 5/5] END learning_rate=0.01, max_depth=2, n_estimators=150;, score=0.167 total time=   0.1s\n",
      "[CV 1/5] END learning_rate=0.01, max_depth=2, n_estimators=200;, score=0.393 total time=   0.1s\n",
      "[CV 2/5] END learning_rate=0.01, max_depth=2, n_estimators=200;, score=0.353 total time=   0.1s\n",
      "[CV 3/5] END learning_rate=0.01, max_depth=2, n_estimators=200;, score=0.344 total time=   0.1s\n",
      "[CV 4/5] END learning_rate=0.01, max_depth=2, n_estimators=200;, score=0.331 total time=   0.1s\n",
      "[CV 5/5] END learning_rate=0.01, max_depth=2, n_estimators=200;, score=0.346 total time=   0.1s\n",
      "[CV 1/5] END learning_rate=0.01, max_depth=2, n_estimators=250;, score=0.464 total time=   0.2s\n",
      "[CV 2/5] END learning_rate=0.01, max_depth=2, n_estimators=250;, score=0.421 total time=   0.2s\n",
      "[CV 3/5] END learning_rate=0.01, max_depth=2, n_estimators=250;, score=0.418 total time=   0.2s\n",
      "[CV 4/5] END learning_rate=0.01, max_depth=2, n_estimators=250;, score=0.398 total time=   0.2s\n",
      "[CV 5/5] END learning_rate=0.01, max_depth=2, n_estimators=250;, score=0.413 total time=   0.2s\n",
      "[CV 1/5] END learning_rate=0.01, max_depth=2, n_estimators=300;, score=0.491 total time=   0.2s\n",
      "[CV 2/5] END learning_rate=0.01, max_depth=2, n_estimators=300;, score=0.446 total time=   0.2s\n",
      "[CV 3/5] END learning_rate=0.01, max_depth=2, n_estimators=300;, score=0.448 total time=   0.2s\n",
      "[CV 4/5] END learning_rate=0.01, max_depth=2, n_estimators=300;, score=0.423 total time=   0.2s\n",
      "[CV 5/5] END learning_rate=0.01, max_depth=2, n_estimators=300;, score=0.439 total time=   0.2s\n",
      "[CV 1/5] END learning_rate=0.01, max_depth=3, n_estimators=100;, score=-0.289 total time=   0.1s\n",
      "[CV 2/5] END learning_rate=0.01, max_depth=3, n_estimators=100;, score=-0.320 total time=   0.1s\n",
      "[CV 3/5] END learning_rate=0.01, max_depth=3, n_estimators=100;, score=-0.341 total time=   0.1s\n",
      "[CV 4/5] END learning_rate=0.01, max_depth=3, n_estimators=100;, score=-0.328 total time=   0.1s\n",
      "[CV 5/5] END learning_rate=0.01, max_depth=3, n_estimators=100;, score=-0.308 total time=   0.1s\n",
      "[CV 1/5] END learning_rate=0.01, max_depth=3, n_estimators=150;, score=0.214 total time=   0.1s\n",
      "[CV 2/5] END learning_rate=0.01, max_depth=3, n_estimators=150;, score=0.178 total time=   0.1s\n",
      "[CV 3/5] END learning_rate=0.01, max_depth=3, n_estimators=150;, score=0.164 total time=   0.1s\n",
      "[CV 4/5] END learning_rate=0.01, max_depth=3, n_estimators=150;, score=0.161 total time=   0.1s\n",
      "[CV 5/5] END learning_rate=0.01, max_depth=3, n_estimators=150;, score=0.175 total time=   0.1s\n",
      "[CV 1/5] END learning_rate=0.01, max_depth=3, n_estimators=200;, score=0.400 total time=   0.2s\n",
      "[CV 2/5] END learning_rate=0.01, max_depth=3, n_estimators=200;, score=0.360 total time=   0.2s\n",
      "[CV 3/5] END learning_rate=0.01, max_depth=3, n_estimators=200;, score=0.354 total time=   0.2s\n",
      "[CV 4/5] END learning_rate=0.01, max_depth=3, n_estimators=200;, score=0.340 total time=   0.2s\n",
      "[CV 5/5] END learning_rate=0.01, max_depth=3, n_estimators=200;, score=0.352 total time=   0.2s\n",
      "[CV 1/5] END learning_rate=0.01, max_depth=3, n_estimators=250;, score=0.470 total time=   0.3s\n",
      "[CV 2/5] END learning_rate=0.01, max_depth=3, n_estimators=250;, score=0.426 total time=   0.3s\n",
      "[CV 3/5] END learning_rate=0.01, max_depth=3, n_estimators=250;, score=0.426 total time=   0.3s\n",
      "[CV 4/5] END learning_rate=0.01, max_depth=3, n_estimators=250;, score=0.405 total time=   0.3s\n",
      "[CV 5/5] END learning_rate=0.01, max_depth=3, n_estimators=250;, score=0.418 total time=   0.3s\n",
      "[CV 1/5] END learning_rate=0.01, max_depth=3, n_estimators=300;, score=0.496 total time=   0.4s\n",
      "[CV 2/5] END learning_rate=0.01, max_depth=3, n_estimators=300;, score=0.450 total time=   0.4s\n",
      "[CV 3/5] END learning_rate=0.01, max_depth=3, n_estimators=300;, score=0.454 total time=   0.3s\n",
      "[CV 4/5] END learning_rate=0.01, max_depth=3, n_estimators=300;, score=0.427 total time=   0.3s\n",
      "[CV 5/5] END learning_rate=0.01, max_depth=3, n_estimators=300;, score=0.442 total time=   0.3s\n",
      "[CV 1/5] END learning_rate=0.01, max_depth=4, n_estimators=100;, score=-0.283 total time=   0.1s\n",
      "[CV 2/5] END learning_rate=0.01, max_depth=4, n_estimators=100;, score=-0.317 total time=   0.1s\n",
      "[CV 3/5] END learning_rate=0.01, max_depth=4, n_estimators=100;, score=-0.338 total time=   0.1s\n",
      "[CV 4/5] END learning_rate=0.01, max_depth=4, n_estimators=100;, score=-0.325 total time=   0.1s\n",
      "[CV 5/5] END learning_rate=0.01, max_depth=4, n_estimators=100;, score=-0.302 total time=   0.1s\n",
      "[CV 1/5] END learning_rate=0.01, max_depth=4, n_estimators=150;, score=0.217 total time=   0.2s\n",
      "[CV 2/5] END learning_rate=0.01, max_depth=4, n_estimators=150;, score=0.180 total time=   0.2s\n",
      "[CV 3/5] END learning_rate=0.01, max_depth=4, n_estimators=150;, score=0.165 total time=   0.2s\n",
      "[CV 4/5] END learning_rate=0.01, max_depth=4, n_estimators=150;, score=0.163 total time=   0.2s\n",
      "[CV 5/5] END learning_rate=0.01, max_depth=4, n_estimators=150;, score=0.179 total time=   0.2s\n",
      "[CV 1/5] END learning_rate=0.01, max_depth=4, n_estimators=200;, score=0.402 total time=   0.3s\n",
      "[CV 2/5] END learning_rate=0.01, max_depth=4, n_estimators=200;, score=0.361 total time=   0.3s\n",
      "[CV 3/5] END learning_rate=0.01, max_depth=4, n_estimators=200;, score=0.354 total time=   0.3s\n",
      "[CV 4/5] END learning_rate=0.01, max_depth=4, n_estimators=200;, score=0.340 total time=   0.3s\n",
      "[CV 5/5] END learning_rate=0.01, max_depth=4, n_estimators=200;, score=0.356 total time=   0.3s\n",
      "[CV 1/5] END learning_rate=0.01, max_depth=4, n_estimators=250;, score=0.470 total time=   0.4s\n",
      "[CV 2/5] END learning_rate=0.01, max_depth=4, n_estimators=250;, score=0.426 total time=   0.4s\n",
      "[CV 3/5] END learning_rate=0.01, max_depth=4, n_estimators=250;, score=0.425 total time=   0.4s\n"
     ]
    },
    {
     "name": "stdout",
     "output_type": "stream",
     "text": [
      "[CV 4/5] END learning_rate=0.01, max_depth=4, n_estimators=250;, score=0.404 total time=   0.4s\n",
      "[CV 5/5] END learning_rate=0.01, max_depth=4, n_estimators=250;, score=0.420 total time=   0.4s\n",
      "[CV 1/5] END learning_rate=0.01, max_depth=4, n_estimators=300;, score=0.495 total time=   0.5s\n",
      "[CV 2/5] END learning_rate=0.01, max_depth=4, n_estimators=300;, score=0.450 total time=   0.5s\n",
      "[CV 3/5] END learning_rate=0.01, max_depth=4, n_estimators=300;, score=0.453 total time=   0.5s\n",
      "[CV 4/5] END learning_rate=0.01, max_depth=4, n_estimators=300;, score=0.427 total time=   0.5s\n",
      "[CV 5/5] END learning_rate=0.01, max_depth=4, n_estimators=300;, score=0.444 total time=   0.5s\n",
      "[CV 1/5] END learning_rate=0.01, max_depth=5, n_estimators=100;, score=-0.283 total time=   0.1s\n",
      "[CV 2/5] END learning_rate=0.01, max_depth=5, n_estimators=100;, score=-0.316 total time=   0.2s\n",
      "[CV 3/5] END learning_rate=0.01, max_depth=5, n_estimators=100;, score=-0.338 total time=   0.2s\n",
      "[CV 4/5] END learning_rate=0.01, max_depth=5, n_estimators=100;, score=-0.323 total time=   0.2s\n",
      "[CV 5/5] END learning_rate=0.01, max_depth=5, n_estimators=100;, score=-0.302 total time=   0.1s\n",
      "[CV 1/5] END learning_rate=0.01, max_depth=5, n_estimators=150;, score=0.216 total time=   0.3s\n",
      "[CV 2/5] END learning_rate=0.01, max_depth=5, n_estimators=150;, score=0.179 total time=   0.3s\n",
      "[CV 3/5] END learning_rate=0.01, max_depth=5, n_estimators=150;, score=0.167 total time=   0.3s\n",
      "[CV 4/5] END learning_rate=0.01, max_depth=5, n_estimators=150;, score=0.164 total time=   0.3s\n",
      "[CV 5/5] END learning_rate=0.01, max_depth=5, n_estimators=150;, score=0.179 total time=   0.3s\n",
      "[CV 1/5] END learning_rate=0.01, max_depth=5, n_estimators=200;, score=0.400 total time=   0.4s\n",
      "[CV 2/5] END learning_rate=0.01, max_depth=5, n_estimators=200;, score=0.360 total time=   0.4s\n",
      "[CV 3/5] END learning_rate=0.01, max_depth=5, n_estimators=200;, score=0.355 total time=   0.4s\n",
      "[CV 4/5] END learning_rate=0.01, max_depth=5, n_estimators=200;, score=0.340 total time=   0.4s\n",
      "[CV 5/5] END learning_rate=0.01, max_depth=5, n_estimators=200;, score=0.356 total time=   0.4s\n",
      "[CV 1/5] END learning_rate=0.01, max_depth=5, n_estimators=250;, score=0.467 total time=   0.5s\n",
      "[CV 2/5] END learning_rate=0.01, max_depth=5, n_estimators=250;, score=0.424 total time=   0.5s\n",
      "[CV 3/5] END learning_rate=0.01, max_depth=5, n_estimators=250;, score=0.426 total time=   0.5s\n",
      "[CV 4/5] END learning_rate=0.01, max_depth=5, n_estimators=250;, score=0.404 total time=   0.5s\n",
      "[CV 5/5] END learning_rate=0.01, max_depth=5, n_estimators=250;, score=0.420 total time=   0.5s\n",
      "[CV 1/5] END learning_rate=0.01, max_depth=5, n_estimators=300;, score=0.492 total time=   0.6s\n",
      "[CV 2/5] END learning_rate=0.01, max_depth=5, n_estimators=300;, score=0.447 total time=   0.6s\n",
      "[CV 3/5] END learning_rate=0.01, max_depth=5, n_estimators=300;, score=0.453 total time=   0.6s\n",
      "[CV 4/5] END learning_rate=0.01, max_depth=5, n_estimators=300;, score=0.426 total time=   0.6s\n",
      "[CV 5/5] END learning_rate=0.01, max_depth=5, n_estimators=300;, score=0.443 total time=   0.6s\n",
      "[CV 1/5] END learning_rate=0.1, max_depth=2, n_estimators=100;, score=0.510 total time=   0.0s\n",
      "[CV 2/5] END learning_rate=0.1, max_depth=2, n_estimators=100;, score=0.458 total time=   0.0s\n",
      "[CV 3/5] END learning_rate=0.1, max_depth=2, n_estimators=100;, score=0.472 total time=   0.0s\n",
      "[CV 4/5] END learning_rate=0.1, max_depth=2, n_estimators=100;, score=0.437 total time=   0.0s\n",
      "[CV 5/5] END learning_rate=0.1, max_depth=2, n_estimators=100;, score=0.453 total time=   0.0s\n",
      "[CV 1/5] END learning_rate=0.1, max_depth=2, n_estimators=150;, score=0.509 total time=   0.1s\n",
      "[CV 2/5] END learning_rate=0.1, max_depth=2, n_estimators=150;, score=0.457 total time=   0.1s\n",
      "[CV 3/5] END learning_rate=0.1, max_depth=2, n_estimators=150;, score=0.472 total time=   0.1s\n",
      "[CV 4/5] END learning_rate=0.1, max_depth=2, n_estimators=150;, score=0.434 total time=   0.1s\n",
      "[CV 5/5] END learning_rate=0.1, max_depth=2, n_estimators=150;, score=0.450 total time=   0.1s\n",
      "[CV 1/5] END learning_rate=0.1, max_depth=2, n_estimators=200;, score=0.508 total time=   0.1s\n",
      "[CV 2/5] END learning_rate=0.1, max_depth=2, n_estimators=200;, score=0.456 total time=   0.1s\n",
      "[CV 3/5] END learning_rate=0.1, max_depth=2, n_estimators=200;, score=0.471 total time=   0.1s\n",
      "[CV 4/5] END learning_rate=0.1, max_depth=2, n_estimators=200;, score=0.433 total time=   0.1s\n",
      "[CV 5/5] END learning_rate=0.1, max_depth=2, n_estimators=200;, score=0.449 total time=   0.1s\n",
      "[CV 1/5] END learning_rate=0.1, max_depth=2, n_estimators=250;, score=0.507 total time=   0.2s\n",
      "[CV 2/5] END learning_rate=0.1, max_depth=2, n_estimators=250;, score=0.454 total time=   0.2s\n",
      "[CV 3/5] END learning_rate=0.1, max_depth=2, n_estimators=250;, score=0.471 total time=   0.2s\n",
      "[CV 4/5] END learning_rate=0.1, max_depth=2, n_estimators=250;, score=0.432 total time=   0.2s\n",
      "[CV 5/5] END learning_rate=0.1, max_depth=2, n_estimators=250;, score=0.447 total time=   0.2s\n",
      "[CV 1/5] END learning_rate=0.1, max_depth=2, n_estimators=300;, score=0.506 total time=   0.2s\n",
      "[CV 2/5] END learning_rate=0.1, max_depth=2, n_estimators=300;, score=0.453 total time=   0.2s\n",
      "[CV 3/5] END learning_rate=0.1, max_depth=2, n_estimators=300;, score=0.469 total time=   0.2s\n",
      "[CV 4/5] END learning_rate=0.1, max_depth=2, n_estimators=300;, score=0.430 total time=   0.2s\n",
      "[CV 5/5] END learning_rate=0.1, max_depth=2, n_estimators=300;, score=0.447 total time=   0.2s\n",
      "[CV 1/5] END learning_rate=0.1, max_depth=3, n_estimators=100;, score=0.510 total time=   0.1s\n",
      "[CV 2/5] END learning_rate=0.1, max_depth=3, n_estimators=100;, score=0.461 total time=   0.1s\n",
      "[CV 3/5] END learning_rate=0.1, max_depth=3, n_estimators=100;, score=0.472 total time=   0.1s\n",
      "[CV 4/5] END learning_rate=0.1, max_depth=3, n_estimators=100;, score=0.435 total time=   0.1s\n",
      "[CV 5/5] END learning_rate=0.1, max_depth=3, n_estimators=100;, score=0.447 total time=   0.1s\n",
      "[CV 1/5] END learning_rate=0.1, max_depth=3, n_estimators=150;, score=0.507 total time=   0.1s\n",
      "[CV 2/5] END learning_rate=0.1, max_depth=3, n_estimators=150;, score=0.458 total time=   0.1s\n",
      "[CV 3/5] END learning_rate=0.1, max_depth=3, n_estimators=150;, score=0.472 total time=   0.1s\n",
      "[CV 4/5] END learning_rate=0.1, max_depth=3, n_estimators=150;, score=0.429 total time=   0.1s\n",
      "[CV 5/5] END learning_rate=0.1, max_depth=3, n_estimators=150;, score=0.443 total time=   0.1s\n",
      "[CV 1/5] END learning_rate=0.1, max_depth=3, n_estimators=200;, score=0.506 total time=   0.2s\n",
      "[CV 2/5] END learning_rate=0.1, max_depth=3, n_estimators=200;, score=0.455 total time=   0.2s\n",
      "[CV 3/5] END learning_rate=0.1, max_depth=3, n_estimators=200;, score=0.470 total time=   0.2s\n",
      "[CV 4/5] END learning_rate=0.1, max_depth=3, n_estimators=200;, score=0.424 total time=   0.2s\n",
      "[CV 5/5] END learning_rate=0.1, max_depth=3, n_estimators=200;, score=0.439 total time=   0.2s\n",
      "[CV 1/5] END learning_rate=0.1, max_depth=3, n_estimators=250;, score=0.503 total time=   0.3s\n",
      "[CV 2/5] END learning_rate=0.1, max_depth=3, n_estimators=250;, score=0.455 total time=   0.3s\n",
      "[CV 3/5] END learning_rate=0.1, max_depth=3, n_estimators=250;, score=0.468 total time=   0.3s\n",
      "[CV 4/5] END learning_rate=0.1, max_depth=3, n_estimators=250;, score=0.422 total time=   0.3s\n",
      "[CV 5/5] END learning_rate=0.1, max_depth=3, n_estimators=250;, score=0.435 total time=   0.3s\n",
      "[CV 1/5] END learning_rate=0.1, max_depth=3, n_estimators=300;, score=0.501 total time=   0.3s\n",
      "[CV 2/5] END learning_rate=0.1, max_depth=3, n_estimators=300;, score=0.455 total time=   0.3s\n",
      "[CV 3/5] END learning_rate=0.1, max_depth=3, n_estimators=300;, score=0.466 total time=   0.3s\n",
      "[CV 4/5] END learning_rate=0.1, max_depth=3, n_estimators=300;, score=0.418 total time=   0.3s\n",
      "[CV 5/5] END learning_rate=0.1, max_depth=3, n_estimators=300;, score=0.431 total time=   0.3s\n",
      "[CV 1/5] END learning_rate=0.1, max_depth=4, n_estimators=100;, score=0.504 total time=   0.1s\n",
      "[CV 2/5] END learning_rate=0.1, max_depth=4, n_estimators=100;, score=0.457 total time=   0.1s\n",
      "[CV 3/5] END learning_rate=0.1, max_depth=4, n_estimators=100;, score=0.470 total time=   0.1s\n",
      "[CV 4/5] END learning_rate=0.1, max_depth=4, n_estimators=100;, score=0.430 total time=   0.1s\n",
      "[CV 5/5] END learning_rate=0.1, max_depth=4, n_estimators=100;, score=0.440 total time=   0.1s\n"
     ]
    },
    {
     "name": "stdout",
     "output_type": "stream",
     "text": [
      "[CV 1/5] END learning_rate=0.1, max_depth=4, n_estimators=150;, score=0.499 total time=   0.2s\n",
      "[CV 2/5] END learning_rate=0.1, max_depth=4, n_estimators=150;, score=0.454 total time=   0.2s\n",
      "[CV 3/5] END learning_rate=0.1, max_depth=4, n_estimators=150;, score=0.468 total time=   0.2s\n",
      "[CV 4/5] END learning_rate=0.1, max_depth=4, n_estimators=150;, score=0.423 total time=   0.2s\n",
      "[CV 5/5] END learning_rate=0.1, max_depth=4, n_estimators=150;, score=0.435 total time=   0.2s\n",
      "[CV 1/5] END learning_rate=0.1, max_depth=4, n_estimators=200;, score=0.497 total time=   0.3s\n",
      "[CV 2/5] END learning_rate=0.1, max_depth=4, n_estimators=200;, score=0.451 total time=   0.3s\n",
      "[CV 3/5] END learning_rate=0.1, max_depth=4, n_estimators=200;, score=0.466 total time=   0.3s\n",
      "[CV 4/5] END learning_rate=0.1, max_depth=4, n_estimators=200;, score=0.419 total time=   0.3s\n",
      "[CV 5/5] END learning_rate=0.1, max_depth=4, n_estimators=200;, score=0.431 total time=   0.3s\n",
      "[CV 1/5] END learning_rate=0.1, max_depth=4, n_estimators=250;, score=0.495 total time=   0.4s\n",
      "[CV 2/5] END learning_rate=0.1, max_depth=4, n_estimators=250;, score=0.447 total time=   0.4s\n",
      "[CV 3/5] END learning_rate=0.1, max_depth=4, n_estimators=250;, score=0.462 total time=   0.4s\n",
      "[CV 4/5] END learning_rate=0.1, max_depth=4, n_estimators=250;, score=0.417 total time=   0.4s\n",
      "[CV 5/5] END learning_rate=0.1, max_depth=4, n_estimators=250;, score=0.428 total time=   0.4s\n",
      "[CV 1/5] END learning_rate=0.1, max_depth=4, n_estimators=300;, score=0.492 total time=   0.5s\n",
      "[CV 2/5] END learning_rate=0.1, max_depth=4, n_estimators=300;, score=0.444 total time=   0.5s\n",
      "[CV 3/5] END learning_rate=0.1, max_depth=4, n_estimators=300;, score=0.457 total time=   0.5s\n",
      "[CV 4/5] END learning_rate=0.1, max_depth=4, n_estimators=300;, score=0.413 total time=   0.5s\n",
      "[CV 5/5] END learning_rate=0.1, max_depth=4, n_estimators=300;, score=0.423 total time=   0.5s\n",
      "[CV 1/5] END learning_rate=0.1, max_depth=5, n_estimators=100;, score=0.498 total time=   0.1s\n",
      "[CV 2/5] END learning_rate=0.1, max_depth=5, n_estimators=100;, score=0.451 total time=   0.1s\n",
      "[CV 3/5] END learning_rate=0.1, max_depth=5, n_estimators=100;, score=0.466 total time=   0.1s\n",
      "[CV 4/5] END learning_rate=0.1, max_depth=5, n_estimators=100;, score=0.422 total time=   0.1s\n",
      "[CV 5/5] END learning_rate=0.1, max_depth=5, n_estimators=100;, score=0.436 total time=   0.1s\n",
      "[CV 1/5] END learning_rate=0.1, max_depth=5, n_estimators=150;, score=0.494 total time=   0.3s\n",
      "[CV 2/5] END learning_rate=0.1, max_depth=5, n_estimators=150;, score=0.446 total time=   0.3s\n",
      "[CV 3/5] END learning_rate=0.1, max_depth=5, n_estimators=150;, score=0.459 total time=   0.3s\n",
      "[CV 4/5] END learning_rate=0.1, max_depth=5, n_estimators=150;, score=0.416 total time=   0.3s\n",
      "[CV 5/5] END learning_rate=0.1, max_depth=5, n_estimators=150;, score=0.429 total time=   0.3s\n",
      "[CV 1/5] END learning_rate=0.1, max_depth=5, n_estimators=200;, score=0.492 total time=   0.4s\n",
      "[CV 2/5] END learning_rate=0.1, max_depth=5, n_estimators=200;, score=0.442 total time=   0.4s\n",
      "[CV 3/5] END learning_rate=0.1, max_depth=5, n_estimators=200;, score=0.453 total time=   0.4s\n",
      "[CV 4/5] END learning_rate=0.1, max_depth=5, n_estimators=200;, score=0.410 total time=   0.4s\n",
      "[CV 5/5] END learning_rate=0.1, max_depth=5, n_estimators=200;, score=0.424 total time=   0.4s\n",
      "[CV 1/5] END learning_rate=0.1, max_depth=5, n_estimators=250;, score=0.489 total time=   0.5s\n",
      "[CV 2/5] END learning_rate=0.1, max_depth=5, n_estimators=250;, score=0.435 total time=   0.5s\n",
      "[CV 3/5] END learning_rate=0.1, max_depth=5, n_estimators=250;, score=0.448 total time=   0.5s\n",
      "[CV 4/5] END learning_rate=0.1, max_depth=5, n_estimators=250;, score=0.405 total time=   0.5s\n",
      "[CV 5/5] END learning_rate=0.1, max_depth=5, n_estimators=250;, score=0.419 total time=   0.5s\n",
      "[CV 1/5] END learning_rate=0.1, max_depth=5, n_estimators=300;, score=0.485 total time=   0.6s\n",
      "[CV 2/5] END learning_rate=0.1, max_depth=5, n_estimators=300;, score=0.431 total time=   0.6s\n",
      "[CV 3/5] END learning_rate=0.1, max_depth=5, n_estimators=300;, score=0.445 total time=   0.6s\n",
      "[CV 4/5] END learning_rate=0.1, max_depth=5, n_estimators=300;, score=0.400 total time=   0.6s\n",
      "[CV 5/5] END learning_rate=0.1, max_depth=5, n_estimators=300;, score=0.412 total time=   0.6s\n"
     ]
    },
    {
     "data": {
      "text/plain": [
       "GridSearchCV(cv=5,\n",
       "             estimator=XGBRegressor(base_score=None, booster=None,\n",
       "                                    callbacks=None, colsample_bylevel=None,\n",
       "                                    colsample_bynode=None,\n",
       "                                    colsample_bytree=None,\n",
       "                                    early_stopping_rounds=None,\n",
       "                                    enable_categorical=False, eval_metric=None,\n",
       "                                    gamma=None, gpu_id=None, grow_policy=None,\n",
       "                                    importance_type=None,\n",
       "                                    interaction_constraints=None,\n",
       "                                    learning_rate=None, max_bin=None,\n",
       "                                    max_cat...step=None,\n",
       "                                    max_depth=None, max_leaves=None,\n",
       "                                    min_child_weight=None, missing=nan,\n",
       "                                    monotone_constraints=None, n_estimators=100,\n",
       "                                    n_jobs=None, num_parallel_tree=None,\n",
       "                                    predictor=None, random_state=None,\n",
       "                                    reg_alpha=None, reg_lambda=None, ...),\n",
       "             param_grid={'learning_rate': [0.001, 0.01, 0.1],\n",
       "                         'max_depth': [2, 3, 4, 5],\n",
       "                         'n_estimators': [100, 150, 200, 250, 300]},\n",
       "             scoring='r2', verbose=3)"
      ]
     },
     "execution_count": 149,
     "metadata": {},
     "output_type": "execute_result"
    }
   ],
   "source": [
    "gscv.fit(x_train,y_train)"
   ]
  },
  {
   "cell_type": "code",
   "execution_count": 150,
   "id": "98c5f334",
   "metadata": {},
   "outputs": [
    {
     "data": {
      "text/plain": [
       "0.4658948758098038"
      ]
     },
     "execution_count": 150,
     "metadata": {},
     "output_type": "execute_result"
    }
   ],
   "source": [
    "gscv.best_score_"
   ]
  },
  {
   "cell_type": "code",
   "execution_count": 151,
   "id": "37a8c11e",
   "metadata": {},
   "outputs": [
    {
     "data": {
      "text/plain": [
       "{'learning_rate': 0.1, 'max_depth': 2, 'n_estimators': 100}"
      ]
     },
     "execution_count": 151,
     "metadata": {},
     "output_type": "execute_result"
    }
   ],
   "source": [
    "gscv.best_params_"
   ]
  },
  {
   "cell_type": "code",
   "execution_count": 152,
   "id": "dd4485f2",
   "metadata": {},
   "outputs": [],
   "source": [
    "model_xgb= XGBRegressor(**gscv.best_params_)"
   ]
  },
  {
   "cell_type": "code",
   "execution_count": 153,
   "id": "d8d049fd",
   "metadata": {},
   "outputs": [
    {
     "data": {
      "text/plain": [
       "XGBRegressor(base_score=0.5, booster='gbtree', callbacks=None,\n",
       "             colsample_bylevel=1, colsample_bynode=1, colsample_bytree=1,\n",
       "             early_stopping_rounds=None, enable_categorical=False,\n",
       "             eval_metric=None, gamma=0, gpu_id=-1, grow_policy='depthwise',\n",
       "             importance_type=None, interaction_constraints='',\n",
       "             learning_rate=0.1, max_bin=256, max_cat_to_onehot=4,\n",
       "             max_delta_step=0, max_depth=2, max_leaves=0, min_child_weight=1,\n",
       "             missing=nan, monotone_constraints='()', n_estimators=100, n_jobs=0,\n",
       "             num_parallel_tree=1, predictor='auto', random_state=0, reg_alpha=0,\n",
       "             reg_lambda=1, ...)"
      ]
     },
     "execution_count": 153,
     "metadata": {},
     "output_type": "execute_result"
    }
   ],
   "source": [
    "model_xgb.fit(x_train,y_train)"
   ]
  },
  {
   "cell_type": "code",
   "execution_count": 154,
   "id": "95f811ba",
   "metadata": {},
   "outputs": [],
   "source": [
    "y_pred_xgb= model_xgb.predict(x_test)"
   ]
  },
  {
   "cell_type": "code",
   "execution_count": 155,
   "id": "9b0c2bbf",
   "metadata": {},
   "outputs": [
    {
     "name": "stdout",
     "output_type": "stream",
     "text": [
      "R2 value 0.4718121700935243\n",
      "MSE 32991055.8208655\n",
      "RMSE 5743.784102912077\n",
      "MAPE 1.515242394766497\n"
     ]
    }
   ],
   "source": [
    "validation(y_test,y_pred_xgb)"
   ]
  },
  {
   "cell_type": "markdown",
   "id": "674a678b",
   "metadata": {},
   "source": [
    "### SVM"
   ]
  },
  {
   "cell_type": "code",
   "execution_count": 156,
   "id": "2294cf9f",
   "metadata": {},
   "outputs": [],
   "source": [
    "from sklearn.svm import SVC"
   ]
  },
  {
   "cell_type": "code",
   "execution_count": 157,
   "id": "8188dc1a",
   "metadata": {},
   "outputs": [],
   "source": [
    "model_svm = SVC()"
   ]
  },
  {
   "cell_type": "code",
   "execution_count": 158,
   "id": "1a905228",
   "metadata": {},
   "outputs": [],
   "source": [
    "params = {'C':[1,2,3],\n",
    "         'kernel':['rbf','poly','sigmoid','linear'],\n",
    "         'degree':[2,3,4]}"
   ]
  },
  {
   "cell_type": "code",
   "execution_count": 159,
   "id": "700093bf",
   "metadata": {},
   "outputs": [],
   "source": [
    "gscv = GridSearchCV(estimator=model_svm,\n",
    "                   param_grid=params,\n",
    "                   scoring='accuracy',\n",
    "                   cv=2,\n",
    "                   verbose=3)"
   ]
  },
  {
   "cell_type": "code",
   "execution_count": null,
   "id": "9df11a17",
   "metadata": {},
   "outputs": [
    {
     "name": "stdout",
     "output_type": "stream",
     "text": [
      "Fitting 2 folds for each of 36 candidates, totalling 72 fits\n",
      "[CV 1/2] END .........C=1, degree=2, kernel=rbf;, score=0.327 total time= 5.7min\n",
      "[CV 2/2] END .........C=1, degree=2, kernel=rbf;, score=0.327 total time= 6.0min\n",
      "[CV 1/2] END ........C=1, degree=2, kernel=poly;, score=0.327 total time= 5.5min\n",
      "[CV 2/2] END ........C=1, degree=2, kernel=poly;, score=0.325 total time= 5.6min\n",
      "[CV 1/2] END .....C=1, degree=2, kernel=sigmoid;, score=0.327 total time= 6.1min\n"
     ]
    }
   ],
   "source": [
    "gscv.fit(x_train_s,y_train)"
   ]
  },
  {
   "cell_type": "code",
   "execution_count": 160,
   "id": "f1ebd018",
   "metadata": {},
   "outputs": [
    {
     "ename": "AttributeError",
     "evalue": "'GridSearchCV' object has no attribute 'best_score_'",
     "output_type": "error",
     "traceback": [
      "\u001b[1;31m---------------------------------------------------------------------------\u001b[0m",
      "\u001b[1;31mAttributeError\u001b[0m                            Traceback (most recent call last)",
      "\u001b[1;32m~\\AppData\\Local\\Temp/ipykernel_26032/1612568908.py\u001b[0m in \u001b[0;36m<module>\u001b[1;34m\u001b[0m\n\u001b[1;32m----> 1\u001b[1;33m \u001b[0mgscv\u001b[0m\u001b[1;33m.\u001b[0m\u001b[0mbest_score_\u001b[0m\u001b[1;33m\u001b[0m\u001b[1;33m\u001b[0m\u001b[0m\n\u001b[0m",
      "\u001b[1;31mAttributeError\u001b[0m: 'GridSearchCV' object has no attribute 'best_score_'"
     ]
    }
   ],
   "source": [
    "gscv.best_score_"
   ]
  },
  {
   "cell_type": "code",
   "execution_count": null,
   "id": "ffc1f120",
   "metadata": {},
   "outputs": [],
   "source": [
    "gscv.best_params_"
   ]
  },
  {
   "cell_type": "code",
   "execution_count": null,
   "id": "013ec0ef",
   "metadata": {},
   "outputs": [],
   "source": [
    "model_svm= SVC(**gscv.best_params_)"
   ]
  },
  {
   "cell_type": "code",
   "execution_count": null,
   "id": "4b2d9794",
   "metadata": {},
   "outputs": [],
   "source": [
    "model_svm.fit(x_train_s,y_train)"
   ]
  },
  {
   "cell_type": "code",
   "execution_count": null,
   "id": "11f47b6e",
   "metadata": {},
   "outputs": [],
   "source": [
    "y_pred_svm = model_svm.predict(x_test_s)"
   ]
  },
  {
   "cell_type": "code",
   "execution_count": null,
   "id": "b3105fe8",
   "metadata": {},
   "outputs": [],
   "source": [
    "validation(y_test,y_pred_svm)"
   ]
  },
  {
   "cell_type": "code",
   "execution_count": null,
   "id": "54c5e4ff",
   "metadata": {},
   "outputs": [],
   "source": [
    "print('R2 score\\t \\t', r2_score(y_test,y_pred))\n",
    "print('Adjusted R2 score\\t',ra2)\n",
    "print('KNN score\\t \\t',r2_score(y_test,y_pred_knn))\n",
    "print('Ridge score\\t \\t',r2_score(y_test,y_pred_ridge))\n",
    "print('Lasso score\\t \\t',r2_score(y_testdec,y_preddec))\n",
    "print(\"Naive baye's score\\t\",r2_score(y_test,y_pred_nb))\n",
    "print(\"Decision Tree score\\t\",r2_score(y_test,y_pred_dt))\n",
    "print(\"Random Forest score\\t\",r2_score(y_test,y_pred_rf))\n",
    "print(\"Ada Boosting score\\t\",r2_score(y_test,y_pred_ada))\n",
    "print(\"Gradient Boosting score\\t\",r2_score(y_test,y_pred_gb))\n",
    "print(\"XGB score\\t \\t\",r2_score(y_test,y_pred_xgb))\n",
    "print(\"SVM score\\t \\t\",r2_score(y_test,y_pred_svm))"
   ]
  },
  {
   "cell_type": "code",
   "execution_count": null,
   "id": "7260eb81",
   "metadata": {},
   "outputs": [],
   "source": []
  }
 ],
 "metadata": {
  "kernelspec": {
   "display_name": "Python 3 (ipykernel)",
   "language": "python",
   "name": "python3"
  },
  "language_info": {
   "codemirror_mode": {
    "name": "ipython",
    "version": 3
   },
   "file_extension": ".py",
   "mimetype": "text/x-python",
   "name": "python",
   "nbconvert_exporter": "python",
   "pygments_lexer": "ipython3",
   "version": "3.9.12"
  }
 },
 "nbformat": 4,
 "nbformat_minor": 5
}
