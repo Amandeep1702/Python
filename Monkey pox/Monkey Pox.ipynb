{
 "cells": [
  {
   "cell_type": "code",
   "execution_count": 70,
   "id": "c0e468ad",
   "metadata": {},
   "outputs": [],
   "source": [
    "import numpy as np\n",
    "import pandas as pd\n",
    "import seaborn as sns\n",
    "import matplotlib.pyplot as plt\n",
    "import warnings\n",
    "warnings.filterwarnings('ignore')"
   ]
  },
  {
   "cell_type": "code",
   "execution_count": 133,
   "id": "5f642205",
   "metadata": {},
   "outputs": [
    {
     "data": {
      "text/html": [
       "<div>\n",
       "<style scoped>\n",
       "    .dataframe tbody tr th:only-of-type {\n",
       "        vertical-align: middle;\n",
       "    }\n",
       "\n",
       "    .dataframe tbody tr th {\n",
       "        vertical-align: top;\n",
       "    }\n",
       "\n",
       "    .dataframe thead th {\n",
       "        text-align: right;\n",
       "    }\n",
       "</style>\n",
       "<table border=\"1\" class=\"dataframe\">\n",
       "  <thead>\n",
       "    <tr style=\"text-align: right;\">\n",
       "      <th></th>\n",
       "      <th>Patient_ID</th>\n",
       "      <th>Systemic Illness</th>\n",
       "      <th>Rectal Pain</th>\n",
       "      <th>Sore Throat</th>\n",
       "      <th>Penile Oedema</th>\n",
       "      <th>Oral Lesions</th>\n",
       "      <th>Solitary Lesion</th>\n",
       "      <th>Swollen Tonsils</th>\n",
       "      <th>HIV Infection</th>\n",
       "      <th>Sexually Transmitted Infection</th>\n",
       "      <th>MonkeyPox</th>\n",
       "    </tr>\n",
       "  </thead>\n",
       "  <tbody>\n",
       "    <tr>\n",
       "      <th>0</th>\n",
       "      <td>P0</td>\n",
       "      <td>None</td>\n",
       "      <td>False</td>\n",
       "      <td>True</td>\n",
       "      <td>True</td>\n",
       "      <td>True</td>\n",
       "      <td>False</td>\n",
       "      <td>True</td>\n",
       "      <td>False</td>\n",
       "      <td>False</td>\n",
       "      <td>Negative</td>\n",
       "    </tr>\n",
       "    <tr>\n",
       "      <th>1</th>\n",
       "      <td>P1</td>\n",
       "      <td>Fever</td>\n",
       "      <td>True</td>\n",
       "      <td>False</td>\n",
       "      <td>True</td>\n",
       "      <td>True</td>\n",
       "      <td>False</td>\n",
       "      <td>False</td>\n",
       "      <td>True</td>\n",
       "      <td>False</td>\n",
       "      <td>Positive</td>\n",
       "    </tr>\n",
       "    <tr>\n",
       "      <th>2</th>\n",
       "      <td>P2</td>\n",
       "      <td>Fever</td>\n",
       "      <td>False</td>\n",
       "      <td>True</td>\n",
       "      <td>True</td>\n",
       "      <td>False</td>\n",
       "      <td>False</td>\n",
       "      <td>False</td>\n",
       "      <td>True</td>\n",
       "      <td>False</td>\n",
       "      <td>Positive</td>\n",
       "    </tr>\n",
       "    <tr>\n",
       "      <th>3</th>\n",
       "      <td>P3</td>\n",
       "      <td>None</td>\n",
       "      <td>True</td>\n",
       "      <td>False</td>\n",
       "      <td>False</td>\n",
       "      <td>False</td>\n",
       "      <td>True</td>\n",
       "      <td>True</td>\n",
       "      <td>True</td>\n",
       "      <td>False</td>\n",
       "      <td>Positive</td>\n",
       "    </tr>\n",
       "    <tr>\n",
       "      <th>4</th>\n",
       "      <td>P4</td>\n",
       "      <td>Swollen Lymph Nodes</td>\n",
       "      <td>True</td>\n",
       "      <td>True</td>\n",
       "      <td>True</td>\n",
       "      <td>False</td>\n",
       "      <td>False</td>\n",
       "      <td>True</td>\n",
       "      <td>True</td>\n",
       "      <td>False</td>\n",
       "      <td>Positive</td>\n",
       "    </tr>\n",
       "  </tbody>\n",
       "</table>\n",
       "</div>"
      ],
      "text/plain": [
       "  Patient_ID     Systemic Illness  Rectal Pain  Sore Throat  Penile Oedema  \\\n",
       "0         P0                 None        False         True           True   \n",
       "1         P1                Fever         True        False           True   \n",
       "2         P2                Fever        False         True           True   \n",
       "3         P3                 None         True        False          False   \n",
       "4         P4  Swollen Lymph Nodes         True         True           True   \n",
       "\n",
       "   Oral Lesions  Solitary Lesion  Swollen Tonsils  HIV Infection  \\\n",
       "0          True            False             True          False   \n",
       "1          True            False            False           True   \n",
       "2         False            False            False           True   \n",
       "3         False             True             True           True   \n",
       "4         False            False             True           True   \n",
       "\n",
       "   Sexually Transmitted Infection MonkeyPox  \n",
       "0                           False  Negative  \n",
       "1                           False  Positive  \n",
       "2                           False  Positive  \n",
       "3                           False  Positive  \n",
       "4                           False  Positive  "
      ]
     },
     "execution_count": 133,
     "metadata": {},
     "output_type": "execute_result"
    }
   ],
   "source": [
    "data= pd.read_csv('C:/Users/sebam/Downloads/Python/Monkey pox/Monkeypox data.csv')\n",
    "data.head()"
   ]
  },
  {
   "cell_type": "code",
   "execution_count": 4,
   "id": "1b2edbf8",
   "metadata": {},
   "outputs": [
    {
     "name": "stdout",
     "output_type": "stream",
     "text": [
      "<class 'pandas.core.frame.DataFrame'>\n",
      "RangeIndex: 25000 entries, 0 to 24999\n",
      "Data columns (total 11 columns):\n",
      " #   Column                          Non-Null Count  Dtype \n",
      "---  ------                          --------------  ----- \n",
      " 0   Patient_ID                      25000 non-null  object\n",
      " 1   Systemic Illness                25000 non-null  object\n",
      " 2   Rectal Pain                     25000 non-null  bool  \n",
      " 3   Sore Throat                     25000 non-null  bool  \n",
      " 4   Penile Oedema                   25000 non-null  bool  \n",
      " 5   Oral Lesions                    25000 non-null  bool  \n",
      " 6   Solitary Lesion                 25000 non-null  bool  \n",
      " 7   Swollen Tonsils                 25000 non-null  bool  \n",
      " 8   HIV Infection                   25000 non-null  bool  \n",
      " 9   Sexually Transmitted Infection  25000 non-null  bool  \n",
      " 10  MonkeyPox                       25000 non-null  object\n",
      "dtypes: bool(8), object(3)\n",
      "memory usage: 781.4+ KB\n"
     ]
    }
   ],
   "source": [
    "data.info()"
   ]
  },
  {
   "cell_type": "code",
   "execution_count": 134,
   "id": "83056413",
   "metadata": {},
   "outputs": [],
   "source": [
    "data = data.rename(index=str,columns={'Patient_ID':'patient_id',\n",
    "                              'Systemic Illness':'systemic_illness',\n",
    "                              'Rectal Pain':'rectal_pain',\n",
    "                              'Sore Throat':'sore_throat',\n",
    "                              'Penile Oedema':'penile_oedema',\n",
    "                              'Oral Lesions':'oral_lesions',\n",
    "                              'Solitary Lesion':'solitary_lesion',\n",
    "                              'Swollen Tonsils':'swollen_tonsils',\n",
    "                              'HIV Infection':'hiv_infection',\n",
    "                              'Sexually Transmitted Infection':'STD',\n",
    "                              'MonkeyPox':'monkeypox'})"
   ]
  },
  {
   "cell_type": "code",
   "execution_count": 135,
   "id": "9cd2669a",
   "metadata": {},
   "outputs": [
    {
     "data": {
      "text/html": [
       "<div>\n",
       "<style scoped>\n",
       "    .dataframe tbody tr th:only-of-type {\n",
       "        vertical-align: middle;\n",
       "    }\n",
       "\n",
       "    .dataframe tbody tr th {\n",
       "        vertical-align: top;\n",
       "    }\n",
       "\n",
       "    .dataframe thead th {\n",
       "        text-align: right;\n",
       "    }\n",
       "</style>\n",
       "<table border=\"1\" class=\"dataframe\">\n",
       "  <thead>\n",
       "    <tr style=\"text-align: right;\">\n",
       "      <th></th>\n",
       "      <th>count</th>\n",
       "      <th>unique</th>\n",
       "      <th>top</th>\n",
       "      <th>freq</th>\n",
       "    </tr>\n",
       "  </thead>\n",
       "  <tbody>\n",
       "    <tr>\n",
       "      <th>patient_id</th>\n",
       "      <td>25000</td>\n",
       "      <td>25000</td>\n",
       "      <td>P0</td>\n",
       "      <td>1</td>\n",
       "    </tr>\n",
       "    <tr>\n",
       "      <th>systemic_illness</th>\n",
       "      <td>25000</td>\n",
       "      <td>4</td>\n",
       "      <td>Fever</td>\n",
       "      <td>6382</td>\n",
       "    </tr>\n",
       "    <tr>\n",
       "      <th>rectal_pain</th>\n",
       "      <td>25000</td>\n",
       "      <td>2</td>\n",
       "      <td>False</td>\n",
       "      <td>12655</td>\n",
       "    </tr>\n",
       "    <tr>\n",
       "      <th>sore_throat</th>\n",
       "      <td>25000</td>\n",
       "      <td>2</td>\n",
       "      <td>True</td>\n",
       "      <td>12554</td>\n",
       "    </tr>\n",
       "    <tr>\n",
       "      <th>penile_oedema</th>\n",
       "      <td>25000</td>\n",
       "      <td>2</td>\n",
       "      <td>True</td>\n",
       "      <td>12612</td>\n",
       "    </tr>\n",
       "    <tr>\n",
       "      <th>oral_lesions</th>\n",
       "      <td>25000</td>\n",
       "      <td>2</td>\n",
       "      <td>False</td>\n",
       "      <td>12514</td>\n",
       "    </tr>\n",
       "    <tr>\n",
       "      <th>solitary_lesion</th>\n",
       "      <td>25000</td>\n",
       "      <td>2</td>\n",
       "      <td>True</td>\n",
       "      <td>12527</td>\n",
       "    </tr>\n",
       "    <tr>\n",
       "      <th>swollen_tonsils</th>\n",
       "      <td>25000</td>\n",
       "      <td>2</td>\n",
       "      <td>True</td>\n",
       "      <td>12533</td>\n",
       "    </tr>\n",
       "    <tr>\n",
       "      <th>hiv_infection</th>\n",
       "      <td>25000</td>\n",
       "      <td>2</td>\n",
       "      <td>True</td>\n",
       "      <td>12584</td>\n",
       "    </tr>\n",
       "    <tr>\n",
       "      <th>STD</th>\n",
       "      <td>25000</td>\n",
       "      <td>2</td>\n",
       "      <td>False</td>\n",
       "      <td>12554</td>\n",
       "    </tr>\n",
       "    <tr>\n",
       "      <th>monkeypox</th>\n",
       "      <td>25000</td>\n",
       "      <td>2</td>\n",
       "      <td>Positive</td>\n",
       "      <td>15909</td>\n",
       "    </tr>\n",
       "  </tbody>\n",
       "</table>\n",
       "</div>"
      ],
      "text/plain": [
       "                  count unique       top   freq\n",
       "patient_id        25000  25000        P0      1\n",
       "systemic_illness  25000      4     Fever   6382\n",
       "rectal_pain       25000      2     False  12655\n",
       "sore_throat       25000      2      True  12554\n",
       "penile_oedema     25000      2      True  12612\n",
       "oral_lesions      25000      2     False  12514\n",
       "solitary_lesion   25000      2      True  12527\n",
       "swollen_tonsils   25000      2      True  12533\n",
       "hiv_infection     25000      2      True  12584\n",
       "STD               25000      2     False  12554\n",
       "monkeypox         25000      2  Positive  15909"
      ]
     },
     "execution_count": 135,
     "metadata": {},
     "output_type": "execute_result"
    }
   ],
   "source": [
    "data.describe().T"
   ]
  },
  {
   "cell_type": "code",
   "execution_count": 7,
   "id": "991b3a6d",
   "metadata": {},
   "outputs": [
    {
     "data": {
      "text/plain": [
       "patient_id          25000\n",
       "systemic_illness        4\n",
       "rectal_pain             2\n",
       "sore_throat             2\n",
       "penile_oedema           2\n",
       "oral_lesions            2\n",
       "solitary_lesion         2\n",
       "swollen_tonsils         2\n",
       "hiv_infection           2\n",
       "STD                     2\n",
       "monkeypox               2\n",
       "dtype: int64"
      ]
     },
     "execution_count": 7,
     "metadata": {},
     "output_type": "execute_result"
    }
   ],
   "source": [
    "data.nunique()"
   ]
  },
  {
   "cell_type": "code",
   "execution_count": 8,
   "id": "9b899c52",
   "metadata": {},
   "outputs": [
    {
     "data": {
      "text/plain": [
       "False    25000\n",
       "dtype: int64"
      ]
     },
     "execution_count": 8,
     "metadata": {},
     "output_type": "execute_result"
    }
   ],
   "source": [
    "data.duplicated().value_counts()"
   ]
  },
  {
   "cell_type": "code",
   "execution_count": 9,
   "id": "8b4bcbe0",
   "metadata": {},
   "outputs": [
    {
     "data": {
      "text/html": [
       "<div>\n",
       "<style scoped>\n",
       "    .dataframe tbody tr th:only-of-type {\n",
       "        vertical-align: middle;\n",
       "    }\n",
       "\n",
       "    .dataframe tbody tr th {\n",
       "        vertical-align: top;\n",
       "    }\n",
       "\n",
       "    .dataframe thead th {\n",
       "        text-align: right;\n",
       "    }\n",
       "</style>\n",
       "<table border=\"1\" class=\"dataframe\">\n",
       "  <thead>\n",
       "    <tr style=\"text-align: right;\">\n",
       "      <th></th>\n",
       "      <th>rectal_pain</th>\n",
       "      <th>sore_throat</th>\n",
       "      <th>penile_oedema</th>\n",
       "      <th>oral_lesions</th>\n",
       "      <th>solitary_lesion</th>\n",
       "      <th>swollen_tonsils</th>\n",
       "      <th>hiv_infection</th>\n",
       "      <th>STD</th>\n",
       "    </tr>\n",
       "  </thead>\n",
       "  <tbody>\n",
       "    <tr>\n",
       "      <th>rectal_pain</th>\n",
       "      <td>1.000000</td>\n",
       "      <td>0.006214</td>\n",
       "      <td>0.005312</td>\n",
       "      <td>0.007747</td>\n",
       "      <td>0.001147</td>\n",
       "      <td>0.002113</td>\n",
       "      <td>0.005764</td>\n",
       "      <td>0.000666</td>\n",
       "    </tr>\n",
       "    <tr>\n",
       "      <th>sore_throat</th>\n",
       "      <td>0.006214</td>\n",
       "      <td>1.000000</td>\n",
       "      <td>0.009082</td>\n",
       "      <td>-0.000795</td>\n",
       "      <td>-0.003609</td>\n",
       "      <td>-0.002011</td>\n",
       "      <td>0.000771</td>\n",
       "      <td>-0.001901</td>\n",
       "    </tr>\n",
       "    <tr>\n",
       "      <th>penile_oedema</th>\n",
       "      <td>0.005312</td>\n",
       "      <td>0.009082</td>\n",
       "      <td>1.000000</td>\n",
       "      <td>0.003850</td>\n",
       "      <td>0.002781</td>\n",
       "      <td>0.000536</td>\n",
       "      <td>0.003620</td>\n",
       "      <td>-0.005722</td>\n",
       "    </tr>\n",
       "    <tr>\n",
       "      <th>oral_lesions</th>\n",
       "      <td>0.007747</td>\n",
       "      <td>-0.000795</td>\n",
       "      <td>0.003850</td>\n",
       "      <td>1.000000</td>\n",
       "      <td>-0.005198</td>\n",
       "      <td>-0.007757</td>\n",
       "      <td>-0.012153</td>\n",
       "      <td>-0.002725</td>\n",
       "    </tr>\n",
       "    <tr>\n",
       "      <th>solitary_lesion</th>\n",
       "      <td>0.001147</td>\n",
       "      <td>-0.003609</td>\n",
       "      <td>0.002781</td>\n",
       "      <td>-0.005198</td>\n",
       "      <td>1.000000</td>\n",
       "      <td>0.002874</td>\n",
       "      <td>-0.002335</td>\n",
       "      <td>0.009849</td>\n",
       "    </tr>\n",
       "    <tr>\n",
       "      <th>swollen_tonsils</th>\n",
       "      <td>0.002113</td>\n",
       "      <td>-0.002011</td>\n",
       "      <td>0.000536</td>\n",
       "      <td>-0.007757</td>\n",
       "      <td>0.002874</td>\n",
       "      <td>1.000000</td>\n",
       "      <td>-0.004258</td>\n",
       "      <td>-0.006469</td>\n",
       "    </tr>\n",
       "    <tr>\n",
       "      <th>hiv_infection</th>\n",
       "      <td>0.005764</td>\n",
       "      <td>0.000771</td>\n",
       "      <td>0.003620</td>\n",
       "      <td>-0.012153</td>\n",
       "      <td>-0.002335</td>\n",
       "      <td>-0.004258</td>\n",
       "      <td>1.000000</td>\n",
       "      <td>0.001309</td>\n",
       "    </tr>\n",
       "    <tr>\n",
       "      <th>STD</th>\n",
       "      <td>0.000666</td>\n",
       "      <td>-0.001901</td>\n",
       "      <td>-0.005722</td>\n",
       "      <td>-0.002725</td>\n",
       "      <td>0.009849</td>\n",
       "      <td>-0.006469</td>\n",
       "      <td>0.001309</td>\n",
       "      <td>1.000000</td>\n",
       "    </tr>\n",
       "  </tbody>\n",
       "</table>\n",
       "</div>"
      ],
      "text/plain": [
       "                 rectal_pain  sore_throat  penile_oedema  oral_lesions  \\\n",
       "rectal_pain         1.000000     0.006214       0.005312      0.007747   \n",
       "sore_throat         0.006214     1.000000       0.009082     -0.000795   \n",
       "penile_oedema       0.005312     0.009082       1.000000      0.003850   \n",
       "oral_lesions        0.007747    -0.000795       0.003850      1.000000   \n",
       "solitary_lesion     0.001147    -0.003609       0.002781     -0.005198   \n",
       "swollen_tonsils     0.002113    -0.002011       0.000536     -0.007757   \n",
       "hiv_infection       0.005764     0.000771       0.003620     -0.012153   \n",
       "STD                 0.000666    -0.001901      -0.005722     -0.002725   \n",
       "\n",
       "                 solitary_lesion  swollen_tonsils  hiv_infection       STD  \n",
       "rectal_pain             0.001147         0.002113       0.005764  0.000666  \n",
       "sore_throat            -0.003609        -0.002011       0.000771 -0.001901  \n",
       "penile_oedema           0.002781         0.000536       0.003620 -0.005722  \n",
       "oral_lesions           -0.005198        -0.007757      -0.012153 -0.002725  \n",
       "solitary_lesion         1.000000         0.002874      -0.002335  0.009849  \n",
       "swollen_tonsils         0.002874         1.000000      -0.004258 -0.006469  \n",
       "hiv_infection          -0.002335        -0.004258       1.000000  0.001309  \n",
       "STD                     0.009849        -0.006469       0.001309  1.000000  "
      ]
     },
     "execution_count": 9,
     "metadata": {},
     "output_type": "execute_result"
    }
   ],
   "source": [
    "data.corr()"
   ]
  },
  {
   "cell_type": "code",
   "execution_count": 6,
   "id": "747932db",
   "metadata": {},
   "outputs": [
    {
     "data": {
      "image/png": "[encoded data removed]",
      "text/plain": [
       "<Figure size 720x504 with 2 Axes>"
      ]
     },
     "metadata": {
      "needs_background": "light"
     },
     "output_type": "display_data"
    }
   ],
   "source": [
    "plt.figure(figsize=(10,7))\n",
    "sns.heatmap(data.corr(), vmax=1, vmin=-1, annot=True, cmap='RdBu')\n",
    "plt.show()"
   ]
  },
  {
   "cell_type": "markdown",
   "id": "d28c22ca",
   "metadata": {},
   "source": [
    "# DROPPING NON-ESSENTIAL FEATURES"
   ]
  },
  {
   "cell_type": "code",
   "execution_count": 136,
   "id": "a900f2b9",
   "metadata": {},
   "outputs": [
    {
     "data": {
      "text/html": [
       "<div>\n",
       "<style scoped>\n",
       "    .dataframe tbody tr th:only-of-type {\n",
       "        vertical-align: middle;\n",
       "    }\n",
       "\n",
       "    .dataframe tbody tr th {\n",
       "        vertical-align: top;\n",
       "    }\n",
       "\n",
       "    .dataframe thead th {\n",
       "        text-align: right;\n",
       "    }\n",
       "</style>\n",
       "<table border=\"1\" class=\"dataframe\">\n",
       "  <thead>\n",
       "    <tr style=\"text-align: right;\">\n",
       "      <th></th>\n",
       "      <th>systemic_illness</th>\n",
       "      <th>rectal_pain</th>\n",
       "      <th>sore_throat</th>\n",
       "      <th>penile_oedema</th>\n",
       "      <th>oral_lesions</th>\n",
       "      <th>solitary_lesion</th>\n",
       "      <th>swollen_tonsils</th>\n",
       "      <th>hiv_infection</th>\n",
       "      <th>STD</th>\n",
       "      <th>monkeypox</th>\n",
       "    </tr>\n",
       "  </thead>\n",
       "  <tbody>\n",
       "    <tr>\n",
       "      <th>0</th>\n",
       "      <td>None</td>\n",
       "      <td>False</td>\n",
       "      <td>True</td>\n",
       "      <td>True</td>\n",
       "      <td>True</td>\n",
       "      <td>False</td>\n",
       "      <td>True</td>\n",
       "      <td>False</td>\n",
       "      <td>False</td>\n",
       "      <td>Negative</td>\n",
       "    </tr>\n",
       "    <tr>\n",
       "      <th>1</th>\n",
       "      <td>Fever</td>\n",
       "      <td>True</td>\n",
       "      <td>False</td>\n",
       "      <td>True</td>\n",
       "      <td>True</td>\n",
       "      <td>False</td>\n",
       "      <td>False</td>\n",
       "      <td>True</td>\n",
       "      <td>False</td>\n",
       "      <td>Positive</td>\n",
       "    </tr>\n",
       "    <tr>\n",
       "      <th>2</th>\n",
       "      <td>Fever</td>\n",
       "      <td>False</td>\n",
       "      <td>True</td>\n",
       "      <td>True</td>\n",
       "      <td>False</td>\n",
       "      <td>False</td>\n",
       "      <td>False</td>\n",
       "      <td>True</td>\n",
       "      <td>False</td>\n",
       "      <td>Positive</td>\n",
       "    </tr>\n",
       "    <tr>\n",
       "      <th>3</th>\n",
       "      <td>None</td>\n",
       "      <td>True</td>\n",
       "      <td>False</td>\n",
       "      <td>False</td>\n",
       "      <td>False</td>\n",
       "      <td>True</td>\n",
       "      <td>True</td>\n",
       "      <td>True</td>\n",
       "      <td>False</td>\n",
       "      <td>Positive</td>\n",
       "    </tr>\n",
       "    <tr>\n",
       "      <th>4</th>\n",
       "      <td>Swollen Lymph Nodes</td>\n",
       "      <td>True</td>\n",
       "      <td>True</td>\n",
       "      <td>True</td>\n",
       "      <td>False</td>\n",
       "      <td>False</td>\n",
       "      <td>True</td>\n",
       "      <td>True</td>\n",
       "      <td>False</td>\n",
       "      <td>Positive</td>\n",
       "    </tr>\n",
       "    <tr>\n",
       "      <th>...</th>\n",
       "      <td>...</td>\n",
       "      <td>...</td>\n",
       "      <td>...</td>\n",
       "      <td>...</td>\n",
       "      <td>...</td>\n",
       "      <td>...</td>\n",
       "      <td>...</td>\n",
       "      <td>...</td>\n",
       "      <td>...</td>\n",
       "      <td>...</td>\n",
       "    </tr>\n",
       "    <tr>\n",
       "      <th>24995</th>\n",
       "      <td>None</td>\n",
       "      <td>True</td>\n",
       "      <td>True</td>\n",
       "      <td>False</td>\n",
       "      <td>True</td>\n",
       "      <td>True</td>\n",
       "      <td>False</td>\n",
       "      <td>False</td>\n",
       "      <td>True</td>\n",
       "      <td>Positive</td>\n",
       "    </tr>\n",
       "    <tr>\n",
       "      <th>24996</th>\n",
       "      <td>Fever</td>\n",
       "      <td>False</td>\n",
       "      <td>True</td>\n",
       "      <td>True</td>\n",
       "      <td>False</td>\n",
       "      <td>True</td>\n",
       "      <td>True</td>\n",
       "      <td>True</td>\n",
       "      <td>True</td>\n",
       "      <td>Positive</td>\n",
       "    </tr>\n",
       "    <tr>\n",
       "      <th>24997</th>\n",
       "      <td>None</td>\n",
       "      <td>True</td>\n",
       "      <td>True</td>\n",
       "      <td>False</td>\n",
       "      <td>False</td>\n",
       "      <td>True</td>\n",
       "      <td>True</td>\n",
       "      <td>False</td>\n",
       "      <td>False</td>\n",
       "      <td>Positive</td>\n",
       "    </tr>\n",
       "    <tr>\n",
       "      <th>24998</th>\n",
       "      <td>Swollen Lymph Nodes</td>\n",
       "      <td>False</td>\n",
       "      <td>True</td>\n",
       "      <td>False</td>\n",
       "      <td>True</td>\n",
       "      <td>True</td>\n",
       "      <td>True</td>\n",
       "      <td>False</td>\n",
       "      <td>False</td>\n",
       "      <td>Negative</td>\n",
       "    </tr>\n",
       "    <tr>\n",
       "      <th>24999</th>\n",
       "      <td>Swollen Lymph Nodes</td>\n",
       "      <td>False</td>\n",
       "      <td>False</td>\n",
       "      <td>True</td>\n",
       "      <td>False</td>\n",
       "      <td>False</td>\n",
       "      <td>True</td>\n",
       "      <td>True</td>\n",
       "      <td>False</td>\n",
       "      <td>Positive</td>\n",
       "    </tr>\n",
       "  </tbody>\n",
       "</table>\n",
       "<p>25000 rows × 10 columns</p>\n",
       "</div>"
      ],
      "text/plain": [
       "          systemic_illness  rectal_pain  sore_throat  penile_oedema  \\\n",
       "0                     None        False         True           True   \n",
       "1                    Fever         True        False           True   \n",
       "2                    Fever        False         True           True   \n",
       "3                     None         True        False          False   \n",
       "4      Swollen Lymph Nodes         True         True           True   \n",
       "...                    ...          ...          ...            ...   \n",
       "24995                 None         True         True          False   \n",
       "24996                Fever        False         True           True   \n",
       "24997                 None         True         True          False   \n",
       "24998  Swollen Lymph Nodes        False         True          False   \n",
       "24999  Swollen Lymph Nodes        False        False           True   \n",
       "\n",
       "       oral_lesions  solitary_lesion  swollen_tonsils  hiv_infection    STD  \\\n",
       "0              True            False             True          False  False   \n",
       "1              True            False            False           True  False   \n",
       "2             False            False            False           True  False   \n",
       "3             False             True             True           True  False   \n",
       "4             False            False             True           True  False   \n",
       "...             ...              ...              ...            ...    ...   \n",
       "24995          True             True            False          False   True   \n",
       "24996         False             True             True           True   True   \n",
       "24997         False             True             True          False  False   \n",
       "24998          True             True             True          False  False   \n",
       "24999         False            False             True           True  False   \n",
       "\n",
       "      monkeypox  \n",
       "0      Negative  \n",
       "1      Positive  \n",
       "2      Positive  \n",
       "3      Positive  \n",
       "4      Positive  \n",
       "...         ...  \n",
       "24995  Positive  \n",
       "24996  Positive  \n",
       "24997  Positive  \n",
       "24998  Negative  \n",
       "24999  Positive  \n",
       "\n",
       "[25000 rows x 10 columns]"
      ]
     },
     "execution_count": 136,
     "metadata": {},
     "output_type": "execute_result"
    }
   ],
   "source": [
    "data=data.drop('patient_id',axis=1)\n",
    "data"
   ]
  },
  {
   "cell_type": "markdown",
   "id": "7f523efe",
   "metadata": {},
   "source": [
    "# Explore the target variable"
   ]
  },
  {
   "cell_type": "code",
   "execution_count": 12,
   "id": "0fc92282",
   "metadata": {},
   "outputs": [
    {
     "name": "stdout",
     "output_type": "stream",
     "text": [
      "Positive    15909\n",
      "Negative     9091\n",
      "Name: monkeypox, dtype: int64\n"
     ]
    },
    {
     "data": {
      "image/png": "[encoded data removed]",
      "text/plain": [
       "<Figure size 432x288 with 1 Axes>"
      ]
     },
     "metadata": {
      "needs_background": "light"
     },
     "output_type": "display_data"
    }
   ],
   "source": [
    "print(data['monkeypox'].value_counts())\n",
    "sns.countplot(data['monkeypox'])\n",
    "plt.show()"
   ]
  },
  {
   "cell_type": "code",
   "execution_count": 13,
   "id": "6dcb3e72",
   "metadata": {},
   "outputs": [
    {
     "data": {
      "text/plain": [
       "systemic_illness       monkeypox\n",
       "Fever                  Negative     1602\n",
       "                       Positive     4780\n",
       "Muscle Aches and Pain  Negative     2926\n",
       "                       Positive     3224\n",
       "None                   Negative     2892\n",
       "                       Positive     3324\n",
       "Swollen Lymph Nodes    Negative     1671\n",
       "                       Positive     4581\n",
       "Name: systemic_illness, dtype: int64"
      ]
     },
     "execution_count": 13,
     "metadata": {},
     "output_type": "execute_result"
    },
    {
     "data": {
      "image/png": "[encoded data removed]",
      "text/plain": [
       "<Figure size 432x288 with 1 Axes>"
      ]
     },
     "metadata": {
      "needs_background": "light"
     },
     "output_type": "display_data"
    }
   ],
   "source": [
    "sns.countplot(x=data['systemic_illness'], hue=data['monkeypox'])\n",
    "data.groupby(by=['systemic_illness','monkeypox'])['systemic_illness'].count()"
   ]
  },
  {
   "cell_type": "code",
   "execution_count": 130,
   "id": "a1860b53",
   "metadata": {},
   "outputs": [],
   "source": [
    "grp_data = data.groupby(by=['systemic_illness','monkeypox'])['systemic_illness'].count()"
   ]
  },
  {
   "cell_type": "code",
   "execution_count": 132,
   "id": "d05b00d2",
   "metadata": {},
   "outputs": [
    {
     "name": "stdout",
     "output_type": "stream",
     "text": [
      "% who had fever and got MonkeyPox 74.89815104982765\n",
      "% who had muscle pain and got MonkeyPox 52.42276422764227\n",
      "% who had no illness but got MonkeyPox 53.47490347490348\n",
      "% who had swollen lymph and got MonkeyPox 73.2725527831094\n"
     ]
    }
   ],
   "source": [
    "print('% who had fever and got MonkeyPox',((grp_data['Fever'][1])/(grp_data['Fever'][1]+grp_data['Fever'][0]))*100)\n",
    "print('% who had muscle pain and got MonkeyPox',((grp_data['Muscle Aches and Pain'][1])/(grp_data['Muscle Aches and Pain'][1]+grp_data['Muscle Aches and Pain'][0]))*100)\n",
    "print('% who had no illness but got MonkeyPox',((grp_data['None'][1])/(grp_data['None'][1]+grp_data['None'][0]))*100)\n",
    "print('% who had swollen lymph and got MonkeyPox',((grp_data['Swollen Lymph Nodes'][1])/(grp_data['Swollen Lymph Nodes'][1]+grp_data['Swollen Lymph Nodes'][0]))*100)"
   ]
  },
  {
   "cell_type": "code",
   "execution_count": 29,
   "id": "c753b128",
   "metadata": {
    "collapsed": true
   },
   "outputs": [
    {
     "data": {
      "text/plain": [
       "rectal_pain  monkeypox\n",
       "False        Negative     5448\n",
       "             Positive     7207\n",
       "True         Negative     3643\n",
       "             Positive     8702\n",
       "Name: rectal_pain, dtype: int64"
      ]
     },
     "execution_count": 29,
     "metadata": {},
     "output_type": "execute_result"
    },
    {
     "data": {
      "image/png": "[encoded data removed]",
      "text/plain": [
       "<Figure size 432x288 with 1 Axes>"
      ]
     },
     "metadata": {
      "needs_background": "light"
     },
     "output_type": "display_data"
    }
   ],
   "source": [
    "sns.countplot(x=data['rectal_pain'], hue=data['monkeypox'])\n",
    "data.groupby(by=['rectal_pain','monkeypox'])['rectal_pain'].count()"
   ]
  },
  {
   "cell_type": "code",
   "execution_count": 30,
   "id": "862ab956",
   "metadata": {
    "collapsed": true
   },
   "outputs": [
    {
     "data": {
      "text/plain": [
       "sore_throat  monkeypox\n",
       "False        Negative     4907\n",
       "             Positive     7539\n",
       "True         Negative     4184\n",
       "             Positive     8370\n",
       "Name: sore_throat, dtype: int64"
      ]
     },
     "execution_count": 30,
     "metadata": {},
     "output_type": "execute_result"
    },
    {
     "data": {
      "image/png": "[encoded data removed]",
      "text/plain": [
       "<Figure size 432x288 with 1 Axes>"
      ]
     },
     "metadata": {
      "needs_background": "light"
     },
     "output_type": "display_data"
    }
   ],
   "source": [
    "sns.countplot(x=data['sore_throat'], hue=data['monkeypox'])\n",
    "data.groupby(by=['sore_throat','monkeypox'])['sore_throat'].count()"
   ]
  },
  {
   "cell_type": "code",
   "execution_count": 26,
   "id": "08a5acb7",
   "metadata": {
    "collapsed": true
   },
   "outputs": [
    {
     "data": {
      "text/plain": [
       "penile_oedema  monkeypox\n",
       "False          Negative     4877\n",
       "               Positive     7511\n",
       "True           Negative     4214\n",
       "               Positive     8398\n",
       "Name: penile_oedema, dtype: int64"
      ]
     },
     "execution_count": 26,
     "metadata": {},
     "output_type": "execute_result"
    },
    {
     "data": {
      "image/png": "[encoded data removed]",
      "text/plain": [
       "<Figure size 432x288 with 1 Axes>"
      ]
     },
     "metadata": {
      "needs_background": "light"
     },
     "output_type": "display_data"
    }
   ],
   "source": [
    "sns.countplot(x=data['penile_oedema'], hue=data['monkeypox'])\n",
    "data.groupby(by=['penile_oedema','monkeypox'])['penile_oedema'].count()"
   ]
  },
  {
   "cell_type": "code",
   "execution_count": 27,
   "id": "ed1ca8bc",
   "metadata": {
    "collapsed": true
   },
   "outputs": [
    {
     "data": {
      "text/plain": [
       "oral_lesions  monkeypox\n",
       "False         Negative     4863\n",
       "              Positive     7651\n",
       "True          Negative     4228\n",
       "              Positive     8258\n",
       "Name: oral_lesions, dtype: int64"
      ]
     },
     "execution_count": 27,
     "metadata": {},
     "output_type": "execute_result"
    },
    {
     "data": {
      "image/png": "[encoded data removed]",
      "text/plain": [
       "<Figure size 432x288 with 1 Axes>"
      ]
     },
     "metadata": {
      "needs_background": "light"
     },
     "output_type": "display_data"
    }
   ],
   "source": [
    "sns.countplot(x=data['oral_lesions'], hue=data['monkeypox'])\n",
    "data.groupby(by=['oral_lesions','monkeypox'])['oral_lesions'].count()"
   ]
  },
  {
   "cell_type": "code",
   "execution_count": 28,
   "id": "c4cac1ef",
   "metadata": {
    "collapsed": true
   },
   "outputs": [
    {
     "data": {
      "text/plain": [
       "solitary_lesion  monkeypox\n",
       "False            Negative     4761\n",
       "                 Positive     7712\n",
       "True             Negative     4330\n",
       "                 Positive     8197\n",
       "Name: solitary_lesion, dtype: int64"
      ]
     },
     "execution_count": 28,
     "metadata": {},
     "output_type": "execute_result"
    },
    {
     "data": {
      "image/png": "[encoded data removed]",
      "text/plain": [
       "<Figure size 432x288 with 1 Axes>"
      ]
     },
     "metadata": {
      "needs_background": "light"
     },
     "output_type": "display_data"
    }
   ],
   "source": [
    "sns.countplot(x=data['solitary_lesion'], hue=data['monkeypox'])\n",
    "data.groupby(by=['solitary_lesion','monkeypox'])['solitary_lesion'].count()"
   ]
  },
  {
   "cell_type": "code",
   "execution_count": 31,
   "id": "e56b9021",
   "metadata": {
    "collapsed": true
   },
   "outputs": [
    {
     "data": {
      "text/plain": [
       "swollen_tonsils  monkeypox\n",
       "False            Negative     4613\n",
       "                 Positive     7854\n",
       "True             Negative     4478\n",
       "                 Positive     8055\n",
       "Name: swollen_tonsils, dtype: int64"
      ]
     },
     "execution_count": 31,
     "metadata": {},
     "output_type": "execute_result"
    },
    {
     "data": {
      "image/png": "[encoded data removed]",
      "text/plain": [
       "<Figure size 432x288 with 1 Axes>"
      ]
     },
     "metadata": {
      "needs_background": "light"
     },
     "output_type": "display_data"
    }
   ],
   "source": [
    "sns.countplot(x=data['swollen_tonsils'], hue=data['monkeypox'])\n",
    "data.groupby(by=['swollen_tonsils','monkeypox'])['swollen_tonsils'].count()"
   ]
  },
  {
   "cell_type": "code",
   "execution_count": 32,
   "id": "fce3ec0b",
   "metadata": {
    "collapsed": true
   },
   "outputs": [
    {
     "data": {
      "text/plain": [
       "hiv_infection  monkeypox\n",
       "False          Negative     5394\n",
       "               Positive     7022\n",
       "True           Negative     3697\n",
       "               Positive     8887\n",
       "Name: hiv_infection, dtype: int64"
      ]
     },
     "execution_count": 32,
     "metadata": {},
     "output_type": "execute_result"
    },
    {
     "data": {
      "image/png": "[encoded data removed]",
      "text/plain": [
       "<Figure size 432x288 with 1 Axes>"
      ]
     },
     "metadata": {
      "needs_background": "light"
     },
     "output_type": "display_data"
    }
   ],
   "source": [
    "sns.countplot(x=data['hiv_infection'], hue=data['monkeypox'])\n",
    "data.groupby(by=['hiv_infection','monkeypox'])['hiv_infection'].count()"
   ]
  },
  {
   "cell_type": "code",
   "execution_count": 33,
   "id": "d97e213e",
   "metadata": {
    "collapsed": true
   },
   "outputs": [
    {
     "data": {
      "text/plain": [
       "STD    monkeypox\n",
       "False  Negative     5307\n",
       "       Positive     7247\n",
       "True   Negative     3784\n",
       "       Positive     8662\n",
       "Name: STD, dtype: int64"
      ]
     },
     "execution_count": 33,
     "metadata": {},
     "output_type": "execute_result"
    },
    {
     "data": {
      "image/png": "[encoded data removed]",
      "text/plain": [
       "<Figure size 432x288 with 1 Axes>"
      ]
     },
     "metadata": {
      "needs_background": "light"
     },
     "output_type": "display_data"
    }
   ],
   "source": [
    "sns.countplot(x=data['STD'], hue=data['monkeypox'])\n",
    "data.groupby(by=['STD','monkeypox'])['STD'].count()"
   ]
  },
  {
   "cell_type": "markdown",
   "id": "9792b306",
   "metadata": {},
   "source": [
    "# Feature Engeneering"
   ]
  },
  {
   "cell_type": "code",
   "execution_count": 137,
   "id": "2f8e160a",
   "metadata": {},
   "outputs": [],
   "source": [
    "from sklearn.preprocessing import LabelEncoder\n",
    "le = LabelEncoder()"
   ]
  },
  {
   "cell_type": "code",
   "execution_count": 138,
   "id": "60468c37",
   "metadata": {},
   "outputs": [],
   "source": [
    "# 0- Negative and 1- Positive\n",
    "data['monkeypox'] = le.fit_transform(data['monkeypox'])"
   ]
  },
  {
   "cell_type": "code",
   "execution_count": 139,
   "id": "eb393de3",
   "metadata": {},
   "outputs": [],
   "source": [
    "# 0- False and 1- True\n",
    "data['rectal_pain'] = le.fit_transform(data['rectal_pain'])\n",
    "data['sore_throat'] = le.fit_transform(data['sore_throat'])\n",
    "data['penile_oedema'] = le.fit_transform(data['penile_oedema'])\n",
    "data['oral_lesions'] = le.fit_transform(data['oral_lesions'])\n",
    "data['solitary_lesion'] = le.fit_transform(data['solitary_lesion'])\n",
    "data['swollen_tonsils'] = le.fit_transform(data['swollen_tonsils'])\n",
    "data['hiv_infection'] = le.fit_transform(data['hiv_infection'])\n",
    "data['STD'] = le.fit_transform(data['STD'])"
   ]
  },
  {
   "cell_type": "code",
   "execution_count": 142,
   "id": "9949c43e",
   "metadata": {},
   "outputs": [
    {
     "data": {
      "text/html": [
       "<div>\n",
       "<style scoped>\n",
       "    .dataframe tbody tr th:only-of-type {\n",
       "        vertical-align: middle;\n",
       "    }\n",
       "\n",
       "    .dataframe tbody tr th {\n",
       "        vertical-align: top;\n",
       "    }\n",
       "\n",
       "    .dataframe thead th {\n",
       "        text-align: right;\n",
       "    }\n",
       "</style>\n",
       "<table border=\"1\" class=\"dataframe\">\n",
       "  <thead>\n",
       "    <tr style=\"text-align: right;\">\n",
       "      <th></th>\n",
       "      <th>rectal_pain</th>\n",
       "      <th>sore_throat</th>\n",
       "      <th>penile_oedema</th>\n",
       "      <th>oral_lesions</th>\n",
       "      <th>solitary_lesion</th>\n",
       "      <th>swollen_tonsils</th>\n",
       "      <th>hiv_infection</th>\n",
       "      <th>STD</th>\n",
       "      <th>monkeypox</th>\n",
       "      <th>systemic_illness_Fever</th>\n",
       "      <th>systemic_illness_Muscle Aches and Pain</th>\n",
       "      <th>systemic_illness_None</th>\n",
       "      <th>systemic_illness_Swollen Lymph Nodes</th>\n",
       "    </tr>\n",
       "  </thead>\n",
       "  <tbody>\n",
       "    <tr>\n",
       "      <th>0</th>\n",
       "      <td>0</td>\n",
       "      <td>1</td>\n",
       "      <td>1</td>\n",
       "      <td>1</td>\n",
       "      <td>0</td>\n",
       "      <td>1</td>\n",
       "      <td>0</td>\n",
       "      <td>0</td>\n",
       "      <td>0</td>\n",
       "      <td>0</td>\n",
       "      <td>0</td>\n",
       "      <td>1</td>\n",
       "      <td>0</td>\n",
       "    </tr>\n",
       "    <tr>\n",
       "      <th>1</th>\n",
       "      <td>1</td>\n",
       "      <td>0</td>\n",
       "      <td>1</td>\n",
       "      <td>1</td>\n",
       "      <td>0</td>\n",
       "      <td>0</td>\n",
       "      <td>1</td>\n",
       "      <td>0</td>\n",
       "      <td>1</td>\n",
       "      <td>1</td>\n",
       "      <td>0</td>\n",
       "      <td>0</td>\n",
       "      <td>0</td>\n",
       "    </tr>\n",
       "    <tr>\n",
       "      <th>2</th>\n",
       "      <td>0</td>\n",
       "      <td>1</td>\n",
       "      <td>1</td>\n",
       "      <td>0</td>\n",
       "      <td>0</td>\n",
       "      <td>0</td>\n",
       "      <td>1</td>\n",
       "      <td>0</td>\n",
       "      <td>1</td>\n",
       "      <td>1</td>\n",
       "      <td>0</td>\n",
       "      <td>0</td>\n",
       "      <td>0</td>\n",
       "    </tr>\n",
       "    <tr>\n",
       "      <th>3</th>\n",
       "      <td>1</td>\n",
       "      <td>0</td>\n",
       "      <td>0</td>\n",
       "      <td>0</td>\n",
       "      <td>1</td>\n",
       "      <td>1</td>\n",
       "      <td>1</td>\n",
       "      <td>0</td>\n",
       "      <td>1</td>\n",
       "      <td>0</td>\n",
       "      <td>0</td>\n",
       "      <td>1</td>\n",
       "      <td>0</td>\n",
       "    </tr>\n",
       "    <tr>\n",
       "      <th>4</th>\n",
       "      <td>1</td>\n",
       "      <td>1</td>\n",
       "      <td>1</td>\n",
       "      <td>0</td>\n",
       "      <td>0</td>\n",
       "      <td>1</td>\n",
       "      <td>1</td>\n",
       "      <td>0</td>\n",
       "      <td>1</td>\n",
       "      <td>0</td>\n",
       "      <td>0</td>\n",
       "      <td>0</td>\n",
       "      <td>1</td>\n",
       "    </tr>\n",
       "  </tbody>\n",
       "</table>\n",
       "</div>"
      ],
      "text/plain": [
       "   rectal_pain  sore_throat  penile_oedema  oral_lesions  solitary_lesion  \\\n",
       "0            0            1              1             1                0   \n",
       "1            1            0              1             1                0   \n",
       "2            0            1              1             0                0   \n",
       "3            1            0              0             0                1   \n",
       "4            1            1              1             0                0   \n",
       "\n",
       "   swollen_tonsils  hiv_infection  STD  monkeypox  systemic_illness_Fever  \\\n",
       "0                1              0    0          0                       0   \n",
       "1                0              1    0          1                       1   \n",
       "2                0              1    0          1                       1   \n",
       "3                1              1    0          1                       0   \n",
       "4                1              1    0          1                       0   \n",
       "\n",
       "   systemic_illness_Muscle Aches and Pain  systemic_illness_None  \\\n",
       "0                                       0                      1   \n",
       "1                                       0                      0   \n",
       "2                                       0                      0   \n",
       "3                                       0                      1   \n",
       "4                                       0                      0   \n",
       "\n",
       "   systemic_illness_Swollen Lymph Nodes  \n",
       "0                                     0  \n",
       "1                                     0  \n",
       "2                                     0  \n",
       "3                                     0  \n",
       "4                                     1  "
      ]
     },
     "execution_count": 142,
     "metadata": {},
     "output_type": "execute_result"
    }
   ],
   "source": [
    "data = pd.get_dummies(data)\n",
    "data.head()"
   ]
  },
  {
   "cell_type": "code",
   "execution_count": 143,
   "id": "d74e3d12",
   "metadata": {},
   "outputs": [],
   "source": [
    "data = data.rename(index=str,columns={'systemic_illness_Fever':'fever',\n",
    "                                      'systemic_illness_Muscle Aches and Pain':'muscle_ache_and_pain',\n",
    "                                      'systemic_illness_None':'none',\n",
    "                                      'systemic_illness_Swollen Lymph Nodes':'swollen_lymph_nodes'})"
   ]
  },
  {
   "cell_type": "code",
   "execution_count": 144,
   "id": "792b879a",
   "metadata": {},
   "outputs": [
    {
     "data": {
      "text/html": [
       "<div>\n",
       "<style scoped>\n",
       "    .dataframe tbody tr th:only-of-type {\n",
       "        vertical-align: middle;\n",
       "    }\n",
       "\n",
       "    .dataframe tbody tr th {\n",
       "        vertical-align: top;\n",
       "    }\n",
       "\n",
       "    .dataframe thead th {\n",
       "        text-align: right;\n",
       "    }\n",
       "</style>\n",
       "<table border=\"1\" class=\"dataframe\">\n",
       "  <thead>\n",
       "    <tr style=\"text-align: right;\">\n",
       "      <th></th>\n",
       "      <th>rectal_pain</th>\n",
       "      <th>sore_throat</th>\n",
       "      <th>penile_oedema</th>\n",
       "      <th>oral_lesions</th>\n",
       "      <th>solitary_lesion</th>\n",
       "      <th>swollen_tonsils</th>\n",
       "      <th>hiv_infection</th>\n",
       "      <th>STD</th>\n",
       "      <th>monkeypox</th>\n",
       "      <th>fever</th>\n",
       "      <th>muscle_ache_and_pain</th>\n",
       "      <th>swollen_lymph_nodes</th>\n",
       "    </tr>\n",
       "  </thead>\n",
       "  <tbody>\n",
       "    <tr>\n",
       "      <th>0</th>\n",
       "      <td>0</td>\n",
       "      <td>1</td>\n",
       "      <td>1</td>\n",
       "      <td>1</td>\n",
       "      <td>0</td>\n",
       "      <td>1</td>\n",
       "      <td>0</td>\n",
       "      <td>0</td>\n",
       "      <td>0</td>\n",
       "      <td>0</td>\n",
       "      <td>0</td>\n",
       "      <td>0</td>\n",
       "    </tr>\n",
       "    <tr>\n",
       "      <th>1</th>\n",
       "      <td>1</td>\n",
       "      <td>0</td>\n",
       "      <td>1</td>\n",
       "      <td>1</td>\n",
       "      <td>0</td>\n",
       "      <td>0</td>\n",
       "      <td>1</td>\n",
       "      <td>0</td>\n",
       "      <td>1</td>\n",
       "      <td>1</td>\n",
       "      <td>0</td>\n",
       "      <td>0</td>\n",
       "    </tr>\n",
       "    <tr>\n",
       "      <th>2</th>\n",
       "      <td>0</td>\n",
       "      <td>1</td>\n",
       "      <td>1</td>\n",
       "      <td>0</td>\n",
       "      <td>0</td>\n",
       "      <td>0</td>\n",
       "      <td>1</td>\n",
       "      <td>0</td>\n",
       "      <td>1</td>\n",
       "      <td>1</td>\n",
       "      <td>0</td>\n",
       "      <td>0</td>\n",
       "    </tr>\n",
       "    <tr>\n",
       "      <th>3</th>\n",
       "      <td>1</td>\n",
       "      <td>0</td>\n",
       "      <td>0</td>\n",
       "      <td>0</td>\n",
       "      <td>1</td>\n",
       "      <td>1</td>\n",
       "      <td>1</td>\n",
       "      <td>0</td>\n",
       "      <td>1</td>\n",
       "      <td>0</td>\n",
       "      <td>0</td>\n",
       "      <td>0</td>\n",
       "    </tr>\n",
       "    <tr>\n",
       "      <th>4</th>\n",
       "      <td>1</td>\n",
       "      <td>1</td>\n",
       "      <td>1</td>\n",
       "      <td>0</td>\n",
       "      <td>0</td>\n",
       "      <td>1</td>\n",
       "      <td>1</td>\n",
       "      <td>0</td>\n",
       "      <td>1</td>\n",
       "      <td>0</td>\n",
       "      <td>0</td>\n",
       "      <td>1</td>\n",
       "    </tr>\n",
       "    <tr>\n",
       "      <th>...</th>\n",
       "      <td>...</td>\n",
       "      <td>...</td>\n",
       "      <td>...</td>\n",
       "      <td>...</td>\n",
       "      <td>...</td>\n",
       "      <td>...</td>\n",
       "      <td>...</td>\n",
       "      <td>...</td>\n",
       "      <td>...</td>\n",
       "      <td>...</td>\n",
       "      <td>...</td>\n",
       "      <td>...</td>\n",
       "    </tr>\n",
       "    <tr>\n",
       "      <th>24995</th>\n",
       "      <td>1</td>\n",
       "      <td>1</td>\n",
       "      <td>0</td>\n",
       "      <td>1</td>\n",
       "      <td>1</td>\n",
       "      <td>0</td>\n",
       "      <td>0</td>\n",
       "      <td>1</td>\n",
       "      <td>1</td>\n",
       "      <td>0</td>\n",
       "      <td>0</td>\n",
       "      <td>0</td>\n",
       "    </tr>\n",
       "    <tr>\n",
       "      <th>24996</th>\n",
       "      <td>0</td>\n",
       "      <td>1</td>\n",
       "      <td>1</td>\n",
       "      <td>0</td>\n",
       "      <td>1</td>\n",
       "      <td>1</td>\n",
       "      <td>1</td>\n",
       "      <td>1</td>\n",
       "      <td>1</td>\n",
       "      <td>1</td>\n",
       "      <td>0</td>\n",
       "      <td>0</td>\n",
       "    </tr>\n",
       "    <tr>\n",
       "      <th>24997</th>\n",
       "      <td>1</td>\n",
       "      <td>1</td>\n",
       "      <td>0</td>\n",
       "      <td>0</td>\n",
       "      <td>1</td>\n",
       "      <td>1</td>\n",
       "      <td>0</td>\n",
       "      <td>0</td>\n",
       "      <td>1</td>\n",
       "      <td>0</td>\n",
       "      <td>0</td>\n",
       "      <td>0</td>\n",
       "    </tr>\n",
       "    <tr>\n",
       "      <th>24998</th>\n",
       "      <td>0</td>\n",
       "      <td>1</td>\n",
       "      <td>0</td>\n",
       "      <td>1</td>\n",
       "      <td>1</td>\n",
       "      <td>1</td>\n",
       "      <td>0</td>\n",
       "      <td>0</td>\n",
       "      <td>0</td>\n",
       "      <td>0</td>\n",
       "      <td>0</td>\n",
       "      <td>1</td>\n",
       "    </tr>\n",
       "    <tr>\n",
       "      <th>24999</th>\n",
       "      <td>0</td>\n",
       "      <td>0</td>\n",
       "      <td>1</td>\n",
       "      <td>0</td>\n",
       "      <td>0</td>\n",
       "      <td>1</td>\n",
       "      <td>1</td>\n",
       "      <td>0</td>\n",
       "      <td>1</td>\n",
       "      <td>0</td>\n",
       "      <td>0</td>\n",
       "      <td>1</td>\n",
       "    </tr>\n",
       "  </tbody>\n",
       "</table>\n",
       "<p>25000 rows × 12 columns</p>\n",
       "</div>"
      ],
      "text/plain": [
       "       rectal_pain  sore_throat  penile_oedema  oral_lesions  solitary_lesion  \\\n",
       "0                0            1              1             1                0   \n",
       "1                1            0              1             1                0   \n",
       "2                0            1              1             0                0   \n",
       "3                1            0              0             0                1   \n",
       "4                1            1              1             0                0   \n",
       "...            ...          ...            ...           ...              ...   \n",
       "24995            1            1              0             1                1   \n",
       "24996            0            1              1             0                1   \n",
       "24997            1            1              0             0                1   \n",
       "24998            0            1              0             1                1   \n",
       "24999            0            0              1             0                0   \n",
       "\n",
       "       swollen_tonsils  hiv_infection  STD  monkeypox  fever  \\\n",
       "0                    1              0    0          0      0   \n",
       "1                    0              1    0          1      1   \n",
       "2                    0              1    0          1      1   \n",
       "3                    1              1    0          1      0   \n",
       "4                    1              1    0          1      0   \n",
       "...                ...            ...  ...        ...    ...   \n",
       "24995                0              0    1          1      0   \n",
       "24996                1              1    1          1      1   \n",
       "24997                1              0    0          1      0   \n",
       "24998                1              0    0          0      0   \n",
       "24999                1              1    0          1      0   \n",
       "\n",
       "       muscle_ache_and_pain  swollen_lymph_nodes  \n",
       "0                         0                    0  \n",
       "1                         0                    0  \n",
       "2                         0                    0  \n",
       "3                         0                    0  \n",
       "4                         0                    1  \n",
       "...                     ...                  ...  \n",
       "24995                     0                    0  \n",
       "24996                     0                    0  \n",
       "24997                     0                    0  \n",
       "24998                     0                    1  \n",
       "24999                     0                    1  \n",
       "\n",
       "[25000 rows x 12 columns]"
      ]
     },
     "execution_count": 144,
     "metadata": {},
     "output_type": "execute_result"
    }
   ],
   "source": [
    "data= data.drop('none',axis=1)\n",
    "data"
   ]
  },
  {
   "cell_type": "markdown",
   "id": "8d86323f",
   "metadata": {},
   "source": [
    "# Train Split Test"
   ]
  },
  {
   "cell_type": "code",
   "execution_count": 145,
   "id": "f7e7eba5",
   "metadata": {},
   "outputs": [],
   "source": [
    "x= data.drop(columns=['monkeypox'])\n",
    "y= data['monkeypox']"
   ]
  },
  {
   "cell_type": "code",
   "execution_count": 146,
   "id": "a2feb067",
   "metadata": {},
   "outputs": [
    {
     "name": "stdout",
     "output_type": "stream",
     "text": [
      "(20000, 11) (5000, 11) (20000,) (5000,)\n"
     ]
    }
   ],
   "source": [
    "from sklearn.model_selection import train_test_split\n",
    "x_train, x_test, y_train, y_test = train_test_split(x,y, test_size = 0.2, random_state = True)\n",
    "print(x_train.shape, x_test.shape, y_train.shape, y_test.shape)"
   ]
  },
  {
   "cell_type": "markdown",
   "id": "7895172b",
   "metadata": {},
   "source": [
    "## Logistic Regression"
   ]
  },
  {
   "cell_type": "code",
   "execution_count": 147,
   "id": "cc8bc268",
   "metadata": {},
   "outputs": [],
   "source": [
    "from sklearn.linear_model import LogisticRegression\n",
    "model= LogisticRegression()"
   ]
  },
  {
   "cell_type": "code",
   "execution_count": 148,
   "id": "498fda42",
   "metadata": {},
   "outputs": [
    {
     "data": {
      "text/plain": [
       "0.6966"
      ]
     },
     "execution_count": 148,
     "metadata": {},
     "output_type": "execute_result"
    }
   ],
   "source": [
    "model.fit(x_train,y_train)\n",
    "model.score(x_test,y_test)"
   ]
  },
  {
   "cell_type": "code",
   "execution_count": 149,
   "id": "fb46eedd",
   "metadata": {},
   "outputs": [
    {
     "data": {
      "text/plain": [
       "array([1, 1, 0, ..., 0, 1, 1])"
      ]
     },
     "execution_count": 149,
     "metadata": {},
     "output_type": "execute_result"
    }
   ],
   "source": [
    "y_pred= model.predict(x_test)\n",
    "y_pred"
   ]
  },
  {
   "cell_type": "code",
   "execution_count": 150,
   "id": "d5ad3782",
   "metadata": {},
   "outputs": [
    {
     "data": {
      "text/html": [
       "<div>\n",
       "<style scoped>\n",
       "    .dataframe tbody tr th:only-of-type {\n",
       "        vertical-align: middle;\n",
       "    }\n",
       "\n",
       "    .dataframe tbody tr th {\n",
       "        vertical-align: top;\n",
       "    }\n",
       "\n",
       "    .dataframe thead th {\n",
       "        text-align: right;\n",
       "    }\n",
       "</style>\n",
       "<table border=\"1\" class=\"dataframe\">\n",
       "  <thead>\n",
       "    <tr style=\"text-align: right;\">\n",
       "      <th></th>\n",
       "      <th>Actual</th>\n",
       "      <th>Predicted</th>\n",
       "    </tr>\n",
       "  </thead>\n",
       "  <tbody>\n",
       "    <tr>\n",
       "      <th>21492</th>\n",
       "      <td>1</td>\n",
       "      <td>1</td>\n",
       "    </tr>\n",
       "    <tr>\n",
       "      <th>9488</th>\n",
       "      <td>1</td>\n",
       "      <td>1</td>\n",
       "    </tr>\n",
       "    <tr>\n",
       "      <th>16933</th>\n",
       "      <td>0</td>\n",
       "      <td>0</td>\n",
       "    </tr>\n",
       "    <tr>\n",
       "      <th>12604</th>\n",
       "      <td>0</td>\n",
       "      <td>1</td>\n",
       "    </tr>\n",
       "    <tr>\n",
       "      <th>8222</th>\n",
       "      <td>1</td>\n",
       "      <td>0</td>\n",
       "    </tr>\n",
       "  </tbody>\n",
       "</table>\n",
       "</div>"
      ],
      "text/plain": [
       "       Actual  Predicted\n",
       "21492       1          1\n",
       "9488        1          1\n",
       "16933       0          0\n",
       "12604       0          1\n",
       "8222        1          0"
      ]
     },
     "execution_count": 150,
     "metadata": {},
     "output_type": "execute_result"
    }
   ],
   "source": [
    "pd.DataFrame({'Actual':y_test,'Predicted':y_pred}).head()"
   ]
  },
  {
   "cell_type": "code",
   "execution_count": 151,
   "id": "334fb3be",
   "metadata": {},
   "outputs": [],
   "source": [
    "# validation\n",
    "\n",
    "from sklearn.metrics import accuracy_score, precision_score, recall_score, f1_score,confusion_matrix\n",
    "def validation(test,pred):\n",
    "    print('Confusion matrix \\n', confusion_matrix(test,pred))\n",
    "    print('Accuracy: ', accuracy_score(test,pred))\n",
    "    print('Recall :',recall_score(test,pred))\n",
    "    print('Precision :', precision_score(test,pred))\n",
    "    print('F1 score :', f1_score(test,pred))"
   ]
  },
  {
   "cell_type": "code",
   "execution_count": 152,
   "id": "6373d591",
   "metadata": {},
   "outputs": [
    {
     "name": "stdout",
     "output_type": "stream",
     "text": [
      "Confusion matrix \n",
      " [[ 705 1064]\n",
      " [ 453 2778]]\n",
      "Accuracy:  0.6966\n",
      "Recall : 0.8597957288765088\n",
      "Precision : 0.7230609057782404\n",
      "F1 score : 0.7855224091616003\n"
     ]
    }
   ],
   "source": [
    "validation(y_test,y_pred)"
   ]
  },
  {
   "cell_type": "markdown",
   "id": "05d7d069",
   "metadata": {},
   "source": [
    "## KNN Classifier"
   ]
  },
  {
   "cell_type": "code",
   "execution_count": 153,
   "id": "877f5bc4",
   "metadata": {},
   "outputs": [],
   "source": [
    "from sklearn.preprocessing import StandardScaler\n",
    "sc= StandardScaler()"
   ]
  },
  {
   "cell_type": "code",
   "execution_count": 154,
   "id": "8085cb09",
   "metadata": {},
   "outputs": [],
   "source": [
    "x_train_s = sc.fit_transform(x_train)\n",
    "x_test_s = sc.fit_transform(x_test)"
   ]
  },
  {
   "cell_type": "code",
   "execution_count": 155,
   "id": "53ae8312",
   "metadata": {},
   "outputs": [],
   "source": [
    "from sklearn.neighbors import KNeighborsClassifier\n",
    "model_knn= KNeighborsClassifier(n_neighbors=5)"
   ]
  },
  {
   "cell_type": "code",
   "execution_count": 156,
   "id": "89243f20",
   "metadata": {},
   "outputs": [
    {
     "data": {
      "text/plain": [
       "0.657"
      ]
     },
     "execution_count": 156,
     "metadata": {},
     "output_type": "execute_result"
    }
   ],
   "source": [
    "model_knn.fit(x_train_s,y_train)\n",
    "model_knn.score(x_test,y_test)"
   ]
  },
  {
   "cell_type": "code",
   "execution_count": 157,
   "id": "1ebd6814",
   "metadata": {},
   "outputs": [],
   "source": [
    "y_pred_knn= model_knn.predict(x_test_s)"
   ]
  },
  {
   "cell_type": "code",
   "execution_count": 158,
   "id": "477b9acd",
   "metadata": {},
   "outputs": [
    {
     "data": {
      "text/html": [
       "<div>\n",
       "<style scoped>\n",
       "    .dataframe tbody tr th:only-of-type {\n",
       "        vertical-align: middle;\n",
       "    }\n",
       "\n",
       "    .dataframe tbody tr th {\n",
       "        vertical-align: top;\n",
       "    }\n",
       "\n",
       "    .dataframe thead th {\n",
       "        text-align: right;\n",
       "    }\n",
       "</style>\n",
       "<table border=\"1\" class=\"dataframe\">\n",
       "  <thead>\n",
       "    <tr style=\"text-align: right;\">\n",
       "      <th></th>\n",
       "      <th>Actual</th>\n",
       "      <th>Pred LR</th>\n",
       "      <th>Pred KNN</th>\n",
       "    </tr>\n",
       "  </thead>\n",
       "  <tbody>\n",
       "    <tr>\n",
       "      <th>21492</th>\n",
       "      <td>1</td>\n",
       "      <td>1</td>\n",
       "      <td>1</td>\n",
       "    </tr>\n",
       "    <tr>\n",
       "      <th>9488</th>\n",
       "      <td>1</td>\n",
       "      <td>1</td>\n",
       "      <td>1</td>\n",
       "    </tr>\n",
       "    <tr>\n",
       "      <th>16933</th>\n",
       "      <td>0</td>\n",
       "      <td>0</td>\n",
       "      <td>0</td>\n",
       "    </tr>\n",
       "    <tr>\n",
       "      <th>12604</th>\n",
       "      <td>0</td>\n",
       "      <td>1</td>\n",
       "      <td>1</td>\n",
       "    </tr>\n",
       "    <tr>\n",
       "      <th>8222</th>\n",
       "      <td>1</td>\n",
       "      <td>0</td>\n",
       "      <td>1</td>\n",
       "    </tr>\n",
       "    <tr>\n",
       "      <th>9110</th>\n",
       "      <td>1</td>\n",
       "      <td>1</td>\n",
       "      <td>1</td>\n",
       "    </tr>\n",
       "    <tr>\n",
       "      <th>21196</th>\n",
       "      <td>1</td>\n",
       "      <td>1</td>\n",
       "      <td>1</td>\n",
       "    </tr>\n",
       "    <tr>\n",
       "      <th>17193</th>\n",
       "      <td>1</td>\n",
       "      <td>1</td>\n",
       "      <td>1</td>\n",
       "    </tr>\n",
       "    <tr>\n",
       "      <th>23846</th>\n",
       "      <td>0</td>\n",
       "      <td>1</td>\n",
       "      <td>1</td>\n",
       "    </tr>\n",
       "    <tr>\n",
       "      <th>10415</th>\n",
       "      <td>0</td>\n",
       "      <td>1</td>\n",
       "      <td>1</td>\n",
       "    </tr>\n",
       "  </tbody>\n",
       "</table>\n",
       "</div>"
      ],
      "text/plain": [
       "       Actual  Pred LR  Pred KNN\n",
       "21492       1        1         1\n",
       "9488        1        1         1\n",
       "16933       0        0         0\n",
       "12604       0        1         1\n",
       "8222        1        0         1\n",
       "9110        1        1         1\n",
       "21196       1        1         1\n",
       "17193       1        1         1\n",
       "23846       0        1         1\n",
       "10415       0        1         1"
      ]
     },
     "execution_count": 158,
     "metadata": {},
     "output_type": "execute_result"
    }
   ],
   "source": [
    "pd.DataFrame({\"Actual\":y_test,'Pred LR':y_pred,'Pred KNN':y_pred_knn}).head(10)"
   ]
  },
  {
   "cell_type": "code",
   "execution_count": 159,
   "id": "9fba7c64",
   "metadata": {},
   "outputs": [
    {
     "name": "stdout",
     "output_type": "stream",
     "text": [
      "Confusion matrix \n",
      " [[ 678 1091]\n",
      " [ 706 2525]]\n",
      "Accuracy:  0.6406\n",
      "Recall : 0.7814917982048901\n",
      "Precision : 0.6982853982300885\n",
      "F1 score : 0.7375492916605813\n"
     ]
    }
   ],
   "source": [
    "validation(y_test,y_pred_knn)"
   ]
  },
  {
   "cell_type": "markdown",
   "id": "626b6b73",
   "metadata": {},
   "source": [
    "## Naive Baye's Model"
   ]
  },
  {
   "cell_type": "code",
   "execution_count": 99,
   "id": "8aae7add",
   "metadata": {},
   "outputs": [],
   "source": [
    "from sklearn.naive_bayes import GaussianNB\n",
    "model_nb= GaussianNB()"
   ]
  },
  {
   "cell_type": "code",
   "execution_count": 100,
   "id": "767de421",
   "metadata": {},
   "outputs": [
    {
     "data": {
      "text/plain": [
       "0.6694"
      ]
     },
     "execution_count": 100,
     "metadata": {},
     "output_type": "execute_result"
    }
   ],
   "source": [
    "model_nb.fit(x_train,y_train)\n",
    "model_nb.score(x_test,y_test)"
   ]
  },
  {
   "cell_type": "code",
   "execution_count": 101,
   "id": "f7809bf8",
   "metadata": {},
   "outputs": [],
   "source": [
    "y_pred_nb= model_nb.predict(x_test)"
   ]
  },
  {
   "cell_type": "code",
   "execution_count": 102,
   "id": "b64f951e",
   "metadata": {},
   "outputs": [
    {
     "name": "stdout",
     "output_type": "stream",
     "text": [
      "Confusion matrix \n",
      " [[ 788  981]\n",
      " [ 672 2559]]\n",
      "Accuracy:  0.6694\n",
      "Recall : 0.7920148560817084\n",
      "Precision : 0.7228813559322034\n",
      "F1 score : 0.7558706247230836\n"
     ]
    }
   ],
   "source": [
    "validation(y_test,y_pred_nb)"
   ]
  },
  {
   "cell_type": "markdown",
   "id": "7eb75b13",
   "metadata": {},
   "source": [
    "## Decesion Tree classifier"
   ]
  },
  {
   "cell_type": "code",
   "execution_count": 103,
   "id": "28cb528d",
   "metadata": {},
   "outputs": [],
   "source": [
    "from sklearn.tree import DecisionTreeClassifier\n",
    "model_dt= DecisionTreeClassifier()"
   ]
  },
  {
   "cell_type": "code",
   "execution_count": 104,
   "id": "79e54532",
   "metadata": {},
   "outputs": [],
   "source": [
    "params= {'criterion': ['gini','entropy'],\n",
    "        'max_depth':[3,4,5,6]}"
   ]
  },
  {
   "cell_type": "code",
   "execution_count": 105,
   "id": "32085f00",
   "metadata": {},
   "outputs": [],
   "source": [
    "from sklearn.model_selection import GridSearchCV\n",
    "gscv= GridSearchCV(estimator= model_dt,\n",
    "                  param_grid= params,\n",
    "                  scoring= 'accuracy',\n",
    "                  cv=3,\n",
    "                  verbose=3)"
   ]
  },
  {
   "cell_type": "code",
   "execution_count": 106,
   "id": "8c0bb0c9",
   "metadata": {},
   "outputs": [
    {
     "name": "stdout",
     "output_type": "stream",
     "text": [
      "Fitting 3 folds for each of 8 candidates, totalling 24 fits\n",
      "[CV 1/3] END .......criterion=gini, max_depth=3;, score=0.661 total time=   0.0s\n",
      "[CV 2/3] END .......criterion=gini, max_depth=3;, score=0.668 total time=   0.0s\n",
      "[CV 3/3] END .......criterion=gini, max_depth=3;, score=0.662 total time=   0.0s\n",
      "[CV 1/3] END .......criterion=gini, max_depth=4;, score=0.687 total time=   0.0s\n",
      "[CV 2/3] END .......criterion=gini, max_depth=4;, score=0.683 total time=   0.0s\n",
      "[CV 3/3] END .......criterion=gini, max_depth=4;, score=0.677 total time=   0.0s\n",
      "[CV 1/3] END .......criterion=gini, max_depth=5;, score=0.688 total time=   0.0s\n",
      "[CV 2/3] END .......criterion=gini, max_depth=5;, score=0.682 total time=   0.0s\n",
      "[CV 3/3] END .......criterion=gini, max_depth=5;, score=0.679 total time=   0.0s\n",
      "[CV 1/3] END .......criterion=gini, max_depth=6;, score=0.683 total time=   0.0s\n",
      "[CV 2/3] END .......criterion=gini, max_depth=6;, score=0.679 total time=   0.0s\n",
      "[CV 3/3] END .......criterion=gini, max_depth=6;, score=0.690 total time=   0.0s\n",
      "[CV 1/3] END ....criterion=entropy, max_depth=3;, score=0.661 total time=   0.0s\n",
      "[CV 2/3] END ....criterion=entropy, max_depth=3;, score=0.664 total time=   0.0s\n",
      "[CV 3/3] END ....criterion=entropy, max_depth=3;, score=0.662 total time=   0.0s\n",
      "[CV 1/3] END ....criterion=entropy, max_depth=4;, score=0.687 total time=   0.0s\n",
      "[CV 2/3] END ....criterion=entropy, max_depth=4;, score=0.680 total time=   0.0s\n",
      "[CV 3/3] END ....criterion=entropy, max_depth=4;, score=0.677 total time=   0.0s\n",
      "[CV 1/3] END ....criterion=entropy, max_depth=5;, score=0.688 total time=   0.0s\n",
      "[CV 2/3] END ....criterion=entropy, max_depth=5;, score=0.677 total time=   0.0s\n",
      "[CV 3/3] END ....criterion=entropy, max_depth=5;, score=0.679 total time=   0.0s\n",
      "[CV 1/3] END ....criterion=entropy, max_depth=6;, score=0.683 total time=   0.0s\n",
      "[CV 2/3] END ....criterion=entropy, max_depth=6;, score=0.682 total time=   0.0s\n",
      "[CV 3/3] END ....criterion=entropy, max_depth=6;, score=0.690 total time=   0.0s\n"
     ]
    },
    {
     "data": {
      "text/plain": [
       "GridSearchCV(cv=3, estimator=DecisionTreeClassifier(),\n",
       "             param_grid={'criterion': ['gini', 'entropy'],\n",
       "                         'max_depth': [3, 4, 5, 6]},\n",
       "             scoring='accuracy', verbose=3)"
      ]
     },
     "execution_count": 106,
     "metadata": {},
     "output_type": "execute_result"
    }
   ],
   "source": [
    "gscv.fit(x_train,y_train)"
   ]
  },
  {
   "cell_type": "code",
   "execution_count": 107,
   "id": "8d1ed5a9",
   "metadata": {},
   "outputs": [
    {
     "data": {
      "text/plain": [
       "0.6853002459387981"
      ]
     },
     "execution_count": 107,
     "metadata": {},
     "output_type": "execute_result"
    }
   ],
   "source": [
    "gscv.best_score_"
   ]
  },
  {
   "cell_type": "code",
   "execution_count": 108,
   "id": "aa9e8532",
   "metadata": {},
   "outputs": [
    {
     "data": {
      "text/plain": [
       "{'criterion': 'entropy', 'max_depth': 6}"
      ]
     },
     "execution_count": 108,
     "metadata": {},
     "output_type": "execute_result"
    }
   ],
   "source": [
    "gscv.best_params_"
   ]
  },
  {
   "cell_type": "code",
   "execution_count": 109,
   "id": "309bda40",
   "metadata": {},
   "outputs": [],
   "source": [
    "model_dt = DecisionTreeClassifier(**gscv.best_params_)"
   ]
  },
  {
   "cell_type": "code",
   "execution_count": 110,
   "id": "7f449004",
   "metadata": {},
   "outputs": [
    {
     "data": {
      "text/plain": [
       "DecisionTreeClassifier(criterion='entropy', max_depth=6)"
      ]
     },
     "execution_count": 110,
     "metadata": {},
     "output_type": "execute_result"
    }
   ],
   "source": [
    "model_dt.fit(x_train,y_train)"
   ]
  },
  {
   "cell_type": "code",
   "execution_count": 111,
   "id": "8d6e82c0",
   "metadata": {},
   "outputs": [],
   "source": [
    "y_pred_dt= model_dt.predict(x_test)"
   ]
  },
  {
   "cell_type": "code",
   "execution_count": 112,
   "id": "c04ec44e",
   "metadata": {},
   "outputs": [
    {
     "name": "stdout",
     "output_type": "stream",
     "text": [
      "Confusion matrix \n",
      " [[ 561 1208]\n",
      " [ 345 2886]]\n",
      "Accuracy:  0.6894\n",
      "Recall : 0.89322191272052\n",
      "Precision : 0.7049340498290181\n",
      "F1 score : 0.7879863481228668\n"
     ]
    }
   ],
   "source": [
    "validation(y_test,y_pred_dt)"
   ]
  },
  {
   "cell_type": "code",
   "execution_count": 113,
   "id": "a85a6077",
   "metadata": {},
   "outputs": [
    {
     "data": {
      "image/png": "[encoded data removed]",
      "text/plain": [
       "<Figure size 1440x504 with 1 Axes>"
      ]
     },
     "metadata": {
      "needs_background": "light"
     },
     "output_type": "display_data"
    }
   ],
   "source": [
    "from sklearn import tree\n",
    "plt.figure(figsize=(20,7))\n",
    "tree.plot_tree(model_dt,feature_names=x_test.columns,fontsize=10)\n",
    "plt.show()"
   ]
  },
  {
   "cell_type": "markdown",
   "id": "e87a9fcf",
   "metadata": {},
   "source": [
    "## Random Forest Classifier"
   ]
  },
  {
   "cell_type": "code",
   "execution_count": 114,
   "id": "53f41625",
   "metadata": {},
   "outputs": [],
   "source": [
    "from sklearn.ensemble import RandomForestClassifier\n",
    "model_rf= RandomForestClassifier()"
   ]
  },
  {
   "cell_type": "code",
   "execution_count": 115,
   "id": "1b71decd",
   "metadata": {},
   "outputs": [],
   "source": [
    "params= {'n_estimators':[200,250,300,400],\n",
    "         'criterion':['gini','entropy'],\n",
    "         'max_depth':[4,5,6,7]}"
   ]
  },
  {
   "cell_type": "code",
   "execution_count": 116,
   "id": "72333e85",
   "metadata": {},
   "outputs": [],
   "source": [
    "gscv=GridSearchCV(estimator=model_rf,\n",
    "                 param_grid=params,\n",
    "                 scoring='accuracy',\n",
    "                 cv=2,\n",
    "                 verbose=3)"
   ]
  },
  {
   "cell_type": "code",
   "execution_count": 117,
   "id": "649a301c",
   "metadata": {
    "scrolled": true
   },
   "outputs": [
    {
     "name": "stdout",
     "output_type": "stream",
     "text": [
      "Fitting 2 folds for each of 32 candidates, totalling 64 fits\n",
      "[CV 1/2] END criterion=gini, max_depth=4, n_estimators=200;, score=0.678 total time=   0.4s\n",
      "[CV 2/2] END criterion=gini, max_depth=4, n_estimators=200;, score=0.678 total time=   0.4s\n",
      "[CV 1/2] END criterion=gini, max_depth=4, n_estimators=250;, score=0.679 total time=   0.5s\n",
      "[CV 2/2] END criterion=gini, max_depth=4, n_estimators=250;, score=0.678 total time=   0.5s\n",
      "[CV 1/2] END criterion=gini, max_depth=4, n_estimators=300;, score=0.679 total time=   0.6s\n",
      "[CV 2/2] END criterion=gini, max_depth=4, n_estimators=300;, score=0.679 total time=   0.6s\n",
      "[CV 1/2] END criterion=gini, max_depth=4, n_estimators=400;, score=0.678 total time=   0.9s\n",
      "[CV 2/2] END criterion=gini, max_depth=4, n_estimators=400;, score=0.677 total time=   0.9s\n",
      "[CV 1/2] END criterion=gini, max_depth=5, n_estimators=200;, score=0.683 total time=   0.4s\n",
      "[CV 2/2] END criterion=gini, max_depth=5, n_estimators=200;, score=0.685 total time=   0.4s\n",
      "[CV 1/2] END criterion=gini, max_depth=5, n_estimators=250;, score=0.686 total time=   0.6s\n",
      "[CV 2/2] END criterion=gini, max_depth=5, n_estimators=250;, score=0.685 total time=   0.6s\n",
      "[CV 1/2] END criterion=gini, max_depth=5, n_estimators=300;, score=0.684 total time=   0.7s\n",
      "[CV 2/2] END criterion=gini, max_depth=5, n_estimators=300;, score=0.686 total time=   0.7s\n",
      "[CV 1/2] END criterion=gini, max_depth=5, n_estimators=400;, score=0.685 total time=   1.0s\n",
      "[CV 2/2] END criterion=gini, max_depth=5, n_estimators=400;, score=0.685 total time=   1.0s\n",
      "[CV 1/2] END criterion=gini, max_depth=6, n_estimators=200;, score=0.688 total time=   0.5s\n",
      "[CV 2/2] END criterion=gini, max_depth=6, n_estimators=200;, score=0.688 total time=   0.5s\n",
      "[CV 1/2] END criterion=gini, max_depth=6, n_estimators=250;, score=0.688 total time=   0.6s\n",
      "[CV 2/2] END criterion=gini, max_depth=6, n_estimators=250;, score=0.688 total time=   0.6s\n",
      "[CV 1/2] END criterion=gini, max_depth=6, n_estimators=300;, score=0.686 total time=   0.8s\n",
      "[CV 2/2] END criterion=gini, max_depth=6, n_estimators=300;, score=0.686 total time=   0.8s\n",
      "[CV 1/2] END criterion=gini, max_depth=6, n_estimators=400;, score=0.688 total time=   1.1s\n",
      "[CV 2/2] END criterion=gini, max_depth=6, n_estimators=400;, score=0.688 total time=   1.1s\n",
      "[CV 1/2] END criterion=gini, max_depth=7, n_estimators=200;, score=0.687 total time=   0.5s\n",
      "[CV 2/2] END criterion=gini, max_depth=7, n_estimators=200;, score=0.687 total time=   0.5s\n",
      "[CV 1/2] END criterion=gini, max_depth=7, n_estimators=250;, score=0.689 total time=   0.7s\n",
      "[CV 2/2] END criterion=gini, max_depth=7, n_estimators=250;, score=0.688 total time=   0.7s\n",
      "[CV 1/2] END criterion=gini, max_depth=7, n_estimators=300;, score=0.688 total time=   0.9s\n",
      "[CV 2/2] END criterion=gini, max_depth=7, n_estimators=300;, score=0.688 total time=   0.8s\n",
      "[CV 1/2] END criterion=gini, max_depth=7, n_estimators=400;, score=0.687 total time=   1.2s\n",
      "[CV 2/2] END criterion=gini, max_depth=7, n_estimators=400;, score=0.688 total time=   1.2s\n",
      "[CV 1/2] END criterion=entropy, max_depth=4, n_estimators=200;, score=0.679 total time=   0.4s\n",
      "[CV 2/2] END criterion=entropy, max_depth=4, n_estimators=200;, score=0.679 total time=   0.4s\n",
      "[CV 1/2] END criterion=entropy, max_depth=4, n_estimators=250;, score=0.680 total time=   0.5s\n",
      "[CV 2/2] END criterion=entropy, max_depth=4, n_estimators=250;, score=0.677 total time=   0.5s\n",
      "[CV 1/2] END criterion=entropy, max_depth=4, n_estimators=300;, score=0.678 total time=   0.6s\n",
      "[CV 2/2] END criterion=entropy, max_depth=4, n_estimators=300;, score=0.678 total time=   0.6s\n",
      "[CV 1/2] END criterion=entropy, max_depth=4, n_estimators=400;, score=0.678 total time=   0.9s\n",
      "[CV 2/2] END criterion=entropy, max_depth=4, n_estimators=400;, score=0.677 total time=   0.9s\n",
      "[CV 1/2] END criterion=entropy, max_depth=5, n_estimators=200;, score=0.682 total time=   0.4s\n",
      "[CV 2/2] END criterion=entropy, max_depth=5, n_estimators=200;, score=0.684 total time=   0.4s\n",
      "[CV 1/2] END criterion=entropy, max_depth=5, n_estimators=250;, score=0.686 total time=   0.6s\n",
      "[CV 2/2] END criterion=entropy, max_depth=5, n_estimators=250;, score=0.685 total time=   0.6s\n",
      "[CV 1/2] END criterion=entropy, max_depth=5, n_estimators=300;, score=0.684 total time=   0.7s\n",
      "[CV 2/2] END criterion=entropy, max_depth=5, n_estimators=300;, score=0.685 total time=   0.7s\n",
      "[CV 1/2] END criterion=entropy, max_depth=5, n_estimators=400;, score=0.684 total time=   1.0s\n",
      "[CV 2/2] END criterion=entropy, max_depth=5, n_estimators=400;, score=0.686 total time=   1.0s\n",
      "[CV 1/2] END criterion=entropy, max_depth=6, n_estimators=200;, score=0.687 total time=   0.5s\n",
      "[CV 2/2] END criterion=entropy, max_depth=6, n_estimators=200;, score=0.687 total time=   0.5s\n",
      "[CV 1/2] END criterion=entropy, max_depth=6, n_estimators=250;, score=0.686 total time=   0.6s\n",
      "[CV 2/2] END criterion=entropy, max_depth=6, n_estimators=250;, score=0.687 total time=   0.6s\n",
      "[CV 1/2] END criterion=entropy, max_depth=6, n_estimators=300;, score=0.686 total time=   0.8s\n",
      "[CV 2/2] END criterion=entropy, max_depth=6, n_estimators=300;, score=0.687 total time=   0.8s\n",
      "[CV 1/2] END criterion=entropy, max_depth=6, n_estimators=400;, score=0.687 total time=   1.1s\n",
      "[CV 2/2] END criterion=entropy, max_depth=6, n_estimators=400;, score=0.689 total time=   1.1s\n",
      "[CV 1/2] END criterion=entropy, max_depth=7, n_estimators=200;, score=0.690 total time=   0.5s\n",
      "[CV 2/2] END criterion=entropy, max_depth=7, n_estimators=200;, score=0.689 total time=   0.5s\n",
      "[CV 1/2] END criterion=entropy, max_depth=7, n_estimators=250;, score=0.688 total time=   0.7s\n",
      "[CV 2/2] END criterion=entropy, max_depth=7, n_estimators=250;, score=0.689 total time=   0.7s\n",
      "[CV 1/2] END criterion=entropy, max_depth=7, n_estimators=300;, score=0.689 total time=   0.9s\n",
      "[CV 2/2] END criterion=entropy, max_depth=7, n_estimators=300;, score=0.689 total time=   0.8s\n",
      "[CV 1/2] END criterion=entropy, max_depth=7, n_estimators=400;, score=0.687 total time=   1.2s\n",
      "[CV 2/2] END criterion=entropy, max_depth=7, n_estimators=400;, score=0.689 total time=   1.2s\n"
     ]
    },
    {
     "data": {
      "text/plain": [
       "GridSearchCV(cv=2, estimator=RandomForestClassifier(),\n",
       "             param_grid={'criterion': ['gini', 'entropy'],\n",
       "                         'max_depth': [4, 5, 6, 7],\n",
       "                         'n_estimators': [200, 250, 300, 400]},\n",
       "             scoring='accuracy', verbose=3)"
      ]
     },
     "execution_count": 117,
     "metadata": {},
     "output_type": "execute_result"
    }
   ],
   "source": [
    "gscv.fit(x_train,y_train)"
   ]
  },
  {
   "cell_type": "code",
   "execution_count": 118,
   "id": "cb337971",
   "metadata": {},
   "outputs": [
    {
     "data": {
      "text/plain": [
       "0.6893499999999999"
      ]
     },
     "execution_count": 118,
     "metadata": {},
     "output_type": "execute_result"
    }
   ],
   "source": [
    "gscv.best_score_"
   ]
  },
  {
   "cell_type": "code",
   "execution_count": 119,
   "id": "7f96ee37",
   "metadata": {},
   "outputs": [
    {
     "data": {
      "text/plain": [
       "{'criterion': 'entropy', 'max_depth': 7, 'n_estimators': 200}"
      ]
     },
     "execution_count": 119,
     "metadata": {},
     "output_type": "execute_result"
    }
   ],
   "source": [
    "gscv.best_params_"
   ]
  },
  {
   "cell_type": "code",
   "execution_count": 120,
   "id": "8034802f",
   "metadata": {},
   "outputs": [],
   "source": [
    "model_rf = RandomForestClassifier(**gscv.best_params_)"
   ]
  },
  {
   "cell_type": "code",
   "execution_count": 121,
   "id": "3572afa5",
   "metadata": {},
   "outputs": [
    {
     "data": {
      "text/plain": [
       "RandomForestClassifier(criterion='entropy', max_depth=7, n_estimators=200)"
      ]
     },
     "execution_count": 121,
     "metadata": {},
     "output_type": "execute_result"
    }
   ],
   "source": [
    "model_rf.fit(x_train,y_train)"
   ]
  },
  {
   "cell_type": "code",
   "execution_count": 122,
   "id": "90a0e1c7",
   "metadata": {},
   "outputs": [],
   "source": [
    "y_pred_rf= model_rf.predict(x_test)"
   ]
  },
  {
   "cell_type": "code",
   "execution_count": 123,
   "id": "b1913047",
   "metadata": {},
   "outputs": [
    {
     "name": "stdout",
     "output_type": "stream",
     "text": [
      "Confusion matrix \n",
      " [[ 555 1214]\n",
      " [ 297 2934]]\n",
      "Accuracy:  0.6978\n",
      "Recall : 0.9080779944289693\n",
      "Precision : 0.7073288331726133\n",
      "F1 score : 0.7952297059222118\n"
     ]
    }
   ],
   "source": [
    "validation(y_test,y_pred_rf)"
   ]
  },
  {
   "cell_type": "markdown",
   "id": "9de4f23d",
   "metadata": {},
   "source": [
    "## ADA Boosting"
   ]
  },
  {
   "cell_type": "code",
   "execution_count": 124,
   "id": "4565ae9c",
   "metadata": {},
   "outputs": [],
   "source": [
    "from sklearn.ensemble import AdaBoostClassifier\n",
    "model_ada= AdaBoostClassifier()"
   ]
  },
  {
   "cell_type": "code",
   "execution_count": 125,
   "id": "b6acb154",
   "metadata": {},
   "outputs": [],
   "source": [
    "params={'n_estimators':[100,150,200,250,300,400],\n",
    "       'learning_rate':[0.001,0.1]}\n",
    "\n",
    "gscv=GridSearchCV(estimator=model_ada,\n",
    "                 param_grid=params,\n",
    "                 scoring='accuracy',\n",
    "                 cv=3,\n",
    "                 verbose=3)"
   ]
  },
  {
   "cell_type": "code",
   "execution_count": 126,
   "id": "383f0395",
   "metadata": {
    "scrolled": true
   },
   "outputs": [
    {
     "name": "stdout",
     "output_type": "stream",
     "text": [
      "Fitting 3 folds for each of 12 candidates, totalling 36 fits\n",
      "[CV 1/3] END learning_rate=0.001, n_estimators=100;, score=0.634 total time=   0.3s\n",
      "[CV 2/3] END learning_rate=0.001, n_estimators=100;, score=0.634 total time=   0.3s\n",
      "[CV 3/3] END learning_rate=0.001, n_estimators=100;, score=0.634 total time=   0.3s\n",
      "[CV 1/3] END learning_rate=0.001, n_estimators=150;, score=0.634 total time=   0.6s\n",
      "[CV 2/3] END learning_rate=0.001, n_estimators=150;, score=0.634 total time=   0.5s\n",
      "[CV 3/3] END learning_rate=0.001, n_estimators=150;, score=0.634 total time=   0.6s\n",
      "[CV 1/3] END learning_rate=0.001, n_estimators=200;, score=0.634 total time=   0.8s\n",
      "[CV 2/3] END learning_rate=0.001, n_estimators=200;, score=0.634 total time=   0.8s\n",
      "[CV 3/3] END learning_rate=0.001, n_estimators=200;, score=0.634 total time=   0.8s\n",
      "[CV 1/3] END learning_rate=0.001, n_estimators=250;, score=0.634 total time=   1.0s\n",
      "[CV 2/3] END learning_rate=0.001, n_estimators=250;, score=0.634 total time=   1.0s\n",
      "[CV 3/3] END learning_rate=0.001, n_estimators=250;, score=0.634 total time=   1.0s\n",
      "[CV 1/3] END learning_rate=0.001, n_estimators=300;, score=0.634 total time=   1.2s\n",
      "[CV 2/3] END learning_rate=0.001, n_estimators=300;, score=0.634 total time=   1.2s\n",
      "[CV 3/3] END learning_rate=0.001, n_estimators=300;, score=0.634 total time=   1.4s\n",
      "[CV 1/3] END learning_rate=0.001, n_estimators=400;, score=0.634 total time=   1.6s\n",
      "[CV 2/3] END learning_rate=0.001, n_estimators=400;, score=0.634 total time=   1.6s\n",
      "[CV 3/3] END learning_rate=0.001, n_estimators=400;, score=0.634 total time=   1.6s\n",
      "[CV 1/3] END learning_rate=0.1, n_estimators=100;, score=0.693 total time=   0.4s\n",
      "[CV 2/3] END learning_rate=0.1, n_estimators=100;, score=0.691 total time=   0.3s\n",
      "[CV 3/3] END learning_rate=0.1, n_estimators=100;, score=0.688 total time=   0.3s\n",
      "[CV 1/3] END learning_rate=0.1, n_estimators=150;, score=0.693 total time=   0.6s\n",
      "[CV 2/3] END learning_rate=0.1, n_estimators=150;, score=0.689 total time=   0.6s\n",
      "[CV 3/3] END learning_rate=0.1, n_estimators=150;, score=0.692 total time=   0.5s\n",
      "[CV 1/3] END learning_rate=0.1, n_estimators=200;, score=0.693 total time=   0.8s\n",
      "[CV 2/3] END learning_rate=0.1, n_estimators=200;, score=0.687 total time=   0.8s\n",
      "[CV 3/3] END learning_rate=0.1, n_estimators=200;, score=0.693 total time=   0.8s\n",
      "[CV 1/3] END learning_rate=0.1, n_estimators=250;, score=0.693 total time=   1.0s\n",
      "[CV 2/3] END learning_rate=0.1, n_estimators=250;, score=0.686 total time=   1.0s\n",
      "[CV 3/3] END learning_rate=0.1, n_estimators=250;, score=0.692 total time=   1.0s\n",
      "[CV 1/3] END learning_rate=0.1, n_estimators=300;, score=0.692 total time=   1.2s\n",
      "[CV 2/3] END learning_rate=0.1, n_estimators=300;, score=0.686 total time=   1.2s\n",
      "[CV 3/3] END learning_rate=0.1, n_estimators=300;, score=0.693 total time=   1.2s\n",
      "[CV 1/3] END learning_rate=0.1, n_estimators=400;, score=0.691 total time=   1.7s\n",
      "[CV 2/3] END learning_rate=0.1, n_estimators=400;, score=0.685 total time=   1.8s\n",
      "[CV 3/3] END learning_rate=0.1, n_estimators=400;, score=0.694 total time=   2.2s\n"
     ]
    },
    {
     "data": {
      "text/plain": [
       "GridSearchCV(cv=3, estimator=AdaBoostClassifier(),\n",
       "             param_grid={'learning_rate': [0.001, 0.1],\n",
       "                         'n_estimators': [100, 150, 200, 250, 300, 400]},\n",
       "             scoring='accuracy', verbose=3)"
      ]
     },
     "execution_count": 126,
     "metadata": {},
     "output_type": "execute_result"
    }
   ],
   "source": [
    "gscv.fit(x_train,y_train)"
   ]
  },
  {
   "cell_type": "code",
   "execution_count": 127,
   "id": "e7581081",
   "metadata": {},
   "outputs": [
    {
     "data": {
      "text/plain": [
       "0.6912500534589233"
      ]
     },
     "execution_count": 127,
     "metadata": {},
     "output_type": "execute_result"
    }
   ],
   "source": [
    "gscv.best_score_"
   ]
  },
  {
   "cell_type": "code",
   "execution_count": 128,
   "id": "1b50536a",
   "metadata": {},
   "outputs": [
    {
     "data": {
      "text/plain": [
       "{'learning_rate': 0.1, 'n_estimators': 150}"
      ]
     },
     "execution_count": 128,
     "metadata": {},
     "output_type": "execute_result"
    }
   ],
   "source": [
    "gscv.best_params_"
   ]
  },
  {
   "cell_type": "code",
   "execution_count": 129,
   "id": "3d11fecc",
   "metadata": {},
   "outputs": [
    {
     "data": {
      "text/plain": [
       "AdaBoostClassifier(learning_rate=0.1, n_estimators=150)"
      ]
     },
     "execution_count": 129,
     "metadata": {},
     "output_type": "execute_result"
    }
   ],
   "source": [
    "model_ada = AdaBoostClassifier(**gscv.best_params_)\n",
    "model_ada.fit(x_train,y_train)"
   ]
  },
  {
   "cell_type": "code",
   "execution_count": 130,
   "id": "9669413f",
   "metadata": {},
   "outputs": [],
   "source": [
    "y_pred_ada= model_ada.predict(x_test)"
   ]
  },
  {
   "cell_type": "code",
   "execution_count": 131,
   "id": "7e1641a9",
   "metadata": {},
   "outputs": [
    {
     "name": "stdout",
     "output_type": "stream",
     "text": [
      "Confusion matrix \n",
      " [[ 623 1146]\n",
      " [ 363 2868]]\n",
      "Accuracy:  0.6982\n",
      "Recall : 0.8876508820798514\n",
      "Precision : 0.7144992526158446\n",
      "F1 score : 0.7917184265010352\n"
     ]
    }
   ],
   "source": [
    "validation(y_test,y_pred_ada)"
   ]
  },
  {
   "cell_type": "code",
   "execution_count": 160,
   "id": "16416fc0",
   "metadata": {},
   "outputs": [
    {
     "name": "stdout",
     "output_type": "stream",
     "text": [
      "Accuracy\t \t 0.6966\n",
      "KNN Accuracy\t \t 0.6406\n",
      "Naive baye's Accuracy\t 0.6694\n",
      "Decision Tree Accuracy\t 0.6894\n",
      "Random Forest Accuracy\t 0.6978\n",
      "Ada Boosting Accuracy\t 0.6982\n"
     ]
    }
   ],
   "source": [
    "print('Accuracy\\t \\t',accuracy_score(y_test,y_pred))\n",
    "print('KNN Accuracy\\t \\t',accuracy_score(y_test,y_pred_knn))\n",
    "print(\"Naive baye's Accuracy\\t\",accuracy_score(y_test,y_pred_nb))\n",
    "print(\"Decision Tree Accuracy\\t\",accuracy_score(y_test,y_pred_dt))\n",
    "print(\"Random Forest Accuracy\\t\",accuracy_score(y_test,y_pred_rf))\n",
    "print(\"Ada Boosting Accuracy\\t\",accuracy_score(y_test,y_pred_ada))"
   ]
  },
  {
   "cell_type": "code",
   "execution_count": null,
   "id": "7dfdd0b6",
   "metadata": {},
   "outputs": [],
   "source": []
  }
 ],
 "metadata": {
  "kernelspec": {
   "display_name": "Python 3 (ipykernel)",
   "language": "python",
   "name": "python3"
  },
  "language_info": {
   "codemirror_mode": {
    "name": "ipython",
    "version": 3
   },
   "file_extension": ".py",
   "mimetype": "text/x-python",
   "name": "python",
   "nbconvert_exporter": "python",
   "pygments_lexer": "ipython3",
   "version": "3.9.12"
  }
 },
 "nbformat": 4,
 "nbformat_minor": 5
}
